{
 "cells": [
  {
   "cell_type": "markdown",
   "id": "04ee4fbe",
   "metadata": {},
   "source": [
    "# Analysis on secondary dataset - Makaan"
   ]
  },
  {
   "cell_type": "code",
   "execution_count": 1,
   "id": "48c405e4",
   "metadata": {},
   "outputs": [],
   "source": [
    "# !pip install --upgrade dtale\n",
    "# !pip install --upgrade jinja2"
   ]
  },
  {
   "cell_type": "code",
   "execution_count": 2,
   "id": "38675692",
   "metadata": {},
   "outputs": [],
   "source": [
    "%matplotlib inline\n",
    "import numpy as np\n",
    "import pandas as pd\n",
    "import re\n",
    "import ast\n",
    "import warnings\n",
    "warnings.filterwarnings('ignore')\n",
    "import seaborn as sns\n",
    "import matplotlib.pyplot as plt\n",
    "import seaborn as sns\n",
    "import dtale\n",
    "import statsmodels.api as sm\n",
    "from sklearn.preprocessing import StandardScaler\n",
    "from sklearn.linear_model import LinearRegression\n",
    "from sklearn.tree import DecisionTreeRegressor\n",
    "from sklearn.ensemble import RandomForestRegressor\n",
    "from sklearn.model_selection import train_test_split\n",
    "from sklearn.metrics import r2_score, mean_absolute_error, mean_absolute_percentage_error\n",
    "from sklearn.preprocessing import LabelEncoder\n",
    "from sklearn.decomposition import FactorAnalysis\n",
    "from statsmodels.stats.outliers_influence import variance_inflation_factor\n",
    "from factor_analyzer import calculate_bartlett_sphericity\n",
    "from factor_analyzer import calculate_kmo\n",
    "from statsmodels.graphics.gofplots import qqplot\n",
    "from scipy.stats import shapiro, levene\n",
    "from statsmodels.stats.diagnostic import acorr_ljungbox"
   ]
  },
  {
   "cell_type": "markdown",
   "id": "2648d544",
   "metadata": {},
   "source": [
    "### Reading Dataset"
   ]
  },
  {
   "cell_type": "code",
   "execution_count": 3,
   "id": "f5d91323",
   "metadata": {},
   "outputs": [
    {
     "data": {
      "text/html": [
       "<div>\n",
       "<style scoped>\n",
       "    .dataframe tbody tr th:only-of-type {\n",
       "        vertical-align: middle;\n",
       "    }\n",
       "\n",
       "    .dataframe tbody tr th {\n",
       "        vertical-align: top;\n",
       "    }\n",
       "\n",
       "    .dataframe thead th {\n",
       "        text-align: right;\n",
       "    }\n",
       "</style>\n",
       "<table border=\"1\" class=\"dataframe\">\n",
       "  <thead>\n",
       "    <tr style=\"text-align: right;\">\n",
       "      <th></th>\n",
       "      <th>Title</th>\n",
       "      <th>Address</th>\n",
       "      <th>Type</th>\n",
       "      <th>Floorsize</th>\n",
       "      <th>Carpet_area</th>\n",
       "      <th>Price_per_sqft</th>\n",
       "      <th>Price</th>\n",
       "      <th>Status</th>\n",
       "      <th>No_Of_Bathrooms</th>\n",
       "      <th>Is_new</th>\n",
       "      <th>Description</th>\n",
       "      <th>Facing</th>\n",
       "      <th>Furnishing_status</th>\n",
       "      <th>Locality</th>\n",
       "      <th>About_locality</th>\n",
       "      <th>Amenities_list</th>\n",
       "    </tr>\n",
       "  </thead>\n",
       "  <tbody>\n",
       "    <tr>\n",
       "      <th>0</th>\n",
       "      <td>2088 sq ft West facing Plot for sale at Rs 10....</td>\n",
       "      <td>Dadar West, Mumbai</td>\n",
       "      <td>Residential Plot</td>\n",
       "      <td>2,088 sq ft</td>\n",
       "      <td>NaN</td>\n",
       "      <td>525/ sq ft the price/ sq ft of this property i...</td>\n",
       "      <td>1096200</td>\n",
       "      <td>Ready to move</td>\n",
       "      <td>NaN</td>\n",
       "      <td>New</td>\n",
       "      <td>A plot is available at a prime location in Dad...</td>\n",
       "      <td>West</td>\n",
       "      <td>Unfurnished</td>\n",
       "      <td>Dadar West</td>\n",
       "      <td>About locality: Dadar West9.9Locality ScoreDad...</td>\n",
       "      <td>['Wardrobe']</td>\n",
       "    </tr>\n",
       "    <tr>\n",
       "      <th>1</th>\n",
       "      <td>1089 sq ft South facing Plot for sale at Rs 2....</td>\n",
       "      <td>Dadar West, Mumbai</td>\n",
       "      <td>Residential Plot</td>\n",
       "      <td>1,089 sq ft</td>\n",
       "      <td>NaN</td>\n",
       "      <td>266/ sq ft the price/ sq ft of this property i...</td>\n",
       "      <td>290000</td>\n",
       "      <td>Ready to move</td>\n",
       "      <td>NaN</td>\n",
       "      <td>New</td>\n",
       "      <td>A plot is available at a prime location in Dad...</td>\n",
       "      <td>South</td>\n",
       "      <td>Unfurnished</td>\n",
       "      <td>Dadar West</td>\n",
       "      <td>About locality: Dadar West9.9Locality ScoreDad...</td>\n",
       "      <td>['Gymnasium']</td>\n",
       "    </tr>\n",
       "    <tr>\n",
       "      <th>2</th>\n",
       "      <td>1088 sq ft Completed property Plot for sale at...</td>\n",
       "      <td>Bandra West, Mumbai</td>\n",
       "      <td>Residential Plot</td>\n",
       "      <td>1,088 sq ft</td>\n",
       "      <td>NaN</td>\n",
       "      <td>22,977/ sq ft the price/ sq ft of this propert...</td>\n",
       "      <td>25000000</td>\n",
       "      <td>Ready to move</td>\n",
       "      <td>NaN</td>\n",
       "      <td>Resale</td>\n",
       "      <td>This plot is situated in Bandra West. It has a...</td>\n",
       "      <td>NaN</td>\n",
       "      <td>Unfurnished</td>\n",
       "      <td>Bandra West</td>\n",
       "      <td>About locality: Bandra West9.8Locality ScoreBa...</td>\n",
       "      <td>[\"Children's play area\"]</td>\n",
       "    </tr>\n",
       "    <tr>\n",
       "      <th>3</th>\n",
       "      <td>7830 sq ft East facing Plot for sale at Rs 70....</td>\n",
       "      <td>Bandra West, Mumbai</td>\n",
       "      <td>Residential Plot</td>\n",
       "      <td>7,830 sq ft</td>\n",
       "      <td>NaN</td>\n",
       "      <td>89,399/ sq ft the price/ sq ft of this propert...</td>\n",
       "      <td>700000000</td>\n",
       "      <td>Ready to move</td>\n",
       "      <td>NaN</td>\n",
       "      <td>New</td>\n",
       "      <td>Property located in Turner one of the premium ...</td>\n",
       "      <td>East</td>\n",
       "      <td>Unfurnished</td>\n",
       "      <td>Bandra West</td>\n",
       "      <td>About locality: Bandra West9.8Locality ScoreBa...</td>\n",
       "      <td>['Lift(s)']</td>\n",
       "    </tr>\n",
       "    <tr>\n",
       "      <th>4</th>\n",
       "      <td>6471 sq ft Completed property Plot for sale at...</td>\n",
       "      <td>Bandra West, Mumbai</td>\n",
       "      <td>Residential Plot</td>\n",
       "      <td>6,471 sq ft</td>\n",
       "      <td>NaN</td>\n",
       "      <td>49,451/ sq ft the price/ sq ft of this propert...</td>\n",
       "      <td>320000000</td>\n",
       "      <td>Ready to move</td>\n",
       "      <td>NaN</td>\n",
       "      <td>New</td>\n",
       "      <td>719 Square yard Plot for sale in Bandra West, ...</td>\n",
       "      <td>NaN</td>\n",
       "      <td>Unfurnished</td>\n",
       "      <td>Bandra West</td>\n",
       "      <td>About locality: Bandra West9.8Locality ScoreBa...</td>\n",
       "      <td>['AC']</td>\n",
       "    </tr>\n",
       "  </tbody>\n",
       "</table>\n",
       "</div>"
      ],
      "text/plain": [
       "                                               Title              Address  \\\n",
       "0  2088 sq ft West facing Plot for sale at Rs 10....   Dadar West, Mumbai   \n",
       "1  1089 sq ft South facing Plot for sale at Rs 2....   Dadar West, Mumbai   \n",
       "2  1088 sq ft Completed property Plot for sale at...  Bandra West, Mumbai   \n",
       "3  7830 sq ft East facing Plot for sale at Rs 70....  Bandra West, Mumbai   \n",
       "4  6471 sq ft Completed property Plot for sale at...  Bandra West, Mumbai   \n",
       "\n",
       "                 Type    Floorsize Carpet_area  \\\n",
       "0   Residential Plot   2,088 sq ft         NaN   \n",
       "1   Residential Plot   1,089 sq ft         NaN   \n",
       "2   Residential Plot   1,088 sq ft         NaN   \n",
       "3   Residential Plot   7,830 sq ft         NaN   \n",
       "4   Residential Plot   6,471 sq ft         NaN   \n",
       "\n",
       "                                      Price_per_sqft      Price  \\\n",
       "0  525/ sq ft the price/ sq ft of this property i...    1096200   \n",
       "1  266/ sq ft the price/ sq ft of this property i...     290000   \n",
       "2  22,977/ sq ft the price/ sq ft of this propert...   25000000   \n",
       "3  89,399/ sq ft the price/ sq ft of this propert...  700000000   \n",
       "4  49,451/ sq ft the price/ sq ft of this propert...  320000000   \n",
       "\n",
       "          Status  No_Of_Bathrooms  Is_new  \\\n",
       "0  Ready to move              NaN     New   \n",
       "1  Ready to move              NaN     New   \n",
       "2  Ready to move              NaN  Resale   \n",
       "3  Ready to move              NaN     New   \n",
       "4  Ready to move              NaN     New   \n",
       "\n",
       "                                         Description Facing Furnishing_status  \\\n",
       "0  A plot is available at a prime location in Dad...   West       Unfurnished   \n",
       "1  A plot is available at a prime location in Dad...  South       Unfurnished   \n",
       "2  This plot is situated in Bandra West. It has a...    NaN       Unfurnished   \n",
       "3  Property located in Turner one of the premium ...   East       Unfurnished   \n",
       "4  719 Square yard Plot for sale in Bandra West, ...    NaN       Unfurnished   \n",
       "\n",
       "      Locality                                     About_locality  \\\n",
       "0   Dadar West  About locality: Dadar West9.9Locality ScoreDad...   \n",
       "1   Dadar West  About locality: Dadar West9.9Locality ScoreDad...   \n",
       "2  Bandra West  About locality: Bandra West9.8Locality ScoreBa...   \n",
       "3  Bandra West  About locality: Bandra West9.8Locality ScoreBa...   \n",
       "4  Bandra West  About locality: Bandra West9.8Locality ScoreBa...   \n",
       "\n",
       "             Amenities_list  \n",
       "0              ['Wardrobe']  \n",
       "1             ['Gymnasium']  \n",
       "2  [\"Children's play area\"]  \n",
       "3               ['Lift(s)']  \n",
       "4                    ['AC']  "
      ]
     },
     "execution_count": 3,
     "metadata": {},
     "output_type": "execute_result"
    }
   ],
   "source": [
    "df = pd.read_csv(\"Data/Major project - Sec_Data.csv\")\n",
    "df.head()"
   ]
  },
  {
   "cell_type": "markdown",
   "id": "5c25bb72",
   "metadata": {},
   "source": [
    "### Data Cleaning"
   ]
  },
  {
   "cell_type": "code",
   "execution_count": 4,
   "id": "fbe3fc37",
   "metadata": {},
   "outputs": [
    {
     "data": {
      "text/plain": [
       "(8882, 16)"
      ]
     },
     "execution_count": 4,
     "metadata": {},
     "output_type": "execute_result"
    }
   ],
   "source": [
    "df.shape"
   ]
  },
  {
   "cell_type": "markdown",
   "id": "f678bd7d",
   "metadata": {},
   "source": [
    "### Dropping unnecessary columns"
   ]
  },
  {
   "cell_type": "code",
   "execution_count": 5,
   "id": "b1fc9116",
   "metadata": {},
   "outputs": [],
   "source": [
    "df.drop(columns=['Title'], inplace=True)"
   ]
  },
  {
   "cell_type": "markdown",
   "id": "f9fc79d7",
   "metadata": {},
   "source": [
    "### Data types of each variable in data"
   ]
  },
  {
   "cell_type": "code",
   "execution_count": 6,
   "id": "7071b3a5",
   "metadata": {},
   "outputs": [
    {
     "name": "stdout",
     "output_type": "stream",
     "text": [
      "<class 'pandas.core.frame.DataFrame'>\n",
      "RangeIndex: 8882 entries, 0 to 8881\n",
      "Data columns (total 15 columns):\n",
      " #   Column             Non-Null Count  Dtype  \n",
      "---  ------             --------------  -----  \n",
      " 0   Address            8882 non-null   object \n",
      " 1   Type               8882 non-null   object \n",
      " 2   Floorsize          8882 non-null   object \n",
      " 3   Carpet_area        6382 non-null   object \n",
      " 4   Price_per_sqft     8661 non-null   object \n",
      " 5   Price              8882 non-null   int64  \n",
      " 6   Status             8882 non-null   object \n",
      " 7   No_Of_Bathrooms    6884 non-null   float64\n",
      " 8   Is_new             7993 non-null   object \n",
      " 9   Description        8810 non-null   object \n",
      " 10  Facing             5367 non-null   object \n",
      " 11  Furnishing_status  8882 non-null   object \n",
      " 12  Locality           8882 non-null   object \n",
      " 13  About_locality     5226 non-null   object \n",
      " 14  Amenities_list     8881 non-null   object \n",
      "dtypes: float64(1), int64(1), object(13)\n",
      "memory usage: 1.0+ MB\n"
     ]
    }
   ],
   "source": [
    "df.info()"
   ]
  },
  {
   "cell_type": "markdown",
   "id": "80895ceb",
   "metadata": {},
   "source": [
    "### Extracting and converting columns into required Type"
   ]
  },
  {
   "cell_type": "code",
   "execution_count": 7,
   "id": "18d80696",
   "metadata": {},
   "outputs": [],
   "source": [
    "df['Type'] = df['Type'].str.extract(r'(\\d{1,2})').apply(pd.to_numeric)\n",
    "df['Floorsize'] = df['Floorsize'].str.replace(',','').str.extract(r\"(\\d+)\").apply(pd.to_numeric)\n",
    "df['Carpet_area'] = df['Carpet_area'].str.extract(r\"(\\d+)\").apply(pd.to_numeric)\n",
    "df['Price_per_sqft'] = df['Price_per_sqft'].str.replace(',','').str.extract(r\"(\\d+)\").apply(pd.to_numeric)\n",
    "df['Area_rating'] = df['About_locality'].str.extract(r\"(\\d+.?\\d{1})\").apply(pd.to_numeric)"
   ]
  },
  {
   "cell_type": "code",
   "execution_count": 8,
   "id": "9fcfcff6",
   "metadata": {},
   "outputs": [
    {
     "data": {
      "text/html": [
       "<div>\n",
       "<style scoped>\n",
       "    .dataframe tbody tr th:only-of-type {\n",
       "        vertical-align: middle;\n",
       "    }\n",
       "\n",
       "    .dataframe tbody tr th {\n",
       "        vertical-align: top;\n",
       "    }\n",
       "\n",
       "    .dataframe thead th {\n",
       "        text-align: right;\n",
       "    }\n",
       "</style>\n",
       "<table border=\"1\" class=\"dataframe\">\n",
       "  <thead>\n",
       "    <tr style=\"text-align: right;\">\n",
       "      <th></th>\n",
       "      <th>Address</th>\n",
       "      <th>Type</th>\n",
       "      <th>Floorsize</th>\n",
       "      <th>Carpet_area</th>\n",
       "      <th>Price_per_sqft</th>\n",
       "      <th>Price</th>\n",
       "      <th>Status</th>\n",
       "      <th>No_Of_Bathrooms</th>\n",
       "      <th>Is_new</th>\n",
       "      <th>Description</th>\n",
       "      <th>Facing</th>\n",
       "      <th>Furnishing_status</th>\n",
       "      <th>Locality</th>\n",
       "      <th>About_locality</th>\n",
       "      <th>Amenities_list</th>\n",
       "      <th>Area_rating</th>\n",
       "    </tr>\n",
       "  </thead>\n",
       "  <tbody>\n",
       "    <tr>\n",
       "      <th>0</th>\n",
       "      <td>Dadar West, Mumbai</td>\n",
       "      <td>NaN</td>\n",
       "      <td>2088</td>\n",
       "      <td>NaN</td>\n",
       "      <td>525.0</td>\n",
       "      <td>1096200</td>\n",
       "      <td>Ready to move</td>\n",
       "      <td>NaN</td>\n",
       "      <td>New</td>\n",
       "      <td>A plot is available at a prime location in Dad...</td>\n",
       "      <td>West</td>\n",
       "      <td>Unfurnished</td>\n",
       "      <td>Dadar West</td>\n",
       "      <td>About locality: Dadar West9.9Locality ScoreDad...</td>\n",
       "      <td>['Wardrobe']</td>\n",
       "      <td>9.9</td>\n",
       "    </tr>\n",
       "    <tr>\n",
       "      <th>1</th>\n",
       "      <td>Dadar West, Mumbai</td>\n",
       "      <td>NaN</td>\n",
       "      <td>1089</td>\n",
       "      <td>NaN</td>\n",
       "      <td>266.0</td>\n",
       "      <td>290000</td>\n",
       "      <td>Ready to move</td>\n",
       "      <td>NaN</td>\n",
       "      <td>New</td>\n",
       "      <td>A plot is available at a prime location in Dad...</td>\n",
       "      <td>South</td>\n",
       "      <td>Unfurnished</td>\n",
       "      <td>Dadar West</td>\n",
       "      <td>About locality: Dadar West9.9Locality ScoreDad...</td>\n",
       "      <td>['Gymnasium']</td>\n",
       "      <td>9.9</td>\n",
       "    </tr>\n",
       "    <tr>\n",
       "      <th>2</th>\n",
       "      <td>Bandra West, Mumbai</td>\n",
       "      <td>NaN</td>\n",
       "      <td>1088</td>\n",
       "      <td>NaN</td>\n",
       "      <td>22977.0</td>\n",
       "      <td>25000000</td>\n",
       "      <td>Ready to move</td>\n",
       "      <td>NaN</td>\n",
       "      <td>Resale</td>\n",
       "      <td>This plot is situated in Bandra West. It has a...</td>\n",
       "      <td>NaN</td>\n",
       "      <td>Unfurnished</td>\n",
       "      <td>Bandra West</td>\n",
       "      <td>About locality: Bandra West9.8Locality ScoreBa...</td>\n",
       "      <td>[\"Children's play area\"]</td>\n",
       "      <td>9.8</td>\n",
       "    </tr>\n",
       "    <tr>\n",
       "      <th>3</th>\n",
       "      <td>Bandra West, Mumbai</td>\n",
       "      <td>NaN</td>\n",
       "      <td>7830</td>\n",
       "      <td>NaN</td>\n",
       "      <td>89399.0</td>\n",
       "      <td>700000000</td>\n",
       "      <td>Ready to move</td>\n",
       "      <td>NaN</td>\n",
       "      <td>New</td>\n",
       "      <td>Property located in Turner one of the premium ...</td>\n",
       "      <td>East</td>\n",
       "      <td>Unfurnished</td>\n",
       "      <td>Bandra West</td>\n",
       "      <td>About locality: Bandra West9.8Locality ScoreBa...</td>\n",
       "      <td>['Lift(s)']</td>\n",
       "      <td>9.8</td>\n",
       "    </tr>\n",
       "    <tr>\n",
       "      <th>4</th>\n",
       "      <td>Bandra West, Mumbai</td>\n",
       "      <td>NaN</td>\n",
       "      <td>6471</td>\n",
       "      <td>NaN</td>\n",
       "      <td>49451.0</td>\n",
       "      <td>320000000</td>\n",
       "      <td>Ready to move</td>\n",
       "      <td>NaN</td>\n",
       "      <td>New</td>\n",
       "      <td>719 Square yard Plot for sale in Bandra West, ...</td>\n",
       "      <td>NaN</td>\n",
       "      <td>Unfurnished</td>\n",
       "      <td>Bandra West</td>\n",
       "      <td>About locality: Bandra West9.8Locality ScoreBa...</td>\n",
       "      <td>['AC']</td>\n",
       "      <td>9.8</td>\n",
       "    </tr>\n",
       "  </tbody>\n",
       "</table>\n",
       "</div>"
      ],
      "text/plain": [
       "               Address  Type  Floorsize  Carpet_area  Price_per_sqft  \\\n",
       "0   Dadar West, Mumbai   NaN       2088          NaN           525.0   \n",
       "1   Dadar West, Mumbai   NaN       1089          NaN           266.0   \n",
       "2  Bandra West, Mumbai   NaN       1088          NaN         22977.0   \n",
       "3  Bandra West, Mumbai   NaN       7830          NaN         89399.0   \n",
       "4  Bandra West, Mumbai   NaN       6471          NaN         49451.0   \n",
       "\n",
       "       Price         Status  No_Of_Bathrooms  Is_new  \\\n",
       "0    1096200  Ready to move              NaN     New   \n",
       "1     290000  Ready to move              NaN     New   \n",
       "2   25000000  Ready to move              NaN  Resale   \n",
       "3  700000000  Ready to move              NaN     New   \n",
       "4  320000000  Ready to move              NaN     New   \n",
       "\n",
       "                                         Description Facing Furnishing_status  \\\n",
       "0  A plot is available at a prime location in Dad...   West       Unfurnished   \n",
       "1  A plot is available at a prime location in Dad...  South       Unfurnished   \n",
       "2  This plot is situated in Bandra West. It has a...    NaN       Unfurnished   \n",
       "3  Property located in Turner one of the premium ...   East       Unfurnished   \n",
       "4  719 Square yard Plot for sale in Bandra West, ...    NaN       Unfurnished   \n",
       "\n",
       "      Locality                                     About_locality  \\\n",
       "0   Dadar West  About locality: Dadar West9.9Locality ScoreDad...   \n",
       "1   Dadar West  About locality: Dadar West9.9Locality ScoreDad...   \n",
       "2  Bandra West  About locality: Bandra West9.8Locality ScoreBa...   \n",
       "3  Bandra West  About locality: Bandra West9.8Locality ScoreBa...   \n",
       "4  Bandra West  About locality: Bandra West9.8Locality ScoreBa...   \n",
       "\n",
       "             Amenities_list  Area_rating  \n",
       "0              ['Wardrobe']          9.9  \n",
       "1             ['Gymnasium']          9.9  \n",
       "2  [\"Children's play area\"]          9.8  \n",
       "3               ['Lift(s)']          9.8  \n",
       "4                    ['AC']          9.8  "
      ]
     },
     "execution_count": 8,
     "metadata": {},
     "output_type": "execute_result"
    }
   ],
   "source": [
    "df.head(5)"
   ]
  },
  {
   "cell_type": "code",
   "execution_count": 9,
   "id": "ff5eeebf",
   "metadata": {},
   "outputs": [],
   "source": [
    "# List of all amenities available in the amenities column\n",
    "\n",
    "all_amenities = ['Full Power Backup',\n",
    " 'Lift(s)',\n",
    " 'Washing Machine',\n",
    " 'Shopping Mall',\n",
    " 'BED',\n",
    " 'School',\n",
    " 'Sports Facility',\n",
    " 'TV',\n",
    " 'Wifi',\n",
    " 'Rain Water Harvesting',\n",
    " 'Multipurpose Room',\n",
    " 'Car Parking',\n",
    " 'Jogging Track',\n",
    " 'Refrigerator',\n",
    " 'Staff Quarter',\n",
    " 'Hospital',\n",
    " 'Landscaped Gardens',\n",
    " 'Cafeteria',\n",
    " 'AC',\n",
    " '24 X 7 Security',\n",
    " \"Children's play area\",\n",
    " 'Club House',\n",
    " 'Sofa',\n",
    " 'Indoor Games',\n",
    " 'Dining Table',\n",
    " 'Golf Course',\n",
    " 'Gymnasium',\n",
    " 'Maintenance Staff',\n",
    " 'Wardrobe',\n",
    " 'Swimming Pool',\n",
    " 'Microwave',\n",
    " 'Vaastu Compliant',\n",
    " 'Gas connection',\n",
    " 'ATM',\n",
    " 'Intercom']"
   ]
  },
  {
   "cell_type": "markdown",
   "id": "70e5bb1c",
   "metadata": {},
   "source": [
    "### Checking for null values"
   ]
  },
  {
   "cell_type": "code",
   "execution_count": 10,
   "id": "2598ab0e",
   "metadata": {},
   "outputs": [
    {
     "data": {
      "text/plain": [
       "Address                 0\n",
       "Type                   14\n",
       "Floorsize               0\n",
       "Carpet_area          2500\n",
       "Price_per_sqft        221\n",
       "Price                   0\n",
       "Status                  0\n",
       "No_Of_Bathrooms      1998\n",
       "Is_new                889\n",
       "Description            72\n",
       "Facing               3515\n",
       "Furnishing_status       0\n",
       "Locality                0\n",
       "About_locality       3656\n",
       "Amenities_list          1\n",
       "Area_rating          4350\n",
       "dtype: int64"
      ]
     },
     "execution_count": 10,
     "metadata": {},
     "output_type": "execute_result"
    }
   ],
   "source": [
    "df.isna().sum()"
   ]
  },
  {
   "cell_type": "code",
   "execution_count": 11,
   "id": "ab28b05b",
   "metadata": {},
   "outputs": [],
   "source": [
    "# Dropping rows according to the columns floorsize and amenities\n",
    "df = df.dropna(subset=['Floorsize','Amenities_list'])"
   ]
  },
  {
   "cell_type": "code",
   "execution_count": 12,
   "id": "6a70c965",
   "metadata": {},
   "outputs": [
    {
     "data": {
      "text/plain": [
       "Address                 0\n",
       "Type                   14\n",
       "Floorsize               0\n",
       "Carpet_area          2499\n",
       "Price_per_sqft        221\n",
       "Price                   0\n",
       "Status                  0\n",
       "No_Of_Bathrooms      1998\n",
       "Is_new                889\n",
       "Description            72\n",
       "Facing               3514\n",
       "Furnishing_status       0\n",
       "Locality                0\n",
       "About_locality       3655\n",
       "Amenities_list          0\n",
       "Area_rating          4349\n",
       "dtype: int64"
      ]
     },
     "execution_count": 12,
     "metadata": {},
     "output_type": "execute_result"
    }
   ],
   "source": [
    "df.isna().sum()"
   ]
  },
  {
   "cell_type": "code",
   "execution_count": 13,
   "id": "76bb1254",
   "metadata": {},
   "outputs": [
    {
     "data": {
      "text/html": [
       "<div>\n",
       "<style scoped>\n",
       "    .dataframe tbody tr th:only-of-type {\n",
       "        vertical-align: middle;\n",
       "    }\n",
       "\n",
       "    .dataframe tbody tr th {\n",
       "        vertical-align: top;\n",
       "    }\n",
       "\n",
       "    .dataframe thead th {\n",
       "        text-align: right;\n",
       "    }\n",
       "</style>\n",
       "<table border=\"1\" class=\"dataframe\">\n",
       "  <thead>\n",
       "    <tr style=\"text-align: right;\">\n",
       "      <th></th>\n",
       "      <th>Address</th>\n",
       "      <th>Type</th>\n",
       "      <th>Floorsize</th>\n",
       "      <th>Carpet_area</th>\n",
       "      <th>Price_per_sqft</th>\n",
       "      <th>Price</th>\n",
       "      <th>Status</th>\n",
       "      <th>No_Of_Bathrooms</th>\n",
       "      <th>Is_new</th>\n",
       "      <th>Description</th>\n",
       "      <th>Facing</th>\n",
       "      <th>Furnishing_status</th>\n",
       "      <th>Locality</th>\n",
       "      <th>About_locality</th>\n",
       "      <th>Amenities_list</th>\n",
       "      <th>Area_rating</th>\n",
       "    </tr>\n",
       "  </thead>\n",
       "  <tbody>\n",
       "    <tr>\n",
       "      <th>0</th>\n",
       "      <td>Dadar West, Mumbai</td>\n",
       "      <td>NaN</td>\n",
       "      <td>2088</td>\n",
       "      <td>NaN</td>\n",
       "      <td>525.0</td>\n",
       "      <td>1096200</td>\n",
       "      <td>Ready to move</td>\n",
       "      <td>NaN</td>\n",
       "      <td>New</td>\n",
       "      <td>A plot is available at a prime location in Dad...</td>\n",
       "      <td>West</td>\n",
       "      <td>Unfurnished</td>\n",
       "      <td>Dadar West</td>\n",
       "      <td>About locality: Dadar West9.9Locality ScoreDad...</td>\n",
       "      <td>['Wardrobe']</td>\n",
       "      <td>9.9</td>\n",
       "    </tr>\n",
       "    <tr>\n",
       "      <th>1</th>\n",
       "      <td>Dadar West, Mumbai</td>\n",
       "      <td>NaN</td>\n",
       "      <td>1089</td>\n",
       "      <td>NaN</td>\n",
       "      <td>266.0</td>\n",
       "      <td>290000</td>\n",
       "      <td>Ready to move</td>\n",
       "      <td>NaN</td>\n",
       "      <td>New</td>\n",
       "      <td>A plot is available at a prime location in Dad...</td>\n",
       "      <td>South</td>\n",
       "      <td>Unfurnished</td>\n",
       "      <td>Dadar West</td>\n",
       "      <td>About locality: Dadar West9.9Locality ScoreDad...</td>\n",
       "      <td>['Gymnasium']</td>\n",
       "      <td>9.9</td>\n",
       "    </tr>\n",
       "    <tr>\n",
       "      <th>2</th>\n",
       "      <td>Bandra West, Mumbai</td>\n",
       "      <td>NaN</td>\n",
       "      <td>1088</td>\n",
       "      <td>NaN</td>\n",
       "      <td>22977.0</td>\n",
       "      <td>25000000</td>\n",
       "      <td>Ready to move</td>\n",
       "      <td>NaN</td>\n",
       "      <td>Resale</td>\n",
       "      <td>This plot is situated in Bandra West. It has a...</td>\n",
       "      <td>NaN</td>\n",
       "      <td>Unfurnished</td>\n",
       "      <td>Bandra West</td>\n",
       "      <td>About locality: Bandra West9.8Locality ScoreBa...</td>\n",
       "      <td>[\"Children's play area\"]</td>\n",
       "      <td>9.8</td>\n",
       "    </tr>\n",
       "    <tr>\n",
       "      <th>3</th>\n",
       "      <td>Bandra West, Mumbai</td>\n",
       "      <td>NaN</td>\n",
       "      <td>7830</td>\n",
       "      <td>NaN</td>\n",
       "      <td>89399.0</td>\n",
       "      <td>700000000</td>\n",
       "      <td>Ready to move</td>\n",
       "      <td>NaN</td>\n",
       "      <td>New</td>\n",
       "      <td>Property located in Turner one of the premium ...</td>\n",
       "      <td>East</td>\n",
       "      <td>Unfurnished</td>\n",
       "      <td>Bandra West</td>\n",
       "      <td>About locality: Bandra West9.8Locality ScoreBa...</td>\n",
       "      <td>['Lift(s)']</td>\n",
       "      <td>9.8</td>\n",
       "    </tr>\n",
       "    <tr>\n",
       "      <th>4</th>\n",
       "      <td>Bandra West, Mumbai</td>\n",
       "      <td>NaN</td>\n",
       "      <td>6471</td>\n",
       "      <td>NaN</td>\n",
       "      <td>49451.0</td>\n",
       "      <td>320000000</td>\n",
       "      <td>Ready to move</td>\n",
       "      <td>NaN</td>\n",
       "      <td>New</td>\n",
       "      <td>719 Square yard Plot for sale in Bandra West, ...</td>\n",
       "      <td>NaN</td>\n",
       "      <td>Unfurnished</td>\n",
       "      <td>Bandra West</td>\n",
       "      <td>About locality: Bandra West9.8Locality ScoreBa...</td>\n",
       "      <td>['AC']</td>\n",
       "      <td>9.8</td>\n",
       "    </tr>\n",
       "  </tbody>\n",
       "</table>\n",
       "</div>"
      ],
      "text/plain": [
       "               Address  Type  Floorsize  Carpet_area  Price_per_sqft  \\\n",
       "0   Dadar West, Mumbai   NaN       2088          NaN           525.0   \n",
       "1   Dadar West, Mumbai   NaN       1089          NaN           266.0   \n",
       "2  Bandra West, Mumbai   NaN       1088          NaN         22977.0   \n",
       "3  Bandra West, Mumbai   NaN       7830          NaN         89399.0   \n",
       "4  Bandra West, Mumbai   NaN       6471          NaN         49451.0   \n",
       "\n",
       "       Price         Status  No_Of_Bathrooms  Is_new  \\\n",
       "0    1096200  Ready to move              NaN     New   \n",
       "1     290000  Ready to move              NaN     New   \n",
       "2   25000000  Ready to move              NaN  Resale   \n",
       "3  700000000  Ready to move              NaN     New   \n",
       "4  320000000  Ready to move              NaN     New   \n",
       "\n",
       "                                         Description Facing Furnishing_status  \\\n",
       "0  A plot is available at a prime location in Dad...   West       Unfurnished   \n",
       "1  A plot is available at a prime location in Dad...  South       Unfurnished   \n",
       "2  This plot is situated in Bandra West. It has a...    NaN       Unfurnished   \n",
       "3  Property located in Turner one of the premium ...   East       Unfurnished   \n",
       "4  719 Square yard Plot for sale in Bandra West, ...    NaN       Unfurnished   \n",
       "\n",
       "      Locality                                     About_locality  \\\n",
       "0   Dadar West  About locality: Dadar West9.9Locality ScoreDad...   \n",
       "1   Dadar West  About locality: Dadar West9.9Locality ScoreDad...   \n",
       "2  Bandra West  About locality: Bandra West9.8Locality ScoreBa...   \n",
       "3  Bandra West  About locality: Bandra West9.8Locality ScoreBa...   \n",
       "4  Bandra West  About locality: Bandra West9.8Locality ScoreBa...   \n",
       "\n",
       "             Amenities_list  Area_rating  \n",
       "0              ['Wardrobe']          9.9  \n",
       "1             ['Gymnasium']          9.9  \n",
       "2  [\"Children's play area\"]          9.8  \n",
       "3               ['Lift(s)']          9.8  \n",
       "4                    ['AC']          9.8  "
      ]
     },
     "execution_count": 13,
     "metadata": {},
     "output_type": "execute_result"
    }
   ],
   "source": [
    "df.head()"
   ]
  },
  {
   "cell_type": "markdown",
   "id": "65dae287",
   "metadata": {},
   "source": [
    "### Converting amenities into list"
   ]
  },
  {
   "cell_type": "code",
   "execution_count": 14,
   "id": "e9aec7f9",
   "metadata": {},
   "outputs": [],
   "source": [
    "df['Amenities_list'] = df['Amenities_list'].map(lambda x: sorted(ast.literal_eval(x)))"
   ]
  },
  {
   "cell_type": "code",
   "execution_count": 15,
   "id": "82384fc6",
   "metadata": {},
   "outputs": [
    {
     "data": {
      "text/plain": [
       "0                                              [Wardrobe]\n",
       "1                                             [Gymnasium]\n",
       "2                                  [Children's play area]\n",
       "3                                               [Lift(s)]\n",
       "4                                                    [AC]\n",
       "                              ...                        \n",
       "8877    [AC, BED, Dining Table, Full Power Backup, Gas...\n",
       "8878    [AC, BED, Dining Table, Full Power Backup, Gas...\n",
       "8879    [24 X 7 Security, ATM, Cafeteria, Car Parking,...\n",
       "8880    [AC, BED, Dining Table, Full Power Backup, Gas...\n",
       "8881    [24 X 7 Security, AC, BED, Cafeteria, Car Park...\n",
       "Name: Amenities_list, Length: 8881, dtype: object"
      ]
     },
     "execution_count": 15,
     "metadata": {},
     "output_type": "execute_result"
    }
   ],
   "source": [
    "df['Amenities_list']"
   ]
  },
  {
   "cell_type": "code",
   "execution_count": 16,
   "id": "630992d1",
   "metadata": {},
   "outputs": [
    {
     "data": {
      "text/html": [
       "<div>\n",
       "<style scoped>\n",
       "    .dataframe tbody tr th:only-of-type {\n",
       "        vertical-align: middle;\n",
       "    }\n",
       "\n",
       "    .dataframe tbody tr th {\n",
       "        vertical-align: top;\n",
       "    }\n",
       "\n",
       "    .dataframe thead th {\n",
       "        text-align: right;\n",
       "    }\n",
       "</style>\n",
       "<table border=\"1\" class=\"dataframe\">\n",
       "  <thead>\n",
       "    <tr style=\"text-align: right;\">\n",
       "      <th></th>\n",
       "      <th>Address</th>\n",
       "      <th>Type</th>\n",
       "      <th>Floorsize</th>\n",
       "      <th>Carpet_area</th>\n",
       "      <th>Price_per_sqft</th>\n",
       "      <th>Price</th>\n",
       "      <th>Status</th>\n",
       "      <th>No_Of_Bathrooms</th>\n",
       "      <th>Is_new</th>\n",
       "      <th>Description</th>\n",
       "      <th>Facing</th>\n",
       "      <th>Furnishing_status</th>\n",
       "      <th>Locality</th>\n",
       "      <th>About_locality</th>\n",
       "      <th>Amenities_list</th>\n",
       "      <th>Area_rating</th>\n",
       "    </tr>\n",
       "  </thead>\n",
       "  <tbody>\n",
       "    <tr>\n",
       "      <th>0</th>\n",
       "      <td>Dadar West, Mumbai</td>\n",
       "      <td>NaN</td>\n",
       "      <td>2088</td>\n",
       "      <td>NaN</td>\n",
       "      <td>525.0</td>\n",
       "      <td>1096200</td>\n",
       "      <td>Ready to move</td>\n",
       "      <td>NaN</td>\n",
       "      <td>New</td>\n",
       "      <td>A plot is available at a prime location in Dad...</td>\n",
       "      <td>West</td>\n",
       "      <td>Unfurnished</td>\n",
       "      <td>Dadar West</td>\n",
       "      <td>About locality: Dadar West9.9Locality ScoreDad...</td>\n",
       "      <td>[Wardrobe]</td>\n",
       "      <td>9.9</td>\n",
       "    </tr>\n",
       "    <tr>\n",
       "      <th>1</th>\n",
       "      <td>Dadar West, Mumbai</td>\n",
       "      <td>NaN</td>\n",
       "      <td>1089</td>\n",
       "      <td>NaN</td>\n",
       "      <td>266.0</td>\n",
       "      <td>290000</td>\n",
       "      <td>Ready to move</td>\n",
       "      <td>NaN</td>\n",
       "      <td>New</td>\n",
       "      <td>A plot is available at a prime location in Dad...</td>\n",
       "      <td>South</td>\n",
       "      <td>Unfurnished</td>\n",
       "      <td>Dadar West</td>\n",
       "      <td>About locality: Dadar West9.9Locality ScoreDad...</td>\n",
       "      <td>[Gymnasium]</td>\n",
       "      <td>9.9</td>\n",
       "    </tr>\n",
       "    <tr>\n",
       "      <th>2</th>\n",
       "      <td>Bandra West, Mumbai</td>\n",
       "      <td>NaN</td>\n",
       "      <td>1088</td>\n",
       "      <td>NaN</td>\n",
       "      <td>22977.0</td>\n",
       "      <td>25000000</td>\n",
       "      <td>Ready to move</td>\n",
       "      <td>NaN</td>\n",
       "      <td>Resale</td>\n",
       "      <td>This plot is situated in Bandra West. It has a...</td>\n",
       "      <td>NaN</td>\n",
       "      <td>Unfurnished</td>\n",
       "      <td>Bandra West</td>\n",
       "      <td>About locality: Bandra West9.8Locality ScoreBa...</td>\n",
       "      <td>[Children's play area]</td>\n",
       "      <td>9.8</td>\n",
       "    </tr>\n",
       "    <tr>\n",
       "      <th>3</th>\n",
       "      <td>Bandra West, Mumbai</td>\n",
       "      <td>NaN</td>\n",
       "      <td>7830</td>\n",
       "      <td>NaN</td>\n",
       "      <td>89399.0</td>\n",
       "      <td>700000000</td>\n",
       "      <td>Ready to move</td>\n",
       "      <td>NaN</td>\n",
       "      <td>New</td>\n",
       "      <td>Property located in Turner one of the premium ...</td>\n",
       "      <td>East</td>\n",
       "      <td>Unfurnished</td>\n",
       "      <td>Bandra West</td>\n",
       "      <td>About locality: Bandra West9.8Locality ScoreBa...</td>\n",
       "      <td>[Lift(s)]</td>\n",
       "      <td>9.8</td>\n",
       "    </tr>\n",
       "    <tr>\n",
       "      <th>4</th>\n",
       "      <td>Bandra West, Mumbai</td>\n",
       "      <td>NaN</td>\n",
       "      <td>6471</td>\n",
       "      <td>NaN</td>\n",
       "      <td>49451.0</td>\n",
       "      <td>320000000</td>\n",
       "      <td>Ready to move</td>\n",
       "      <td>NaN</td>\n",
       "      <td>New</td>\n",
       "      <td>719 Square yard Plot for sale in Bandra West, ...</td>\n",
       "      <td>NaN</td>\n",
       "      <td>Unfurnished</td>\n",
       "      <td>Bandra West</td>\n",
       "      <td>About locality: Bandra West9.8Locality ScoreBa...</td>\n",
       "      <td>[AC]</td>\n",
       "      <td>9.8</td>\n",
       "    </tr>\n",
       "  </tbody>\n",
       "</table>\n",
       "</div>"
      ],
      "text/plain": [
       "               Address  Type  Floorsize  Carpet_area  Price_per_sqft  \\\n",
       "0   Dadar West, Mumbai   NaN       2088          NaN           525.0   \n",
       "1   Dadar West, Mumbai   NaN       1089          NaN           266.0   \n",
       "2  Bandra West, Mumbai   NaN       1088          NaN         22977.0   \n",
       "3  Bandra West, Mumbai   NaN       7830          NaN         89399.0   \n",
       "4  Bandra West, Mumbai   NaN       6471          NaN         49451.0   \n",
       "\n",
       "       Price         Status  No_Of_Bathrooms  Is_new  \\\n",
       "0    1096200  Ready to move              NaN     New   \n",
       "1     290000  Ready to move              NaN     New   \n",
       "2   25000000  Ready to move              NaN  Resale   \n",
       "3  700000000  Ready to move              NaN     New   \n",
       "4  320000000  Ready to move              NaN     New   \n",
       "\n",
       "                                         Description Facing Furnishing_status  \\\n",
       "0  A plot is available at a prime location in Dad...   West       Unfurnished   \n",
       "1  A plot is available at a prime location in Dad...  South       Unfurnished   \n",
       "2  This plot is situated in Bandra West. It has a...    NaN       Unfurnished   \n",
       "3  Property located in Turner one of the premium ...   East       Unfurnished   \n",
       "4  719 Square yard Plot for sale in Bandra West, ...    NaN       Unfurnished   \n",
       "\n",
       "      Locality                                     About_locality  \\\n",
       "0   Dadar West  About locality: Dadar West9.9Locality ScoreDad...   \n",
       "1   Dadar West  About locality: Dadar West9.9Locality ScoreDad...   \n",
       "2  Bandra West  About locality: Bandra West9.8Locality ScoreBa...   \n",
       "3  Bandra West  About locality: Bandra West9.8Locality ScoreBa...   \n",
       "4  Bandra West  About locality: Bandra West9.8Locality ScoreBa...   \n",
       "\n",
       "           Amenities_list  Area_rating  \n",
       "0              [Wardrobe]          9.9  \n",
       "1             [Gymnasium]          9.9  \n",
       "2  [Children's play area]          9.8  \n",
       "3               [Lift(s)]          9.8  \n",
       "4                    [AC]          9.8  "
      ]
     },
     "execution_count": 16,
     "metadata": {},
     "output_type": "execute_result"
    }
   ],
   "source": [
    "df.head()"
   ]
  },
  {
   "cell_type": "markdown",
   "id": "cb230468",
   "metadata": {},
   "source": [
    "### Avg percentage of floorarea with respect to carpetsize of the house"
   ]
  },
  {
   "cell_type": "code",
   "execution_count": 17,
   "id": "4720fb51",
   "metadata": {},
   "outputs": [
    {
     "data": {
      "text/plain": [
       "76.05685062965104"
      ]
     },
     "execution_count": 17,
     "metadata": {},
     "output_type": "execute_result"
    }
   ],
   "source": [
    "carpet_percent = (df['Carpet_area'] /df['Floorsize'])*100\n",
    "carpet_percent.mean()"
   ]
  },
  {
   "cell_type": "markdown",
   "id": "373ad6e7",
   "metadata": {},
   "source": [
    "### Creating columns for all the amenities available (Total 35)"
   ]
  },
  {
   "cell_type": "code",
   "execution_count": 18,
   "id": "10441112",
   "metadata": {},
   "outputs": [],
   "source": [
    "for a in all_amenities:\n",
    "    df[a] = 0    "
   ]
  },
  {
   "cell_type": "code",
   "execution_count": 19,
   "id": "7f73ec87",
   "metadata": {},
   "outputs": [],
   "source": [
    "for index, row in df.iterrows():\n",
    "    m = row['Amenities_list']\n",
    "    \n",
    "    for i in m:\n",
    "\n",
    "        df.at[index,i] += 1      "
   ]
  },
  {
   "cell_type": "code",
   "execution_count": 20,
   "id": "cf38abc9",
   "metadata": {},
   "outputs": [
    {
     "data": {
      "text/html": [
       "<div>\n",
       "<style scoped>\n",
       "    .dataframe tbody tr th:only-of-type {\n",
       "        vertical-align: middle;\n",
       "    }\n",
       "\n",
       "    .dataframe tbody tr th {\n",
       "        vertical-align: top;\n",
       "    }\n",
       "\n",
       "    .dataframe thead th {\n",
       "        text-align: right;\n",
       "    }\n",
       "</style>\n",
       "<table border=\"1\" class=\"dataframe\">\n",
       "  <thead>\n",
       "    <tr style=\"text-align: right;\">\n",
       "      <th></th>\n",
       "      <th>Address</th>\n",
       "      <th>Type</th>\n",
       "      <th>Floorsize</th>\n",
       "      <th>Carpet_area</th>\n",
       "      <th>Price_per_sqft</th>\n",
       "      <th>Price</th>\n",
       "      <th>Status</th>\n",
       "      <th>No_Of_Bathrooms</th>\n",
       "      <th>Is_new</th>\n",
       "      <th>Description</th>\n",
       "      <th>...</th>\n",
       "      <th>Golf Course</th>\n",
       "      <th>Gymnasium</th>\n",
       "      <th>Maintenance Staff</th>\n",
       "      <th>Wardrobe</th>\n",
       "      <th>Swimming Pool</th>\n",
       "      <th>Microwave</th>\n",
       "      <th>Vaastu Compliant</th>\n",
       "      <th>Gas connection</th>\n",
       "      <th>ATM</th>\n",
       "      <th>Intercom</th>\n",
       "    </tr>\n",
       "  </thead>\n",
       "  <tbody>\n",
       "    <tr>\n",
       "      <th>0</th>\n",
       "      <td>Dadar West, Mumbai</td>\n",
       "      <td>NaN</td>\n",
       "      <td>2088</td>\n",
       "      <td>NaN</td>\n",
       "      <td>525.0</td>\n",
       "      <td>1096200</td>\n",
       "      <td>Ready to move</td>\n",
       "      <td>NaN</td>\n",
       "      <td>New</td>\n",
       "      <td>A plot is available at a prime location in Dad...</td>\n",
       "      <td>...</td>\n",
       "      <td>0</td>\n",
       "      <td>0</td>\n",
       "      <td>0</td>\n",
       "      <td>1</td>\n",
       "      <td>0</td>\n",
       "      <td>0</td>\n",
       "      <td>0</td>\n",
       "      <td>0</td>\n",
       "      <td>0</td>\n",
       "      <td>0</td>\n",
       "    </tr>\n",
       "    <tr>\n",
       "      <th>1</th>\n",
       "      <td>Dadar West, Mumbai</td>\n",
       "      <td>NaN</td>\n",
       "      <td>1089</td>\n",
       "      <td>NaN</td>\n",
       "      <td>266.0</td>\n",
       "      <td>290000</td>\n",
       "      <td>Ready to move</td>\n",
       "      <td>NaN</td>\n",
       "      <td>New</td>\n",
       "      <td>A plot is available at a prime location in Dad...</td>\n",
       "      <td>...</td>\n",
       "      <td>0</td>\n",
       "      <td>1</td>\n",
       "      <td>0</td>\n",
       "      <td>0</td>\n",
       "      <td>0</td>\n",
       "      <td>0</td>\n",
       "      <td>0</td>\n",
       "      <td>0</td>\n",
       "      <td>0</td>\n",
       "      <td>0</td>\n",
       "    </tr>\n",
       "    <tr>\n",
       "      <th>2</th>\n",
       "      <td>Bandra West, Mumbai</td>\n",
       "      <td>NaN</td>\n",
       "      <td>1088</td>\n",
       "      <td>NaN</td>\n",
       "      <td>22977.0</td>\n",
       "      <td>25000000</td>\n",
       "      <td>Ready to move</td>\n",
       "      <td>NaN</td>\n",
       "      <td>Resale</td>\n",
       "      <td>This plot is situated in Bandra West. It has a...</td>\n",
       "      <td>...</td>\n",
       "      <td>0</td>\n",
       "      <td>0</td>\n",
       "      <td>0</td>\n",
       "      <td>0</td>\n",
       "      <td>0</td>\n",
       "      <td>0</td>\n",
       "      <td>0</td>\n",
       "      <td>0</td>\n",
       "      <td>0</td>\n",
       "      <td>0</td>\n",
       "    </tr>\n",
       "    <tr>\n",
       "      <th>3</th>\n",
       "      <td>Bandra West, Mumbai</td>\n",
       "      <td>NaN</td>\n",
       "      <td>7830</td>\n",
       "      <td>NaN</td>\n",
       "      <td>89399.0</td>\n",
       "      <td>700000000</td>\n",
       "      <td>Ready to move</td>\n",
       "      <td>NaN</td>\n",
       "      <td>New</td>\n",
       "      <td>Property located in Turner one of the premium ...</td>\n",
       "      <td>...</td>\n",
       "      <td>0</td>\n",
       "      <td>0</td>\n",
       "      <td>0</td>\n",
       "      <td>0</td>\n",
       "      <td>0</td>\n",
       "      <td>0</td>\n",
       "      <td>0</td>\n",
       "      <td>0</td>\n",
       "      <td>0</td>\n",
       "      <td>0</td>\n",
       "    </tr>\n",
       "    <tr>\n",
       "      <th>4</th>\n",
       "      <td>Bandra West, Mumbai</td>\n",
       "      <td>NaN</td>\n",
       "      <td>6471</td>\n",
       "      <td>NaN</td>\n",
       "      <td>49451.0</td>\n",
       "      <td>320000000</td>\n",
       "      <td>Ready to move</td>\n",
       "      <td>NaN</td>\n",
       "      <td>New</td>\n",
       "      <td>719 Square yard Plot for sale in Bandra West, ...</td>\n",
       "      <td>...</td>\n",
       "      <td>0</td>\n",
       "      <td>0</td>\n",
       "      <td>0</td>\n",
       "      <td>0</td>\n",
       "      <td>0</td>\n",
       "      <td>0</td>\n",
       "      <td>0</td>\n",
       "      <td>0</td>\n",
       "      <td>0</td>\n",
       "      <td>0</td>\n",
       "    </tr>\n",
       "  </tbody>\n",
       "</table>\n",
       "<p>5 rows × 51 columns</p>\n",
       "</div>"
      ],
      "text/plain": [
       "               Address  Type  Floorsize  Carpet_area  Price_per_sqft  \\\n",
       "0   Dadar West, Mumbai   NaN       2088          NaN           525.0   \n",
       "1   Dadar West, Mumbai   NaN       1089          NaN           266.0   \n",
       "2  Bandra West, Mumbai   NaN       1088          NaN         22977.0   \n",
       "3  Bandra West, Mumbai   NaN       7830          NaN         89399.0   \n",
       "4  Bandra West, Mumbai   NaN       6471          NaN         49451.0   \n",
       "\n",
       "       Price         Status  No_Of_Bathrooms  Is_new  \\\n",
       "0    1096200  Ready to move              NaN     New   \n",
       "1     290000  Ready to move              NaN     New   \n",
       "2   25000000  Ready to move              NaN  Resale   \n",
       "3  700000000  Ready to move              NaN     New   \n",
       "4  320000000  Ready to move              NaN     New   \n",
       "\n",
       "                                         Description  ... Golf Course  \\\n",
       "0  A plot is available at a prime location in Dad...  ...           0   \n",
       "1  A plot is available at a prime location in Dad...  ...           0   \n",
       "2  This plot is situated in Bandra West. It has a...  ...           0   \n",
       "3  Property located in Turner one of the premium ...  ...           0   \n",
       "4  719 Square yard Plot for sale in Bandra West, ...  ...           0   \n",
       "\n",
       "  Gymnasium Maintenance Staff Wardrobe Swimming Pool  Microwave  \\\n",
       "0         0                 0        1             0          0   \n",
       "1         1                 0        0             0          0   \n",
       "2         0                 0        0             0          0   \n",
       "3         0                 0        0             0          0   \n",
       "4         0                 0        0             0          0   \n",
       "\n",
       "   Vaastu Compliant  Gas connection  ATM  Intercom  \n",
       "0                 0               0    0         0  \n",
       "1                 0               0    0         0  \n",
       "2                 0               0    0         0  \n",
       "3                 0               0    0         0  \n",
       "4                 0               0    0         0  \n",
       "\n",
       "[5 rows x 51 columns]"
      ]
     },
     "execution_count": 20,
     "metadata": {},
     "output_type": "execute_result"
    }
   ],
   "source": [
    "df.head()"
   ]
  },
  {
   "cell_type": "code",
   "execution_count": 21,
   "id": "cc4f4231",
   "metadata": {},
   "outputs": [
    {
     "data": {
      "text/plain": [
       "Address                     0\n",
       "Type                       14\n",
       "Floorsize                   0\n",
       "Carpet_area              2499\n",
       "Price_per_sqft            221\n",
       "Price                       0\n",
       "Status                      0\n",
       "No_Of_Bathrooms          1998\n",
       "Is_new                    889\n",
       "Description                72\n",
       "Facing                   3514\n",
       "Furnishing_status           0\n",
       "Locality                    0\n",
       "About_locality           3655\n",
       "Amenities_list              0\n",
       "Area_rating              4349\n",
       "Full Power Backup           0\n",
       "Lift(s)                     0\n",
       "Washing Machine             0\n",
       "Shopping Mall               0\n",
       "BED                         0\n",
       "School                      0\n",
       "Sports Facility             0\n",
       "TV                          0\n",
       "Wifi                        0\n",
       "Rain Water Harvesting       0\n",
       "Multipurpose Room           0\n",
       "Car Parking                 0\n",
       "Jogging Track               0\n",
       "Refrigerator                0\n",
       "Staff Quarter               0\n",
       "Hospital                    0\n",
       "Landscaped Gardens          0\n",
       "Cafeteria                   0\n",
       "AC                          0\n",
       "24 X 7 Security             0\n",
       "Children's play area        0\n",
       "Club House                  0\n",
       "Sofa                        0\n",
       "Indoor Games                0\n",
       "Dining Table                0\n",
       "Golf Course                 0\n",
       "Gymnasium                   0\n",
       "Maintenance Staff           0\n",
       "Wardrobe                    0\n",
       "Swimming Pool               0\n",
       "Microwave                   0\n",
       "Vaastu Compliant            0\n",
       "Gas connection              0\n",
       "ATM                         0\n",
       "Intercom                    0\n",
       "dtype: int64"
      ]
     },
     "execution_count": 21,
     "metadata": {},
     "output_type": "execute_result"
    }
   ],
   "source": [
    "df.isna().sum()"
   ]
  },
  {
   "cell_type": "code",
   "execution_count": 22,
   "id": "86feea7e",
   "metadata": {},
   "outputs": [],
   "source": [
    "# Changing column names\n",
    "df.columns = df.columns.str.replace(\" \",\"_\")"
   ]
  },
  {
   "cell_type": "markdown",
   "id": "e1ffbd03",
   "metadata": {},
   "source": [
    "### Counts of all categories"
   ]
  },
  {
   "cell_type": "code",
   "execution_count": 23,
   "id": "1b84c1e5",
   "metadata": {},
   "outputs": [
    {
     "name": "stdout",
     "output_type": "stream",
     "text": [
      "Ready to move         4788\n",
      "Under Construction    4093\n",
      "Name: Status, dtype: int64\n",
      "===========================================\n",
      "New       4627\n",
      "Resale    3365\n",
      "Name: Is_new, dtype: int64\n",
      "===========================================\n",
      "East         3098\n",
      "West          941\n",
      "NorthEast     504\n",
      "North         396\n",
      "SouthWest     151\n",
      "NorthWest     134\n",
      "South          83\n",
      "SouthEast      60\n",
      "Name: Facing, dtype: int64\n",
      "===========================================\n",
      "Unfurnished       5908\n",
      "Semi-Furnished    2292\n",
      "Furnished          681\n",
      "Name: Furnishing_status, dtype: int64\n",
      "===========================================\n",
      "Nerul              495\n",
      "Powai              489\n",
      "Bandra West        476\n",
      "Chembur            444\n",
      "Byculla            429\n",
      "Thane West         392\n",
      "Parel              373\n",
      "Kurla              370\n",
      "Vikhroli           299\n",
      "Dombivali          299\n",
      "Goregaon West      268\n",
      "Thane East         268\n",
      "Kalyan East        268\n",
      "Borivali East      266\n",
      "Goregaon East      266\n",
      "Bhandup West       266\n",
      "Andheri West       266\n",
      "Kalyan West        266\n",
      "Ghatkopar West     264\n",
      "Bandra East        264\n",
      "Santacruz West     264\n",
      "Borivali West      263\n",
      "Santacruz East     262\n",
      "Ghatkopar East     262\n",
      "Sion               242\n",
      "Mahalaxmi          233\n",
      "Dadar West         226\n",
      "Andheri East       174\n",
      "Dadar East         160\n",
      "Bhandup East        61\n",
      "Andheri (West)       3\n",
      "Mira Road East       2\n",
      "Borivali (West)      1\n",
      "Name: Locality, dtype: int64\n",
      "===========================================\n"
     ]
    }
   ],
   "source": [
    "for i in ['Status','Is_new','Facing','Furnishing_status','Locality']:\n",
    "    print(df[i].value_counts())\n",
    "    print(\"===========================================\")"
   ]
  },
  {
   "cell_type": "code",
   "execution_count": 24,
   "id": "30c26c5c",
   "metadata": {},
   "outputs": [
    {
     "data": {
      "text/plain": [
       "Address                     0\n",
       "Type                       14\n",
       "Floorsize                   0\n",
       "Carpet_area              2499\n",
       "Price_per_sqft            221\n",
       "Price                       0\n",
       "Status                      0\n",
       "No_Of_Bathrooms          1998\n",
       "Is_new                    889\n",
       "Description                72\n",
       "Facing                   3514\n",
       "Furnishing_status           0\n",
       "Locality                    0\n",
       "About_locality           3655\n",
       "Amenities_list              0\n",
       "Area_rating              4349\n",
       "Full_Power_Backup           0\n",
       "Lift(s)                     0\n",
       "Washing_Machine             0\n",
       "Shopping_Mall               0\n",
       "BED                         0\n",
       "School                      0\n",
       "Sports_Facility             0\n",
       "TV                          0\n",
       "Wifi                        0\n",
       "Rain_Water_Harvesting       0\n",
       "Multipurpose_Room           0\n",
       "Car_Parking                 0\n",
       "Jogging_Track               0\n",
       "Refrigerator                0\n",
       "Staff_Quarter               0\n",
       "Hospital                    0\n",
       "Landscaped_Gardens          0\n",
       "Cafeteria                   0\n",
       "AC                          0\n",
       "24_X_7_Security             0\n",
       "Children's_play_area        0\n",
       "Club_House                  0\n",
       "Sofa                        0\n",
       "Indoor_Games                0\n",
       "Dining_Table                0\n",
       "Golf_Course                 0\n",
       "Gymnasium                   0\n",
       "Maintenance_Staff           0\n",
       "Wardrobe                    0\n",
       "Swimming_Pool               0\n",
       "Microwave                   0\n",
       "Vaastu_Compliant            0\n",
       "Gas_connection              0\n",
       "ATM                         0\n",
       "Intercom                    0\n",
       "dtype: int64"
      ]
     },
     "execution_count": 24,
     "metadata": {},
     "output_type": "execute_result"
    }
   ],
   "source": [
    "df.isna().sum()"
   ]
  },
  {
   "cell_type": "markdown",
   "id": "f66bc3f7",
   "metadata": {},
   "source": [
    "### Avg value of price_per_sqft for new and resale properties"
   ]
  },
  {
   "cell_type": "code",
   "execution_count": 25,
   "id": "31ffb560",
   "metadata": {},
   "outputs": [
    {
     "data": {
      "text/plain": [
       "23016.837223587223"
      ]
     },
     "execution_count": 25,
     "metadata": {},
     "output_type": "execute_result"
    }
   ],
   "source": [
    "df[df['Is_new']  == \"Resale\"].mean()[3]"
   ]
  },
  {
   "cell_type": "code",
   "execution_count": 26,
   "id": "fd1d9be1",
   "metadata": {},
   "outputs": [
    {
     "data": {
      "text/plain": [
       "26359.985711145306"
      ]
     },
     "execution_count": 26,
     "metadata": {},
     "output_type": "execute_result"
    }
   ],
   "source": [
    "df[df['Is_new']  == \"New\"].mean()[3]"
   ]
  },
  {
   "cell_type": "code",
   "execution_count": 27,
   "id": "25ebda59",
   "metadata": {},
   "outputs": [
    {
     "data": {
      "text/plain": [
       "0    New\n",
       "Name: Is_new, dtype: object"
      ]
     },
     "execution_count": 27,
     "metadata": {},
     "output_type": "execute_result"
    }
   ],
   "source": [
    "df['Is_new'].mode()"
   ]
  },
  {
   "cell_type": "markdown",
   "id": "34951b6f",
   "metadata": {},
   "source": [
    "### Dropping the rows where in Type is Plot area"
   ]
  },
  {
   "cell_type": "code",
   "execution_count": 28,
   "id": "c748f29a",
   "metadata": {},
   "outputs": [],
   "source": [
    "df.dropna(subset = ['Type'], inplace=True, axis=0)"
   ]
  },
  {
   "cell_type": "code",
   "execution_count": 29,
   "id": "acec79b3",
   "metadata": {},
   "outputs": [],
   "source": [
    "df.reset_index(inplace=True)"
   ]
  },
  {
   "cell_type": "code",
   "execution_count": 30,
   "id": "c9ddb876",
   "metadata": {},
   "outputs": [],
   "source": [
    "df.drop(columns=['index'], inplace=True)"
   ]
  },
  {
   "cell_type": "code",
   "execution_count": 31,
   "id": "45729683",
   "metadata": {},
   "outputs": [],
   "source": [
    "# df['Status'] = df['Status'].replace({'Under Construction':1, 'Ready to move':2})"
   ]
  },
  {
   "cell_type": "markdown",
   "id": "c297d253",
   "metadata": {},
   "source": [
    "### Dropping unnecessary columns"
   ]
  },
  {
   "cell_type": "code",
   "execution_count": 32,
   "id": "8f3a1142",
   "metadata": {},
   "outputs": [],
   "source": [
    "df.drop(columns=['Facing','Amenities_list','About_locality','Description','Is_new','Area_rating'], inplace=True)"
   ]
  },
  {
   "cell_type": "markdown",
   "id": "ef1a51db",
   "metadata": {},
   "source": [
    "### Replacing area name with appropirate value"
   ]
  },
  {
   "cell_type": "code",
   "execution_count": 33,
   "id": "da440604",
   "metadata": {},
   "outputs": [],
   "source": [
    "df['Locality'].replace({'Borivali (West)':'Borivali West', 'Andheri (West)': 'Andheri West'}, inplace=True)"
   ]
  },
  {
   "cell_type": "code",
   "execution_count": 34,
   "id": "7ae2e7bf",
   "metadata": {},
   "outputs": [
    {
     "data": {
      "text/plain": [
       "Address                     0\n",
       "Type                        0\n",
       "Floorsize                   0\n",
       "Carpet_area              2485\n",
       "Price_per_sqft            221\n",
       "Price                       0\n",
       "Status                      0\n",
       "No_Of_Bathrooms          1984\n",
       "Furnishing_status           0\n",
       "Locality                    0\n",
       "Full_Power_Backup           0\n",
       "Lift(s)                     0\n",
       "Washing_Machine             0\n",
       "Shopping_Mall               0\n",
       "BED                         0\n",
       "School                      0\n",
       "Sports_Facility             0\n",
       "TV                          0\n",
       "Wifi                        0\n",
       "Rain_Water_Harvesting       0\n",
       "Multipurpose_Room           0\n",
       "Car_Parking                 0\n",
       "Jogging_Track               0\n",
       "Refrigerator                0\n",
       "Staff_Quarter               0\n",
       "Hospital                    0\n",
       "Landscaped_Gardens          0\n",
       "Cafeteria                   0\n",
       "AC                          0\n",
       "24_X_7_Security             0\n",
       "Children's_play_area        0\n",
       "Club_House                  0\n",
       "Sofa                        0\n",
       "Indoor_Games                0\n",
       "Dining_Table                0\n",
       "Golf_Course                 0\n",
       "Gymnasium                   0\n",
       "Maintenance_Staff           0\n",
       "Wardrobe                    0\n",
       "Swimming_Pool               0\n",
       "Microwave                   0\n",
       "Vaastu_Compliant            0\n",
       "Gas_connection              0\n",
       "ATM                         0\n",
       "Intercom                    0\n",
       "dtype: int64"
      ]
     },
     "execution_count": 34,
     "metadata": {},
     "output_type": "execute_result"
    }
   ],
   "source": [
    "df.isna().sum()"
   ]
  },
  {
   "cell_type": "markdown",
   "id": "090eec39",
   "metadata": {},
   "source": [
    "### Filling missing values"
   ]
  },
  {
   "cell_type": "code",
   "execution_count": 35,
   "id": "6e9a7716",
   "metadata": {},
   "outputs": [],
   "source": [
    "# Carpet Area\n",
    "\n",
    "df['Carpet_area'].fillna(df['Floorsize']*0.76, inplace=True)"
   ]
  },
  {
   "cell_type": "code",
   "execution_count": 36,
   "id": "43be2629",
   "metadata": {},
   "outputs": [],
   "source": [
    "# Price per sqft\n",
    "\n",
    "df['Price_per_sqft'].fillna(df['Price']/df['Floorsize'], inplace=True)"
   ]
  },
  {
   "cell_type": "code",
   "execution_count": 37,
   "id": "ce03a041",
   "metadata": {},
   "outputs": [
    {
     "data": {
      "text/plain": [
       "0    2.0\n",
       "Name: No_Of_Bathrooms, dtype: float64"
      ]
     },
     "execution_count": 37,
     "metadata": {},
     "output_type": "execute_result"
    }
   ],
   "source": [
    "# No. of bathrooms\n",
    "\n",
    "df['No_Of_Bathrooms'].mode()"
   ]
  },
  {
   "cell_type": "code",
   "execution_count": 38,
   "id": "9e9ccf6b",
   "metadata": {},
   "outputs": [],
   "source": [
    "# Replacing with it's mode\n",
    "\n",
    "# df['No_Of_Bathrooms'].fillna(2, inplace=True)"
   ]
  },
  {
   "cell_type": "code",
   "execution_count": 39,
   "id": "270aae5a",
   "metadata": {},
   "outputs": [],
   "source": [
    "df = df.sort_values(by=\"Type\")\n",
    "df['No_Of_Bathrooms'] = np.ceil(df['No_Of_Bathrooms'].interpolate())\n"
   ]
  },
  {
   "cell_type": "code",
   "execution_count": 40,
   "id": "5af3f9ff",
   "metadata": {},
   "outputs": [],
   "source": [
    "df.reset_index(inplace=True)"
   ]
  },
  {
   "cell_type": "code",
   "execution_count": 41,
   "id": "8de60436",
   "metadata": {},
   "outputs": [],
   "source": [
    "df.drop(columns='index', inplace=True)"
   ]
  },
  {
   "cell_type": "code",
   "execution_count": 42,
   "id": "92b2c888",
   "metadata": {},
   "outputs": [],
   "source": [
    "df.to_excel('Data/Cleaned_16_05_23.xlsx')"
   ]
  },
  {
   "cell_type": "code",
   "execution_count": 43,
   "id": "4079c892",
   "metadata": {},
   "outputs": [
    {
     "data": {
      "text/plain": [
       "Address                  0\n",
       "Type                     0\n",
       "Floorsize                0\n",
       "Carpet_area              0\n",
       "Price_per_sqft           0\n",
       "Price                    0\n",
       "Status                   0\n",
       "No_Of_Bathrooms          0\n",
       "Furnishing_status        0\n",
       "Locality                 0\n",
       "Full_Power_Backup        0\n",
       "Lift(s)                  0\n",
       "Washing_Machine          0\n",
       "Shopping_Mall            0\n",
       "BED                      0\n",
       "School                   0\n",
       "Sports_Facility          0\n",
       "TV                       0\n",
       "Wifi                     0\n",
       "Rain_Water_Harvesting    0\n",
       "Multipurpose_Room        0\n",
       "Car_Parking              0\n",
       "Jogging_Track            0\n",
       "Refrigerator             0\n",
       "Staff_Quarter            0\n",
       "Hospital                 0\n",
       "Landscaped_Gardens       0\n",
       "Cafeteria                0\n",
       "AC                       0\n",
       "24_X_7_Security          0\n",
       "Children's_play_area     0\n",
       "Club_House               0\n",
       "Sofa                     0\n",
       "Indoor_Games             0\n",
       "Dining_Table             0\n",
       "Golf_Course              0\n",
       "Gymnasium                0\n",
       "Maintenance_Staff        0\n",
       "Wardrobe                 0\n",
       "Swimming_Pool            0\n",
       "Microwave                0\n",
       "Vaastu_Compliant         0\n",
       "Gas_connection           0\n",
       "ATM                      0\n",
       "Intercom                 0\n",
       "dtype: int64"
      ]
     },
     "execution_count": 43,
     "metadata": {},
     "output_type": "execute_result"
    }
   ],
   "source": [
    "# Checking fo nulls\n",
    "df.isna().sum()"
   ]
  },
  {
   "cell_type": "code",
   "execution_count": 44,
   "id": "e5233822",
   "metadata": {},
   "outputs": [
    {
     "name": "stdout",
     "output_type": "stream",
     "text": [
      "<class 'pandas.core.frame.DataFrame'>\n",
      "RangeIndex: 8867 entries, 0 to 8866\n",
      "Data columns (total 45 columns):\n",
      " #   Column                 Non-Null Count  Dtype  \n",
      "---  ------                 --------------  -----  \n",
      " 0   Address                8867 non-null   object \n",
      " 1   Type                   8867 non-null   float64\n",
      " 2   Floorsize              8867 non-null   float64\n",
      " 3   Carpet_area            8867 non-null   float64\n",
      " 4   Price_per_sqft         8867 non-null   float64\n",
      " 5   Price                  8867 non-null   float64\n",
      " 6   Status                 8867 non-null   object \n",
      " 7   No_Of_Bathrooms        8867 non-null   float64\n",
      " 8   Furnishing_status      8867 non-null   object \n",
      " 9   Locality               8867 non-null   object \n",
      " 10  Full_Power_Backup      8867 non-null   int64  \n",
      " 11  Lift(s)                8867 non-null   int64  \n",
      " 12  Washing_Machine        8867 non-null   int64  \n",
      " 13  Shopping_Mall          8867 non-null   int64  \n",
      " 14  BED                    8867 non-null   int64  \n",
      " 15  School                 8867 non-null   int64  \n",
      " 16  Sports_Facility        8867 non-null   int64  \n",
      " 17  TV                     8867 non-null   int64  \n",
      " 18  Wifi                   8867 non-null   int64  \n",
      " 19  Rain_Water_Harvesting  8867 non-null   int64  \n",
      " 20  Multipurpose_Room      8867 non-null   int64  \n",
      " 21  Car_Parking            8867 non-null   int64  \n",
      " 22  Jogging_Track          8867 non-null   int64  \n",
      " 23  Refrigerator           8867 non-null   int64  \n",
      " 24  Staff_Quarter          8867 non-null   int64  \n",
      " 25  Hospital               8867 non-null   int64  \n",
      " 26  Landscaped_Gardens     8867 non-null   int64  \n",
      " 27  Cafeteria              8867 non-null   int64  \n",
      " 28  AC                     8867 non-null   int64  \n",
      " 29  24_X_7_Security        8867 non-null   int64  \n",
      " 30  Children's_play_area   8867 non-null   int64  \n",
      " 31  Club_House             8867 non-null   int64  \n",
      " 32  Sofa                   8867 non-null   int64  \n",
      " 33  Indoor_Games           8867 non-null   int64  \n",
      " 34  Dining_Table           8867 non-null   int64  \n",
      " 35  Golf_Course            8867 non-null   int64  \n",
      " 36  Gymnasium              8867 non-null   int64  \n",
      " 37  Maintenance_Staff      8867 non-null   int64  \n",
      " 38  Wardrobe               8867 non-null   int64  \n",
      " 39  Swimming_Pool          8867 non-null   int64  \n",
      " 40  Microwave              8867 non-null   int64  \n",
      " 41  Vaastu_Compliant       8867 non-null   int64  \n",
      " 42  Gas_connection         8867 non-null   int64  \n",
      " 43  ATM                    8867 non-null   int64  \n",
      " 44  Intercom               8867 non-null   int64  \n",
      "dtypes: float64(6), int64(35), object(4)\n",
      "memory usage: 3.0+ MB\n"
     ]
    }
   ],
   "source": [
    "df['Price'] = df['Price'].astype(float)\n",
    "df['Floorsize'] = df['Floorsize'].astype(float)\n",
    "df.info()"
   ]
  },
  {
   "cell_type": "markdown",
   "id": "992b36c6",
   "metadata": {},
   "source": [
    "## Exploratory Data Analysis"
   ]
  },
  {
   "cell_type": "markdown",
   "id": "da40cc01",
   "metadata": {},
   "source": [
    "#### Univariate analysis"
   ]
  },
  {
   "cell_type": "markdown",
   "id": "365bd543",
   "metadata": {},
   "source": [
    "### Count plots"
   ]
  },
  {
   "cell_type": "code",
   "execution_count": 45,
   "id": "ebf75654",
   "metadata": {},
   "outputs": [
    {
     "data": {
      "image/png": "[encoded data removed]",
      "text/plain": [
       "<Figure size 1440x1296 with 4 Axes>"
      ]
     },
     "metadata": {
      "needs_background": "light"
     },
     "output_type": "display_data"
    }
   ],
   "source": [
    "plt.figure(figsize = (20,18))\n",
    "plt.subplot(2,2,1)\n",
    "sns.countplot(df['Status'])\n",
    "plt.xticks(rotation=45)\n",
    "plt.subplot(2,2,2)\n",
    "sns.countplot(df['Furnishing_status'])\n",
    "plt.xticks(rotation=45)\n",
    "plt.subplot(2,2,3)\n",
    "sns.countplot(df['Type'])\n",
    "plt.xticks(rotation=45)\n",
    "plt.subplot(2,2,4)\n",
    "sns.countplot(df['No_Of_Bathrooms'])\n",
    "plt.xticks(rotation=45)\n",
    "plt.tight_layout()\n",
    "plt.show()\n",
    "# plt.subplot()"
   ]
  },
  {
   "cell_type": "code",
   "execution_count": 46,
   "id": "66459f05",
   "metadata": {},
   "outputs": [
    {
     "data": {
      "image/png": "[encoded data removed]",
      "text/plain": [
       "<Figure size 1296x864 with 35 Axes>"
      ]
     },
     "metadata": {
      "needs_background": "light"
     },
     "output_type": "display_data"
    }
   ],
   "source": [
    "fig, axes = plt.subplots(nrows=5, ncols=7, figsize=(18, 12))\n",
    "\n",
    "df_int = df.select_dtypes([np.int])\n",
    "# Flatten the axes array so we can iterate over it easily\n",
    "axes = axes.flatten()\n",
    "\n",
    "# Loop through each subplot and plot a countplot\n",
    "for i, ax in enumerate(axes):\n",
    "    if i < len(df_int.columns):\n",
    "        sns.countplot(x=df_int.columns[i], data=df_int, ax=ax)\n",
    "\n",
    "# Adjust the spacing between subplots\n",
    "fig.tight_layout()\n",
    "\n",
    "# Display the plot\n",
    "plt.show()\n"
   ]
  },
  {
   "cell_type": "code",
   "execution_count": 47,
   "id": "a9bb9ab5",
   "metadata": {},
   "outputs": [
    {
     "data": {
      "text/plain": [
       "[]"
      ]
     },
     "execution_count": 47,
     "metadata": {},
     "output_type": "execute_result"
    },
    {
     "data": {
      "image/png": "[encoded data removed]",
      "text/plain": [
       "<Figure size 1440x720 with 1 Axes>"
      ]
     },
     "metadata": {
      "needs_background": "light"
     },
     "output_type": "display_data"
    }
   ],
   "source": [
    "plt.figure(figsize = (20,10))\n",
    "sns.countplot(df['Locality'])\n",
    "plt.xticks(rotation=85)\n",
    "plt.plot()"
   ]
  },
  {
   "cell_type": "markdown",
   "id": "b81d5fe5",
   "metadata": {},
   "source": [
    "### Distribution of prices"
   ]
  },
  {
   "cell_type": "code",
   "execution_count": 48,
   "id": "438cd931",
   "metadata": {},
   "outputs": [
    {
     "data": {
      "text/plain": [
       "<Figure size 864x576 with 0 Axes>"
      ]
     },
     "metadata": {},
     "output_type": "display_data"
    },
    {
     "data": {
      "image/png": "[encoded data removed]",
      "text/plain": [
       "<Figure size 1440x720 with 4 Axes>"
      ]
     },
     "metadata": {
      "needs_background": "light"
     },
     "output_type": "display_data"
    }
   ],
   "source": [
    "plt.figure(figsize=(12,8))\n",
    "\n",
    "plt.figure(figsize = (20,10))\n",
    "plt.subplot(2,2,1)\n",
    "sns.distplot(df['Price'], color='red')\n",
    "plt.title('Distribution of House Price', fontsize=18)\n",
    "\n",
    "\n",
    "plt.subplot(2,2,2)\n",
    "sns.distplot(df['Price_per_sqft'], color='green')\n",
    "plt.title('Distribution of House Price per sqft', fontsize=18)\n",
    "\n",
    "plt.subplot(2,2,3)\n",
    "sns.distplot(df['Carpet_area'], color='gray')\n",
    "plt.title('Distribution of House Carpet Area', fontsize=18)\n",
    "\n",
    "plt.subplot(2,2,4)\n",
    "sns.distplot(df['Floorsize'], color='brown')\n",
    "plt.title('Distribution of House Floor-Size', fontsize=18)\n",
    "\n",
    "plt.tight_layout()\n",
    "plt.show()\n",
    "# plt.subplot()"
   ]
  },
  {
   "cell_type": "code",
   "execution_count": 49,
   "id": "51b8e581",
   "metadata": {},
   "outputs": [
    {
     "data": {
      "image/png": "[encoded data removed]",
      "text/plain": [
       "<Figure size 1440x1080 with 4 Axes>"
      ]
     },
     "metadata": {
      "needs_background": "light"
     },
     "output_type": "display_data"
    }
   ],
   "source": [
    "plt.figure(figsize=(20,15))\n",
    "\n",
    "plt.subplot(2,2,1)\n",
    "sns.boxplot(df['Price'], color='red')\n",
    "plt.title('Distribution of House Price', fontsize=18)\n",
    "\n",
    "plt.subplot(2,2,2)\n",
    "sns.boxplot(df['Price_per_sqft'], color='green')\n",
    "plt.title('Distribution of House Price per sqft', fontsize=18)\n",
    "\n",
    "plt.subplot(2,2,3)\n",
    "sns.boxplot(df['Carpet_area'], color='yellow')\n",
    "plt.title('Distribution of House Carpet Area', fontsize=18)\n",
    "\n",
    "plt.subplot(2,2,4)\n",
    "sns.boxplot(df['Floorsize'], color='brown')\n",
    "plt.title('Distribution of House Floor-Size', fontsize=18)\n",
    "\n",
    "plt.tight_layout()\n",
    "plt.show()\n",
    "# plt.subplot()"
   ]
  },
  {
   "cell_type": "markdown",
   "id": "570bee5e",
   "metadata": {},
   "source": [
    "#### Bivariate Analysis"
   ]
  },
  {
   "cell_type": "code",
   "execution_count": 50,
   "id": "6c7ea49b",
   "metadata": {},
   "outputs": [],
   "source": [
    "# To check for normality\n",
    "\n",
    "from scipy.stats import norm\n",
    "\n",
    "# norm = a normal continous variable.\n",
    "\n",
    "# log_style = np.log(train['SalePrice'])  # log of salesprice\n",
    "\n",
    "# fig, ((ax1, ax2), (ax3, ax4)) = plt.subplots(nrows=2, ncols=2, figsize=(14,10))\n",
    "# plt.suptitle('Probability Plots', fontsize=18)\n",
    "# ax1 = sns.distplot(train['SalePrice'], color=\"#FA5858\", ax=ax1, fit=norm)\n",
    "# ax1.set_title(\"Distribution of Sales Price with Positive Skewness\", fontsize=14)\n",
    "# ax2 = sns.distplot(log_style, color=\"#58FA82\",ax=ax2, fit=norm)\n",
    "# ax2.set_title(\"Normal Distibution with Log Transformations\", fontsize=14)\n",
    "# ax3 = stats.probplot(train['SalePrice'], plot=ax3)\n",
    "# ax4 = stats.probplot(log_style, plot=ax4)\n",
    "\n",
    "# plt.show()\n"
   ]
  },
  {
   "cell_type": "code",
   "execution_count": 51,
   "id": "92f38133",
   "metadata": {
    "scrolled": false
   },
   "outputs": [
    {
     "data": {
      "text/plain": [
       "<seaborn.axisgrid.PairGrid at 0x1c400688040>"
      ]
     },
     "execution_count": 51,
     "metadata": {},
     "output_type": "execute_result"
    },
    {
     "data": {
      "image/png": "[encoded data removed]",
      "text/plain": [
       "<Figure size 720x720 with 20 Axes>"
      ]
     },
     "metadata": {
      "needs_background": "light"
     },
     "output_type": "display_data"
    }
   ],
   "source": [
    "sns.pairplot(df[['Price','Price_per_sqft','Carpet_area','Floorsize']],diag_kind='kde')"
   ]
  },
  {
   "cell_type": "markdown",
   "id": "7f62112d",
   "metadata": {},
   "source": [
    "### Checking multicollinearity between each variables"
   ]
  },
  {
   "cell_type": "code",
   "execution_count": 52,
   "id": "69184959",
   "metadata": {},
   "outputs": [],
   "source": [
    "cor_mat = (df.corr())"
   ]
  },
  {
   "cell_type": "code",
   "execution_count": 53,
   "id": "4b269ec0",
   "metadata": {
    "scrolled": false
   },
   "outputs": [
    {
     "data": {
      "text/plain": [
       "[]"
      ]
     },
     "execution_count": 53,
     "metadata": {},
     "output_type": "execute_result"
    },
    {
     "data": {
      "image/png": "[encoded data removed]",
      "text/plain": [
       "<Figure size 1080x936 with 2 Axes>"
      ]
     },
     "metadata": {
      "needs_background": "light"
     },
     "output_type": "display_data"
    }
   ],
   "source": [
    "plt.figure(figsize=(15,13))\n",
    "corr_plot = sns.heatmap(cor_mat,cmap=\"Greens\")\n",
    "plt.plot()"
   ]
  },
  {
   "cell_type": "code",
   "execution_count": 54,
   "id": "0fae3b96",
   "metadata": {},
   "outputs": [],
   "source": [
    "\n",
    "# Set the desired figure size (optional)\n",
    "corr_plot.figure.set_size_inches(20,20)\n",
    "\n",
    "# Save the plot in high resolution\n",
    "corr_plot.figure.savefig(\"corr_plot_secondary.png\", dpi=300)"
   ]
  },
  {
   "cell_type": "code",
   "execution_count": 55,
   "id": "94962436",
   "metadata": {},
   "outputs": [
    {
     "data": {
      "text/plain": [
       "Address                  0\n",
       "Type                     0\n",
       "Floorsize                0\n",
       "Carpet_area              0\n",
       "Price_per_sqft           0\n",
       "Price                    0\n",
       "Status                   0\n",
       "No_Of_Bathrooms          0\n",
       "Furnishing_status        0\n",
       "Locality                 0\n",
       "Full_Power_Backup        0\n",
       "Lift(s)                  0\n",
       "Washing_Machine          0\n",
       "Shopping_Mall            0\n",
       "BED                      0\n",
       "School                   0\n",
       "Sports_Facility          0\n",
       "TV                       0\n",
       "Wifi                     0\n",
       "Rain_Water_Harvesting    0\n",
       "Multipurpose_Room        0\n",
       "Car_Parking              0\n",
       "Jogging_Track            0\n",
       "Refrigerator             0\n",
       "Staff_Quarter            0\n",
       "Hospital                 0\n",
       "Landscaped_Gardens       0\n",
       "Cafeteria                0\n",
       "AC                       0\n",
       "24_X_7_Security          0\n",
       "Children's_play_area     0\n",
       "Club_House               0\n",
       "Sofa                     0\n",
       "Indoor_Games             0\n",
       "Dining_Table             0\n",
       "Golf_Course              0\n",
       "Gymnasium                0\n",
       "Maintenance_Staff        0\n",
       "Wardrobe                 0\n",
       "Swimming_Pool            0\n",
       "Microwave                0\n",
       "Vaastu_Compliant         0\n",
       "Gas_connection           0\n",
       "ATM                      0\n",
       "Intercom                 0\n",
       "dtype: int64"
      ]
     },
     "execution_count": 55,
     "metadata": {},
     "output_type": "execute_result"
    }
   ],
   "source": [
    "df.isna().sum()"
   ]
  },
  {
   "cell_type": "code",
   "execution_count": 56,
   "id": "9a2d0f7a",
   "metadata": {},
   "outputs": [],
   "source": [
    "df['Locality'] = df['Locality'].str.replace(\" \",\"\")"
   ]
  },
  {
   "cell_type": "code",
   "execution_count": 57,
   "id": "aed9c1d5",
   "metadata": {},
   "outputs": [],
   "source": [
    "df['Locality'] = df['Locality'].str.replace('West|East','')"
   ]
  },
  {
   "cell_type": "code",
   "execution_count": 58,
   "id": "95f8801a",
   "metadata": {},
   "outputs": [],
   "source": [
    "df['Locality'] = df['Locality'].replace({'MiraRoad':'Thane'})"
   ]
  },
  {
   "cell_type": "code",
   "execution_count": 59,
   "id": "aafae8fd",
   "metadata": {},
   "outputs": [
    {
     "data": {
      "text/plain": [
       "Index(['Bandra', 'Thane', 'Goregaon', 'Kalyan', 'Borivali', 'Ghatkopar',\n",
       "       'Santacruz', 'Nerul', 'Powai', 'Chembur', 'Andheri', 'Byculla', 'Dadar',\n",
       "       'Parel', 'Kurla', 'Bhandup', 'Vikhroli', 'Dombivali', 'Sion',\n",
       "       'Mahalaxmi'],\n",
       "      dtype='object')"
      ]
     },
     "execution_count": 59,
     "metadata": {},
     "output_type": "execute_result"
    }
   ],
   "source": [
    "sorted_by_count = df['Locality'].value_counts().index\n",
    "sorted_by_count"
   ]
  },
  {
   "cell_type": "code",
   "execution_count": 60,
   "id": "6b98b62c",
   "metadata": {},
   "outputs": [
    {
     "data": {
      "text/plain": [
       "{'Bandra': 0,\n",
       " 'Thane': 1,\n",
       " 'Goregaon': 2,\n",
       " 'Kalyan': 3,\n",
       " 'Borivali': 4,\n",
       " 'Ghatkopar': 5,\n",
       " 'Santacruz': 6,\n",
       " 'Nerul': 7,\n",
       " 'Powai': 8,\n",
       " 'Chembur': 9,\n",
       " 'Andheri': 10,\n",
       " 'Byculla': 11,\n",
       " 'Dadar': 12,\n",
       " 'Parel': 13,\n",
       " 'Kurla': 14,\n",
       " 'Bhandup': 15,\n",
       " 'Vikhroli': 16,\n",
       " 'Dombivali': 17,\n",
       " 'Sion': 18,\n",
       " 'Mahalaxmi': 19}"
      ]
     },
     "execution_count": 60,
     "metadata": {},
     "output_type": "execute_result"
    }
   ],
   "source": [
    "dict_replace = {sorted_by_count[i]:i  for i in range(len(sorted_by_count))}\n",
    "dict_replace"
   ]
  },
  {
   "cell_type": "code",
   "execution_count": 61,
   "id": "2aa49b00",
   "metadata": {},
   "outputs": [],
   "source": [
    "df['Locality'] = df['Locality'].replace(dict_replace)"
   ]
  },
  {
   "cell_type": "code",
   "execution_count": 62,
   "id": "ede8e262",
   "metadata": {},
   "outputs": [],
   "source": [
    "df.drop(columns=['Address'],inplace=True)"
   ]
  },
  {
   "cell_type": "code",
   "execution_count": 63,
   "id": "7f022b4f",
   "metadata": {},
   "outputs": [
    {
     "name": "stdout",
     "output_type": "stream",
     "text": [
      "Ready to move         4774\n",
      "Under Construction    4093\n",
      "Name: Status, dtype: int64\n",
      "============================\n",
      "Unfurnished       5894\n",
      "Semi-Furnished    2292\n",
      "Furnished          681\n",
      "Name: Furnishing_status, dtype: int64\n",
      "============================\n"
     ]
    }
   ],
   "source": [
    "for i in df.select_dtypes([np.object]):\n",
    "    print(df[i].value_counts())\n",
    "    print(\"============================\")"
   ]
  },
  {
   "cell_type": "code",
   "execution_count": 64,
   "id": "ebc98521",
   "metadata": {},
   "outputs": [],
   "source": [
    "df['Status'] = df['Status'].replace({'Under Construction':0,'Ready to move': 1})\n",
    "df['Furnishing_status'] = df['Furnishing_status'].replace({'Unfurnished':0, 'Semi-Furnished':1, 'Furnished':2})"
   ]
  },
  {
   "cell_type": "markdown",
   "id": "e02b594c",
   "metadata": {},
   "source": [
    "### Final data for building models"
   ]
  },
  {
   "cell_type": "code",
   "execution_count": 65,
   "id": "eedd4be8",
   "metadata": {
    "scrolled": true
   },
   "outputs": [
    {
     "data": {
      "text/html": [
       "<div>\n",
       "<style scoped>\n",
       "    .dataframe tbody tr th:only-of-type {\n",
       "        vertical-align: middle;\n",
       "    }\n",
       "\n",
       "    .dataframe tbody tr th {\n",
       "        vertical-align: top;\n",
       "    }\n",
       "\n",
       "    .dataframe thead th {\n",
       "        text-align: right;\n",
       "    }\n",
       "</style>\n",
       "<table border=\"1\" class=\"dataframe\">\n",
       "  <thead>\n",
       "    <tr style=\"text-align: right;\">\n",
       "      <th></th>\n",
       "      <th>Type</th>\n",
       "      <th>Floorsize</th>\n",
       "      <th>Carpet_area</th>\n",
       "      <th>Price_per_sqft</th>\n",
       "      <th>Price</th>\n",
       "      <th>Status</th>\n",
       "      <th>No_Of_Bathrooms</th>\n",
       "      <th>Furnishing_status</th>\n",
       "      <th>Locality</th>\n",
       "      <th>Full_Power_Backup</th>\n",
       "      <th>...</th>\n",
       "      <th>Golf_Course</th>\n",
       "      <th>Gymnasium</th>\n",
       "      <th>Maintenance_Staff</th>\n",
       "      <th>Wardrobe</th>\n",
       "      <th>Swimming_Pool</th>\n",
       "      <th>Microwave</th>\n",
       "      <th>Vaastu_Compliant</th>\n",
       "      <th>Gas_connection</th>\n",
       "      <th>ATM</th>\n",
       "      <th>Intercom</th>\n",
       "    </tr>\n",
       "  </thead>\n",
       "  <tbody>\n",
       "    <tr>\n",
       "      <th>0</th>\n",
       "      <td>1.0</td>\n",
       "      <td>500.0</td>\n",
       "      <td>411.0</td>\n",
       "      <td>40000.0</td>\n",
       "      <td>20000000.0</td>\n",
       "      <td>1</td>\n",
       "      <td>2.0</td>\n",
       "      <td>0</td>\n",
       "      <td>12</td>\n",
       "      <td>1</td>\n",
       "      <td>...</td>\n",
       "      <td>0</td>\n",
       "      <td>0</td>\n",
       "      <td>0</td>\n",
       "      <td>0</td>\n",
       "      <td>0</td>\n",
       "      <td>0</td>\n",
       "      <td>0</td>\n",
       "      <td>1</td>\n",
       "      <td>0</td>\n",
       "      <td>1</td>\n",
       "    </tr>\n",
       "    <tr>\n",
       "      <th>1</th>\n",
       "      <td>1.0</td>\n",
       "      <td>515.0</td>\n",
       "      <td>480.0</td>\n",
       "      <td>4271.0</td>\n",
       "      <td>2200000.0</td>\n",
       "      <td>1</td>\n",
       "      <td>1.0</td>\n",
       "      <td>1</td>\n",
       "      <td>3</td>\n",
       "      <td>0</td>\n",
       "      <td>...</td>\n",
       "      <td>0</td>\n",
       "      <td>0</td>\n",
       "      <td>0</td>\n",
       "      <td>1</td>\n",
       "      <td>0</td>\n",
       "      <td>0</td>\n",
       "      <td>0</td>\n",
       "      <td>0</td>\n",
       "      <td>0</td>\n",
       "      <td>0</td>\n",
       "    </tr>\n",
       "    <tr>\n",
       "      <th>2</th>\n",
       "      <td>1.0</td>\n",
       "      <td>750.0</td>\n",
       "      <td>490.0</td>\n",
       "      <td>6266.0</td>\n",
       "      <td>4700000.0</td>\n",
       "      <td>0</td>\n",
       "      <td>2.0</td>\n",
       "      <td>0</td>\n",
       "      <td>3</td>\n",
       "      <td>1</td>\n",
       "      <td>...</td>\n",
       "      <td>0</td>\n",
       "      <td>0</td>\n",
       "      <td>0</td>\n",
       "      <td>0</td>\n",
       "      <td>0</td>\n",
       "      <td>0</td>\n",
       "      <td>1</td>\n",
       "      <td>0</td>\n",
       "      <td>1</td>\n",
       "      <td>0</td>\n",
       "    </tr>\n",
       "    <tr>\n",
       "      <th>3</th>\n",
       "      <td>1.0</td>\n",
       "      <td>640.0</td>\n",
       "      <td>448.0</td>\n",
       "      <td>5000.0</td>\n",
       "      <td>3200000.0</td>\n",
       "      <td>0</td>\n",
       "      <td>2.0</td>\n",
       "      <td>0</td>\n",
       "      <td>3</td>\n",
       "      <td>0</td>\n",
       "      <td>...</td>\n",
       "      <td>0</td>\n",
       "      <td>0</td>\n",
       "      <td>0</td>\n",
       "      <td>0</td>\n",
       "      <td>1</td>\n",
       "      <td>0</td>\n",
       "      <td>0</td>\n",
       "      <td>0</td>\n",
       "      <td>0</td>\n",
       "      <td>0</td>\n",
       "    </tr>\n",
       "    <tr>\n",
       "      <th>4</th>\n",
       "      <td>1.0</td>\n",
       "      <td>661.0</td>\n",
       "      <td>490.0</td>\n",
       "      <td>6959.0</td>\n",
       "      <td>4600000.0</td>\n",
       "      <td>0</td>\n",
       "      <td>2.0</td>\n",
       "      <td>0</td>\n",
       "      <td>3</td>\n",
       "      <td>1</td>\n",
       "      <td>...</td>\n",
       "      <td>0</td>\n",
       "      <td>1</td>\n",
       "      <td>0</td>\n",
       "      <td>0</td>\n",
       "      <td>1</td>\n",
       "      <td>0</td>\n",
       "      <td>1</td>\n",
       "      <td>1</td>\n",
       "      <td>0</td>\n",
       "      <td>1</td>\n",
       "    </tr>\n",
       "  </tbody>\n",
       "</table>\n",
       "<p>5 rows × 44 columns</p>\n",
       "</div>"
      ],
      "text/plain": [
       "   Type  Floorsize  Carpet_area  Price_per_sqft       Price  Status  \\\n",
       "0   1.0      500.0        411.0         40000.0  20000000.0       1   \n",
       "1   1.0      515.0        480.0          4271.0   2200000.0       1   \n",
       "2   1.0      750.0        490.0          6266.0   4700000.0       0   \n",
       "3   1.0      640.0        448.0          5000.0   3200000.0       0   \n",
       "4   1.0      661.0        490.0          6959.0   4600000.0       0   \n",
       "\n",
       "   No_Of_Bathrooms  Furnishing_status  Locality  Full_Power_Backup  ...  \\\n",
       "0              2.0                  0        12                  1  ...   \n",
       "1              1.0                  1         3                  0  ...   \n",
       "2              2.0                  0         3                  1  ...   \n",
       "3              2.0                  0         3                  0  ...   \n",
       "4              2.0                  0         3                  1  ...   \n",
       "\n",
       "   Golf_Course  Gymnasium  Maintenance_Staff  Wardrobe  Swimming_Pool  \\\n",
       "0            0          0                  0         0              0   \n",
       "1            0          0                  0         1              0   \n",
       "2            0          0                  0         0              0   \n",
       "3            0          0                  0         0              1   \n",
       "4            0          1                  0         0              1   \n",
       "\n",
       "   Microwave  Vaastu_Compliant  Gas_connection  ATM  Intercom  \n",
       "0          0                 0               1    0         1  \n",
       "1          0                 0               0    0         0  \n",
       "2          0                 1               0    1         0  \n",
       "3          0                 0               0    0         0  \n",
       "4          0                 1               1    0         1  \n",
       "\n",
       "[5 rows x 44 columns]"
      ]
     },
     "execution_count": 65,
     "metadata": {},
     "output_type": "execute_result"
    }
   ],
   "source": [
    "df.head()"
   ]
  },
  {
   "cell_type": "code",
   "execution_count": 66,
   "id": "a31aa612",
   "metadata": {},
   "outputs": [],
   "source": [
    "df.to_excel('Data/Cleaned_16_05_23.xlsx')"
   ]
  },
  {
   "cell_type": "markdown",
   "id": "455d7783",
   "metadata": {},
   "source": [
    "## Factor Analysis"
   ]
  },
  {
   "cell_type": "code",
   "execution_count": 67,
   "id": "15ab8210",
   "metadata": {},
   "outputs": [],
   "source": [
    "df_fa_X = df.loc[:,'Full_Power_Backup':]"
   ]
  },
  {
   "cell_type": "code",
   "execution_count": 68,
   "id": "5c9ba01f",
   "metadata": {},
   "outputs": [
    {
     "data": {
      "text/html": [
       "<div>\n",
       "<style scoped>\n",
       "    .dataframe tbody tr th:only-of-type {\n",
       "        vertical-align: middle;\n",
       "    }\n",
       "\n",
       "    .dataframe tbody tr th {\n",
       "        vertical-align: top;\n",
       "    }\n",
       "\n",
       "    .dataframe thead th {\n",
       "        text-align: right;\n",
       "    }\n",
       "</style>\n",
       "<table border=\"1\" class=\"dataframe\">\n",
       "  <thead>\n",
       "    <tr style=\"text-align: right;\">\n",
       "      <th></th>\n",
       "      <th>Full_Power_Backup</th>\n",
       "      <th>Lift(s)</th>\n",
       "      <th>Washing_Machine</th>\n",
       "      <th>Shopping_Mall</th>\n",
       "      <th>BED</th>\n",
       "      <th>School</th>\n",
       "      <th>Sports_Facility</th>\n",
       "      <th>TV</th>\n",
       "      <th>Wifi</th>\n",
       "      <th>Rain_Water_Harvesting</th>\n",
       "      <th>...</th>\n",
       "      <th>Golf_Course</th>\n",
       "      <th>Gymnasium</th>\n",
       "      <th>Maintenance_Staff</th>\n",
       "      <th>Wardrobe</th>\n",
       "      <th>Swimming_Pool</th>\n",
       "      <th>Microwave</th>\n",
       "      <th>Vaastu_Compliant</th>\n",
       "      <th>Gas_connection</th>\n",
       "      <th>ATM</th>\n",
       "      <th>Intercom</th>\n",
       "    </tr>\n",
       "  </thead>\n",
       "  <tbody>\n",
       "    <tr>\n",
       "      <th>0</th>\n",
       "      <td>1</td>\n",
       "      <td>1</td>\n",
       "      <td>0</td>\n",
       "      <td>0</td>\n",
       "      <td>0</td>\n",
       "      <td>0</td>\n",
       "      <td>0</td>\n",
       "      <td>0</td>\n",
       "      <td>0</td>\n",
       "      <td>0</td>\n",
       "      <td>...</td>\n",
       "      <td>0</td>\n",
       "      <td>0</td>\n",
       "      <td>0</td>\n",
       "      <td>0</td>\n",
       "      <td>0</td>\n",
       "      <td>0</td>\n",
       "      <td>0</td>\n",
       "      <td>1</td>\n",
       "      <td>0</td>\n",
       "      <td>1</td>\n",
       "    </tr>\n",
       "    <tr>\n",
       "      <th>1</th>\n",
       "      <td>0</td>\n",
       "      <td>0</td>\n",
       "      <td>0</td>\n",
       "      <td>0</td>\n",
       "      <td>1</td>\n",
       "      <td>0</td>\n",
       "      <td>0</td>\n",
       "      <td>0</td>\n",
       "      <td>0</td>\n",
       "      <td>0</td>\n",
       "      <td>...</td>\n",
       "      <td>0</td>\n",
       "      <td>0</td>\n",
       "      <td>0</td>\n",
       "      <td>1</td>\n",
       "      <td>0</td>\n",
       "      <td>0</td>\n",
       "      <td>0</td>\n",
       "      <td>0</td>\n",
       "      <td>0</td>\n",
       "      <td>0</td>\n",
       "    </tr>\n",
       "    <tr>\n",
       "      <th>2</th>\n",
       "      <td>1</td>\n",
       "      <td>1</td>\n",
       "      <td>0</td>\n",
       "      <td>1</td>\n",
       "      <td>0</td>\n",
       "      <td>1</td>\n",
       "      <td>0</td>\n",
       "      <td>0</td>\n",
       "      <td>0</td>\n",
       "      <td>1</td>\n",
       "      <td>...</td>\n",
       "      <td>0</td>\n",
       "      <td>0</td>\n",
       "      <td>0</td>\n",
       "      <td>0</td>\n",
       "      <td>0</td>\n",
       "      <td>0</td>\n",
       "      <td>1</td>\n",
       "      <td>0</td>\n",
       "      <td>1</td>\n",
       "      <td>0</td>\n",
       "    </tr>\n",
       "    <tr>\n",
       "      <th>3</th>\n",
       "      <td>0</td>\n",
       "      <td>0</td>\n",
       "      <td>0</td>\n",
       "      <td>0</td>\n",
       "      <td>0</td>\n",
       "      <td>0</td>\n",
       "      <td>0</td>\n",
       "      <td>0</td>\n",
       "      <td>0</td>\n",
       "      <td>0</td>\n",
       "      <td>...</td>\n",
       "      <td>0</td>\n",
       "      <td>0</td>\n",
       "      <td>0</td>\n",
       "      <td>0</td>\n",
       "      <td>1</td>\n",
       "      <td>0</td>\n",
       "      <td>0</td>\n",
       "      <td>0</td>\n",
       "      <td>0</td>\n",
       "      <td>0</td>\n",
       "    </tr>\n",
       "    <tr>\n",
       "      <th>4</th>\n",
       "      <td>1</td>\n",
       "      <td>1</td>\n",
       "      <td>0</td>\n",
       "      <td>1</td>\n",
       "      <td>0</td>\n",
       "      <td>0</td>\n",
       "      <td>1</td>\n",
       "      <td>0</td>\n",
       "      <td>0</td>\n",
       "      <td>0</td>\n",
       "      <td>...</td>\n",
       "      <td>0</td>\n",
       "      <td>1</td>\n",
       "      <td>0</td>\n",
       "      <td>0</td>\n",
       "      <td>1</td>\n",
       "      <td>0</td>\n",
       "      <td>1</td>\n",
       "      <td>1</td>\n",
       "      <td>0</td>\n",
       "      <td>1</td>\n",
       "    </tr>\n",
       "  </tbody>\n",
       "</table>\n",
       "<p>5 rows × 35 columns</p>\n",
       "</div>"
      ],
      "text/plain": [
       "   Full_Power_Backup  Lift(s)  Washing_Machine  Shopping_Mall  BED  School  \\\n",
       "0                  1        1                0              0    0       0   \n",
       "1                  0        0                0              0    1       0   \n",
       "2                  1        1                0              1    0       1   \n",
       "3                  0        0                0              0    0       0   \n",
       "4                  1        1                0              1    0       0   \n",
       "\n",
       "   Sports_Facility  TV  Wifi  Rain_Water_Harvesting  ...  Golf_Course  \\\n",
       "0                0   0     0                      0  ...            0   \n",
       "1                0   0     0                      0  ...            0   \n",
       "2                0   0     0                      1  ...            0   \n",
       "3                0   0     0                      0  ...            0   \n",
       "4                1   0     0                      0  ...            0   \n",
       "\n",
       "   Gymnasium  Maintenance_Staff  Wardrobe  Swimming_Pool  Microwave  \\\n",
       "0          0                  0         0              0          0   \n",
       "1          0                  0         1              0          0   \n",
       "2          0                  0         0              0          0   \n",
       "3          0                  0         0              1          0   \n",
       "4          1                  0         0              1          0   \n",
       "\n",
       "   Vaastu_Compliant  Gas_connection  ATM  Intercom  \n",
       "0                 0               1    0         1  \n",
       "1                 0               0    0         0  \n",
       "2                 1               0    1         0  \n",
       "3                 0               0    0         0  \n",
       "4                 1               1    0         1  \n",
       "\n",
       "[5 rows x 35 columns]"
      ]
     },
     "execution_count": 68,
     "metadata": {},
     "output_type": "execute_result"
    }
   ],
   "source": [
    "df_fa_X.head()"
   ]
  },
  {
   "cell_type": "code",
   "execution_count": 69,
   "id": "a899837f",
   "metadata": {},
   "outputs": [
    {
     "data": {
      "text/html": [
       "<div>\n",
       "<style scoped>\n",
       "    .dataframe tbody tr th:only-of-type {\n",
       "        vertical-align: middle;\n",
       "    }\n",
       "\n",
       "    .dataframe tbody tr th {\n",
       "        vertical-align: top;\n",
       "    }\n",
       "\n",
       "    .dataframe thead th {\n",
       "        text-align: right;\n",
       "    }\n",
       "</style>\n",
       "<table border=\"1\" class=\"dataframe\">\n",
       "  <thead>\n",
       "    <tr style=\"text-align: right;\">\n",
       "      <th></th>\n",
       "      <th>Feature</th>\n",
       "      <th>VIF</th>\n",
       "    </tr>\n",
       "  </thead>\n",
       "  <tbody>\n",
       "    <tr>\n",
       "      <th>0</th>\n",
       "      <td>Full_Power_Backup</td>\n",
       "      <td>9.126685</td>\n",
       "    </tr>\n",
       "    <tr>\n",
       "      <th>1</th>\n",
       "      <td>Lift(s)</td>\n",
       "      <td>11.852466</td>\n",
       "    </tr>\n",
       "    <tr>\n",
       "      <th>2</th>\n",
       "      <td>Washing_Machine</td>\n",
       "      <td>6.298539</td>\n",
       "    </tr>\n",
       "    <tr>\n",
       "      <th>3</th>\n",
       "      <td>Shopping_Mall</td>\n",
       "      <td>2.571713</td>\n",
       "    </tr>\n",
       "    <tr>\n",
       "      <th>4</th>\n",
       "      <td>BED</td>\n",
       "      <td>3.908810</td>\n",
       "    </tr>\n",
       "    <tr>\n",
       "      <th>5</th>\n",
       "      <td>School</td>\n",
       "      <td>3.872729</td>\n",
       "    </tr>\n",
       "    <tr>\n",
       "      <th>6</th>\n",
       "      <td>Sports_Facility</td>\n",
       "      <td>3.235586</td>\n",
       "    </tr>\n",
       "    <tr>\n",
       "      <th>7</th>\n",
       "      <td>TV</td>\n",
       "      <td>2.915148</td>\n",
       "    </tr>\n",
       "    <tr>\n",
       "      <th>8</th>\n",
       "      <td>Wifi</td>\n",
       "      <td>1.128774</td>\n",
       "    </tr>\n",
       "    <tr>\n",
       "      <th>9</th>\n",
       "      <td>Rain_Water_Harvesting</td>\n",
       "      <td>5.506987</td>\n",
       "    </tr>\n",
       "    <tr>\n",
       "      <th>10</th>\n",
       "      <td>Multipurpose_Room</td>\n",
       "      <td>2.739645</td>\n",
       "    </tr>\n",
       "    <tr>\n",
       "      <th>11</th>\n",
       "      <td>Car_Parking</td>\n",
       "      <td>6.159187</td>\n",
       "    </tr>\n",
       "    <tr>\n",
       "      <th>12</th>\n",
       "      <td>Jogging_Track</td>\n",
       "      <td>3.870582</td>\n",
       "    </tr>\n",
       "    <tr>\n",
       "      <th>13</th>\n",
       "      <td>Refrigerator</td>\n",
       "      <td>5.905686</td>\n",
       "    </tr>\n",
       "    <tr>\n",
       "      <th>14</th>\n",
       "      <td>Staff_Quarter</td>\n",
       "      <td>2.247445</td>\n",
       "    </tr>\n",
       "    <tr>\n",
       "      <th>15</th>\n",
       "      <td>Hospital</td>\n",
       "      <td>3.584941</td>\n",
       "    </tr>\n",
       "    <tr>\n",
       "      <th>16</th>\n",
       "      <td>Landscaped_Gardens</td>\n",
       "      <td>1.566358</td>\n",
       "    </tr>\n",
       "    <tr>\n",
       "      <th>17</th>\n",
       "      <td>Cafeteria</td>\n",
       "      <td>2.216285</td>\n",
       "    </tr>\n",
       "    <tr>\n",
       "      <th>18</th>\n",
       "      <td>AC</td>\n",
       "      <td>1.894435</td>\n",
       "    </tr>\n",
       "    <tr>\n",
       "      <th>19</th>\n",
       "      <td>24_X_7_Security</td>\n",
       "      <td>6.392262</td>\n",
       "    </tr>\n",
       "    <tr>\n",
       "      <th>20</th>\n",
       "      <td>Children's_play_area</td>\n",
       "      <td>8.455531</td>\n",
       "    </tr>\n",
       "    <tr>\n",
       "      <th>21</th>\n",
       "      <td>Club_House</td>\n",
       "      <td>7.039256</td>\n",
       "    </tr>\n",
       "    <tr>\n",
       "      <th>22</th>\n",
       "      <td>Sofa</td>\n",
       "      <td>4.412248</td>\n",
       "    </tr>\n",
       "    <tr>\n",
       "      <th>23</th>\n",
       "      <td>Indoor_Games</td>\n",
       "      <td>3.521591</td>\n",
       "    </tr>\n",
       "    <tr>\n",
       "      <th>24</th>\n",
       "      <td>Dining_Table</td>\n",
       "      <td>3.867826</td>\n",
       "    </tr>\n",
       "    <tr>\n",
       "      <th>25</th>\n",
       "      <td>Golf_Course</td>\n",
       "      <td>1.282768</td>\n",
       "    </tr>\n",
       "    <tr>\n",
       "      <th>26</th>\n",
       "      <td>Gymnasium</td>\n",
       "      <td>9.364310</td>\n",
       "    </tr>\n",
       "    <tr>\n",
       "      <th>27</th>\n",
       "      <td>Maintenance_Staff</td>\n",
       "      <td>2.228982</td>\n",
       "    </tr>\n",
       "    <tr>\n",
       "      <th>28</th>\n",
       "      <td>Wardrobe</td>\n",
       "      <td>1.320348</td>\n",
       "    </tr>\n",
       "    <tr>\n",
       "      <th>29</th>\n",
       "      <td>Swimming_Pool</td>\n",
       "      <td>6.527243</td>\n",
       "    </tr>\n",
       "    <tr>\n",
       "      <th>30</th>\n",
       "      <td>Microwave</td>\n",
       "      <td>4.699128</td>\n",
       "    </tr>\n",
       "    <tr>\n",
       "      <th>31</th>\n",
       "      <td>Vaastu_Compliant</td>\n",
       "      <td>3.484284</td>\n",
       "    </tr>\n",
       "    <tr>\n",
       "      <th>32</th>\n",
       "      <td>Gas_connection</td>\n",
       "      <td>2.548114</td>\n",
       "    </tr>\n",
       "    <tr>\n",
       "      <th>33</th>\n",
       "      <td>ATM</td>\n",
       "      <td>2.671181</td>\n",
       "    </tr>\n",
       "    <tr>\n",
       "      <th>34</th>\n",
       "      <td>Intercom</td>\n",
       "      <td>7.358315</td>\n",
       "    </tr>\n",
       "  </tbody>\n",
       "</table>\n",
       "</div>"
      ],
      "text/plain": [
       "                  Feature        VIF\n",
       "0       Full_Power_Backup   9.126685\n",
       "1                 Lift(s)  11.852466\n",
       "2         Washing_Machine   6.298539\n",
       "3           Shopping_Mall   2.571713\n",
       "4                     BED   3.908810\n",
       "5                  School   3.872729\n",
       "6         Sports_Facility   3.235586\n",
       "7                      TV   2.915148\n",
       "8                    Wifi   1.128774\n",
       "9   Rain_Water_Harvesting   5.506987\n",
       "10      Multipurpose_Room   2.739645\n",
       "11            Car_Parking   6.159187\n",
       "12          Jogging_Track   3.870582\n",
       "13           Refrigerator   5.905686\n",
       "14          Staff_Quarter   2.247445\n",
       "15               Hospital   3.584941\n",
       "16     Landscaped_Gardens   1.566358\n",
       "17              Cafeteria   2.216285\n",
       "18                     AC   1.894435\n",
       "19        24_X_7_Security   6.392262\n",
       "20   Children's_play_area   8.455531\n",
       "21             Club_House   7.039256\n",
       "22                   Sofa   4.412248\n",
       "23           Indoor_Games   3.521591\n",
       "24           Dining_Table   3.867826\n",
       "25            Golf_Course   1.282768\n",
       "26              Gymnasium   9.364310\n",
       "27      Maintenance_Staff   2.228982\n",
       "28               Wardrobe   1.320348\n",
       "29          Swimming_Pool   6.527243\n",
       "30              Microwave   4.699128\n",
       "31       Vaastu_Compliant   3.484284\n",
       "32         Gas_connection   2.548114\n",
       "33                    ATM   2.671181\n",
       "34               Intercom   7.358315"
      ]
     },
     "execution_count": 69,
     "metadata": {},
     "output_type": "execute_result"
    }
   ],
   "source": [
    "vif_data = pd.DataFrame()\n",
    "vif_data[\"Feature\"] = df_fa_X.columns\n",
    "  \n",
    "# calculating VIF for each feature\n",
    "vif_data[\"VIF\"] = [variance_inflation_factor(df_fa_X.values, i)\n",
    "                          for i in range(len(df_fa_X.columns))]\n",
    "  \n",
    "vif_data"
   ]
  },
  {
   "cell_type": "markdown",
   "id": "2a697af3",
   "metadata": {},
   "source": [
    "### Test to check for fit of data for FA"
   ]
  },
  {
   "cell_type": "code",
   "execution_count": 70,
   "id": "2bf85b92",
   "metadata": {},
   "outputs": [
    {
     "name": "stdout",
     "output_type": "stream",
     "text": [
      "Chi_sq: 194390.10552845642, p-value: 0.0\n"
     ]
    }
   ],
   "source": [
    "chi_sq, p_value = calculate_bartlett_sphericity(df_fa_X)\n",
    "chi_sq\n",
    "print(\"Chi_sq: {}, p-value: {}\".format(chi_sq, p_value))"
   ]
  },
  {
   "cell_type": "code",
   "execution_count": 71,
   "id": "02a203ec",
   "metadata": {},
   "outputs": [],
   "source": [
    "kmo_all,kmo_model=calculate_kmo(df_fa_X)"
   ]
  },
  {
   "cell_type": "code",
   "execution_count": 72,
   "id": "663fba17",
   "metadata": {},
   "outputs": [
    {
     "data": {
      "text/plain": [
       "0.9205124119758122"
      ]
     },
     "execution_count": 72,
     "metadata": {},
     "output_type": "execute_result"
    }
   ],
   "source": [
    "kmo_model"
   ]
  },
  {
   "cell_type": "markdown",
   "id": "dfe75659",
   "metadata": {},
   "source": [
    "### Applying FA & Getting eigen value"
   ]
  },
  {
   "cell_type": "code",
   "execution_count": 73,
   "id": "7d6b336f",
   "metadata": {},
   "outputs": [
    {
     "data": {
      "text/plain": [
       "array([8.80986254, 5.85609824, 2.82604421, 2.04211656, 1.46978142,\n",
       "       1.21604234, 1.07929981, 1.00267439, 0.91336983, 0.77944264,\n",
       "       0.7266558 , 0.65869872, 0.59126176, 0.55631944, 0.54001342,\n",
       "       0.48173198, 0.42487596, 0.41177067, 0.39063097, 0.37766775,\n",
       "       0.3595339 , 0.34412162, 0.33358765, 0.32739903, 0.31064614,\n",
       "       0.2981492 , 0.28629521, 0.25563606, 0.24644273, 0.23438616,\n",
       "       0.2243533 , 0.17986906, 0.17351098, 0.1533794 , 0.11833114])"
      ]
     },
     "execution_count": 73,
     "metadata": {},
     "output_type": "execute_result"
    }
   ],
   "source": [
    "from factor_analyzer import FactorAnalyzer\n",
    "\n",
    "fa = FactorAnalyzer()\n",
    "fa.fit(df_fa_X)\n",
    "\n",
    "# Check Eigenvalues\n",
    "ev, v = fa.get_eigenvalues()\n",
    "ev"
   ]
  },
  {
   "cell_type": "code",
   "execution_count": 74,
   "id": "1f52e159",
   "metadata": {},
   "outputs": [
    {
     "data": {
      "image/png": "[encoded data removed]",
      "text/plain": [
       "<Figure size 720x576 with 1 Axes>"
      ]
     },
     "metadata": {
      "needs_background": "light"
     },
     "output_type": "display_data"
    }
   ],
   "source": [
    "plt.figure(figsize=(10,8))\n",
    "plt.scatter(range(1,df_fa_X.shape[1]+1),ev)\n",
    "plt.plot(range(1,df_fa_X.shape[1]+1),ev)\n",
    "plt.title('Scree Plot')\n",
    "plt.xlabel('Factors')\n",
    "plt.ylabel('Eigenvalue')\n",
    "plt.grid()\n",
    "plt.axhline(y=1,c='k')\n",
    "plt.show()"
   ]
  },
  {
   "cell_type": "markdown",
   "id": "bb436f92",
   "metadata": {},
   "source": [
    "### Loading Matrix"
   ]
  },
  {
   "cell_type": "code",
   "execution_count": 75,
   "id": "f2047adc",
   "metadata": {},
   "outputs": [
    {
     "data": {
      "text/html": [
       "<div>\n",
       "<style scoped>\n",
       "    .dataframe tbody tr th:only-of-type {\n",
       "        vertical-align: middle;\n",
       "    }\n",
       "\n",
       "    .dataframe tbody tr th {\n",
       "        vertical-align: top;\n",
       "    }\n",
       "\n",
       "    .dataframe thead th {\n",
       "        text-align: right;\n",
       "    }\n",
       "</style>\n",
       "<table border=\"1\" class=\"dataframe\">\n",
       "  <thead>\n",
       "    <tr style=\"text-align: right;\">\n",
       "      <th></th>\n",
       "      <th>0</th>\n",
       "      <th>1</th>\n",
       "      <th>2</th>\n",
       "      <th>3</th>\n",
       "      <th>4</th>\n",
       "      <th>5</th>\n",
       "      <th>6</th>\n",
       "      <th>7</th>\n",
       "    </tr>\n",
       "  </thead>\n",
       "  <tbody>\n",
       "    <tr>\n",
       "      <th>0</th>\n",
       "      <td>0.080495</td>\n",
       "      <td>0.316745</td>\n",
       "      <td>0.071684</td>\n",
       "      <td>0.077444</td>\n",
       "      <td>0.684176</td>\n",
       "      <td>0.013120</td>\n",
       "      <td>0.139878</td>\n",
       "      <td>0.065623</td>\n",
       "    </tr>\n",
       "    <tr>\n",
       "      <th>1</th>\n",
       "      <td>0.084251</td>\n",
       "      <td>0.398700</td>\n",
       "      <td>0.051684</td>\n",
       "      <td>0.045043</td>\n",
       "      <td>0.702653</td>\n",
       "      <td>0.012389</td>\n",
       "      <td>0.011683</td>\n",
       "      <td>0.020641</td>\n",
       "    </tr>\n",
       "    <tr>\n",
       "      <th>2</th>\n",
       "      <td>0.892963</td>\n",
       "      <td>0.066540</td>\n",
       "      <td>0.008650</td>\n",
       "      <td>-0.045256</td>\n",
       "      <td>-0.024512</td>\n",
       "      <td>0.078731</td>\n",
       "      <td>0.047121</td>\n",
       "      <td>-0.075718</td>\n",
       "    </tr>\n",
       "    <tr>\n",
       "      <th>3</th>\n",
       "      <td>0.004976</td>\n",
       "      <td>0.135304</td>\n",
       "      <td>0.731872</td>\n",
       "      <td>0.185828</td>\n",
       "      <td>0.082702</td>\n",
       "      <td>0.078640</td>\n",
       "      <td>0.005222</td>\n",
       "      <td>0.086478</td>\n",
       "    </tr>\n",
       "    <tr>\n",
       "      <th>4</th>\n",
       "      <td>0.806101</td>\n",
       "      <td>-0.131924</td>\n",
       "      <td>-0.006696</td>\n",
       "      <td>-0.003481</td>\n",
       "      <td>0.096025</td>\n",
       "      <td>-0.031118</td>\n",
       "      <td>0.001122</td>\n",
       "      <td>0.072414</td>\n",
       "    </tr>\n",
       "  </tbody>\n",
       "</table>\n",
       "</div>"
      ],
      "text/plain": [
       "          0         1         2         3         4         5         6  \\\n",
       "0  0.080495  0.316745  0.071684  0.077444  0.684176  0.013120  0.139878   \n",
       "1  0.084251  0.398700  0.051684  0.045043  0.702653  0.012389  0.011683   \n",
       "2  0.892963  0.066540  0.008650 -0.045256 -0.024512  0.078731  0.047121   \n",
       "3  0.004976  0.135304  0.731872  0.185828  0.082702  0.078640  0.005222   \n",
       "4  0.806101 -0.131924 -0.006696 -0.003481  0.096025 -0.031118  0.001122   \n",
       "\n",
       "          7  \n",
       "0  0.065623  \n",
       "1  0.020641  \n",
       "2 -0.075718  \n",
       "3  0.086478  \n",
       "4  0.072414  "
      ]
     },
     "execution_count": 75,
     "metadata": {},
     "output_type": "execute_result"
    }
   ],
   "source": [
    "fa_v = FactorAnalyzer(8, rotation=\"varimax\")\n",
    "fa_v.fit(df_fa_X)\n",
    "loadsvarimax = fa_v.loadings_\n",
    "loadsvarimax_data = pd.DataFrame(loadsvarimax)\n",
    "loadsvarimax_data.head()"
   ]
  },
  {
   "cell_type": "code",
   "execution_count": 76,
   "id": "7aa71ef2",
   "metadata": {},
   "outputs": [],
   "source": [
    "loadsvarimax_data.index = df_fa_X.columns"
   ]
  },
  {
   "cell_type": "code",
   "execution_count": 77,
   "id": "c8051981",
   "metadata": {},
   "outputs": [],
   "source": [
    "factor_result = loadsvarimax_data.style.highlight_max(color = 'lightblue', axis = 1)\n",
    "factor_result.to_excel('factor.xlsx', engine='openpyxl', index=True)"
   ]
  },
  {
   "cell_type": "code",
   "execution_count": 78,
   "id": "e24c6513",
   "metadata": {},
   "outputs": [
    {
     "data": {
      "text/html": [
       "<style type=\"text/css\">\n",
       "#T_3b6ef_row0_col4, #T_3b6ef_row1_col4, #T_3b6ef_row2_col0, #T_3b6ef_row3_col2, #T_3b6ef_row4_col0, #T_3b6ef_row5_col2, #T_3b6ef_row6_col6, #T_3b6ef_row7_col0, #T_3b6ef_row8_col5, #T_3b6ef_row9_col1, #T_3b6ef_row10_col3, #T_3b6ef_row11_col1, #T_3b6ef_row12_col1, #T_3b6ef_row13_col0, #T_3b6ef_row14_col7, #T_3b6ef_row15_col2, #T_3b6ef_row16_col5, #T_3b6ef_row17_col3, #T_3b6ef_row18_col0, #T_3b6ef_row19_col1, #T_3b6ef_row20_col1, #T_3b6ef_row21_col1, #T_3b6ef_row22_col0, #T_3b6ef_row23_col1, #T_3b6ef_row24_col0, #T_3b6ef_row25_col3, #T_3b6ef_row26_col1, #T_3b6ef_row27_col5, #T_3b6ef_row28_col5, #T_3b6ef_row29_col1, #T_3b6ef_row30_col0, #T_3b6ef_row31_col7, #T_3b6ef_row32_col6, #T_3b6ef_row33_col2, #T_3b6ef_row34_col4 {\n",
       "  background-color: lightblue;\n",
       "}\n",
       "</style>\n",
       "<table id=\"T_3b6ef\">\n",
       "  <thead>\n",
       "    <tr>\n",
       "      <th class=\"blank level0\" >&nbsp;</th>\n",
       "      <th id=\"T_3b6ef_level0_col0\" class=\"col_heading level0 col0\" >0</th>\n",
       "      <th id=\"T_3b6ef_level0_col1\" class=\"col_heading level0 col1\" >1</th>\n",
       "      <th id=\"T_3b6ef_level0_col2\" class=\"col_heading level0 col2\" >2</th>\n",
       "      <th id=\"T_3b6ef_level0_col3\" class=\"col_heading level0 col3\" >3</th>\n",
       "      <th id=\"T_3b6ef_level0_col4\" class=\"col_heading level0 col4\" >4</th>\n",
       "      <th id=\"T_3b6ef_level0_col5\" class=\"col_heading level0 col5\" >5</th>\n",
       "      <th id=\"T_3b6ef_level0_col6\" class=\"col_heading level0 col6\" >6</th>\n",
       "      <th id=\"T_3b6ef_level0_col7\" class=\"col_heading level0 col7\" >7</th>\n",
       "    </tr>\n",
       "  </thead>\n",
       "  <tbody>\n",
       "    <tr>\n",
       "      <th id=\"T_3b6ef_level0_row0\" class=\"row_heading level0 row0\" >Full_Power_Backup</th>\n",
       "      <td id=\"T_3b6ef_row0_col0\" class=\"data row0 col0\" >0.080495</td>\n",
       "      <td id=\"T_3b6ef_row0_col1\" class=\"data row0 col1\" >0.316745</td>\n",
       "      <td id=\"T_3b6ef_row0_col2\" class=\"data row0 col2\" >0.071684</td>\n",
       "      <td id=\"T_3b6ef_row0_col3\" class=\"data row0 col3\" >0.077444</td>\n",
       "      <td id=\"T_3b6ef_row0_col4\" class=\"data row0 col4\" >0.684176</td>\n",
       "      <td id=\"T_3b6ef_row0_col5\" class=\"data row0 col5\" >0.013120</td>\n",
       "      <td id=\"T_3b6ef_row0_col6\" class=\"data row0 col6\" >0.139878</td>\n",
       "      <td id=\"T_3b6ef_row0_col7\" class=\"data row0 col7\" >0.065623</td>\n",
       "    </tr>\n",
       "    <tr>\n",
       "      <th id=\"T_3b6ef_level0_row1\" class=\"row_heading level0 row1\" >Lift(s)</th>\n",
       "      <td id=\"T_3b6ef_row1_col0\" class=\"data row1 col0\" >0.084251</td>\n",
       "      <td id=\"T_3b6ef_row1_col1\" class=\"data row1 col1\" >0.398700</td>\n",
       "      <td id=\"T_3b6ef_row1_col2\" class=\"data row1 col2\" >0.051684</td>\n",
       "      <td id=\"T_3b6ef_row1_col3\" class=\"data row1 col3\" >0.045043</td>\n",
       "      <td id=\"T_3b6ef_row1_col4\" class=\"data row1 col4\" >0.702653</td>\n",
       "      <td id=\"T_3b6ef_row1_col5\" class=\"data row1 col5\" >0.012389</td>\n",
       "      <td id=\"T_3b6ef_row1_col6\" class=\"data row1 col6\" >0.011683</td>\n",
       "      <td id=\"T_3b6ef_row1_col7\" class=\"data row1 col7\" >0.020641</td>\n",
       "    </tr>\n",
       "    <tr>\n",
       "      <th id=\"T_3b6ef_level0_row2\" class=\"row_heading level0 row2\" >Washing_Machine</th>\n",
       "      <td id=\"T_3b6ef_row2_col0\" class=\"data row2 col0\" >0.892963</td>\n",
       "      <td id=\"T_3b6ef_row2_col1\" class=\"data row2 col1\" >0.066540</td>\n",
       "      <td id=\"T_3b6ef_row2_col2\" class=\"data row2 col2\" >0.008650</td>\n",
       "      <td id=\"T_3b6ef_row2_col3\" class=\"data row2 col3\" >-0.045256</td>\n",
       "      <td id=\"T_3b6ef_row2_col4\" class=\"data row2 col4\" >-0.024512</td>\n",
       "      <td id=\"T_3b6ef_row2_col5\" class=\"data row2 col5\" >0.078731</td>\n",
       "      <td id=\"T_3b6ef_row2_col6\" class=\"data row2 col6\" >0.047121</td>\n",
       "      <td id=\"T_3b6ef_row2_col7\" class=\"data row2 col7\" >-0.075718</td>\n",
       "    </tr>\n",
       "    <tr>\n",
       "      <th id=\"T_3b6ef_level0_row3\" class=\"row_heading level0 row3\" >Shopping_Mall</th>\n",
       "      <td id=\"T_3b6ef_row3_col0\" class=\"data row3 col0\" >0.004976</td>\n",
       "      <td id=\"T_3b6ef_row3_col1\" class=\"data row3 col1\" >0.135304</td>\n",
       "      <td id=\"T_3b6ef_row3_col2\" class=\"data row3 col2\" >0.731872</td>\n",
       "      <td id=\"T_3b6ef_row3_col3\" class=\"data row3 col3\" >0.185828</td>\n",
       "      <td id=\"T_3b6ef_row3_col4\" class=\"data row3 col4\" >0.082702</td>\n",
       "      <td id=\"T_3b6ef_row3_col5\" class=\"data row3 col5\" >0.078640</td>\n",
       "      <td id=\"T_3b6ef_row3_col6\" class=\"data row3 col6\" >0.005222</td>\n",
       "      <td id=\"T_3b6ef_row3_col7\" class=\"data row3 col7\" >0.086478</td>\n",
       "    </tr>\n",
       "    <tr>\n",
       "      <th id=\"T_3b6ef_level0_row4\" class=\"row_heading level0 row4\" >BED</th>\n",
       "      <td id=\"T_3b6ef_row4_col0\" class=\"data row4 col0\" >0.806101</td>\n",
       "      <td id=\"T_3b6ef_row4_col1\" class=\"data row4 col1\" >-0.131924</td>\n",
       "      <td id=\"T_3b6ef_row4_col2\" class=\"data row4 col2\" >-0.006696</td>\n",
       "      <td id=\"T_3b6ef_row4_col3\" class=\"data row4 col3\" >-0.003481</td>\n",
       "      <td id=\"T_3b6ef_row4_col4\" class=\"data row4 col4\" >0.096025</td>\n",
       "      <td id=\"T_3b6ef_row4_col5\" class=\"data row4 col5\" >-0.031118</td>\n",
       "      <td id=\"T_3b6ef_row4_col6\" class=\"data row4 col6\" >0.001122</td>\n",
       "      <td id=\"T_3b6ef_row4_col7\" class=\"data row4 col7\" >0.072414</td>\n",
       "    </tr>\n",
       "    <tr>\n",
       "      <th id=\"T_3b6ef_level0_row5\" class=\"row_heading level0 row5\" >School</th>\n",
       "      <td id=\"T_3b6ef_row5_col0\" class=\"data row5 col0\" >0.019846</td>\n",
       "      <td id=\"T_3b6ef_row5_col1\" class=\"data row5 col1\" >0.107353</td>\n",
       "      <td id=\"T_3b6ef_row5_col2\" class=\"data row5 col2\" >0.868643</td>\n",
       "      <td id=\"T_3b6ef_row5_col3\" class=\"data row5 col3\" >0.144394</td>\n",
       "      <td id=\"T_3b6ef_row5_col4\" class=\"data row5 col4\" >0.039688</td>\n",
       "      <td id=\"T_3b6ef_row5_col5\" class=\"data row5 col5\" >0.064677</td>\n",
       "      <td id=\"T_3b6ef_row5_col6\" class=\"data row5 col6\" >-0.002915</td>\n",
       "      <td id=\"T_3b6ef_row5_col7\" class=\"data row5 col7\" >0.050771</td>\n",
       "    </tr>\n",
       "    <tr>\n",
       "      <th id=\"T_3b6ef_level0_row6\" class=\"row_heading level0 row6\" >Sports_Facility</th>\n",
       "      <td id=\"T_3b6ef_row6_col0\" class=\"data row6 col0\" >0.057520</td>\n",
       "      <td id=\"T_3b6ef_row6_col1\" class=\"data row6 col1\" >0.472833</td>\n",
       "      <td id=\"T_3b6ef_row6_col2\" class=\"data row6 col2\" >0.130049</td>\n",
       "      <td id=\"T_3b6ef_row6_col3\" class=\"data row6 col3\" >0.096450</td>\n",
       "      <td id=\"T_3b6ef_row6_col4\" class=\"data row6 col4\" >0.221595</td>\n",
       "      <td id=\"T_3b6ef_row6_col5\" class=\"data row6 col5\" >0.084437</td>\n",
       "      <td id=\"T_3b6ef_row6_col6\" class=\"data row6 col6\" >0.558986</td>\n",
       "      <td id=\"T_3b6ef_row6_col7\" class=\"data row6 col7\" >0.025537</td>\n",
       "    </tr>\n",
       "    <tr>\n",
       "      <th id=\"T_3b6ef_level0_row7\" class=\"row_heading level0 row7\" >TV</th>\n",
       "      <td id=\"T_3b6ef_row7_col0\" class=\"data row7 col0\" >0.805228</td>\n",
       "      <td id=\"T_3b6ef_row7_col1\" class=\"data row7 col1\" >-0.011247</td>\n",
       "      <td id=\"T_3b6ef_row7_col2\" class=\"data row7 col2\" >-0.012139</td>\n",
       "      <td id=\"T_3b6ef_row7_col3\" class=\"data row7 col3\" >-0.014141</td>\n",
       "      <td id=\"T_3b6ef_row7_col4\" class=\"data row7 col4\" >-0.029494</td>\n",
       "      <td id=\"T_3b6ef_row7_col5\" class=\"data row7 col5\" >0.008735</td>\n",
       "      <td id=\"T_3b6ef_row7_col6\" class=\"data row7 col6\" >0.027550</td>\n",
       "      <td id=\"T_3b6ef_row7_col7\" class=\"data row7 col7\" >-0.013435</td>\n",
       "    </tr>\n",
       "    <tr>\n",
       "      <th id=\"T_3b6ef_level0_row8\" class=\"row_heading level0 row8\" >Wifi</th>\n",
       "      <td id=\"T_3b6ef_row8_col0\" class=\"data row8 col0\" >0.067166</td>\n",
       "      <td id=\"T_3b6ef_row8_col1\" class=\"data row8 col1\" >-0.031231</td>\n",
       "      <td id=\"T_3b6ef_row8_col2\" class=\"data row8 col2\" >0.118222</td>\n",
       "      <td id=\"T_3b6ef_row8_col3\" class=\"data row8 col3\" >-0.044154</td>\n",
       "      <td id=\"T_3b6ef_row8_col4\" class=\"data row8 col4\" >-0.046442</td>\n",
       "      <td id=\"T_3b6ef_row8_col5\" class=\"data row8 col5\" >0.277325</td>\n",
       "      <td id=\"T_3b6ef_row8_col6\" class=\"data row8 col6\" >0.039104</td>\n",
       "      <td id=\"T_3b6ef_row8_col7\" class=\"data row8 col7\" >-0.022449</td>\n",
       "    </tr>\n",
       "    <tr>\n",
       "      <th id=\"T_3b6ef_level0_row9\" class=\"row_heading level0 row9\" >Rain_Water_Harvesting</th>\n",
       "      <td id=\"T_3b6ef_row9_col0\" class=\"data row9 col0\" >-0.081565</td>\n",
       "      <td id=\"T_3b6ef_row9_col1\" class=\"data row9 col1\" >0.596472</td>\n",
       "      <td id=\"T_3b6ef_row9_col2\" class=\"data row9 col2\" >0.152362</td>\n",
       "      <td id=\"T_3b6ef_row9_col3\" class=\"data row9 col3\" >0.227434</td>\n",
       "      <td id=\"T_3b6ef_row9_col4\" class=\"data row9 col4\" >0.166041</td>\n",
       "      <td id=\"T_3b6ef_row9_col5\" class=\"data row9 col5\" >0.279753</td>\n",
       "      <td id=\"T_3b6ef_row9_col6\" class=\"data row9 col6\" >-0.275969</td>\n",
       "      <td id=\"T_3b6ef_row9_col7\" class=\"data row9 col7\" >0.234920</td>\n",
       "    </tr>\n",
       "    <tr>\n",
       "      <th id=\"T_3b6ef_level0_row10\" class=\"row_heading level0 row10\" >Multipurpose_Room</th>\n",
       "      <td id=\"T_3b6ef_row10_col0\" class=\"data row10 col0\" >-0.081949</td>\n",
       "      <td id=\"T_3b6ef_row10_col1\" class=\"data row10 col1\" >0.308727</td>\n",
       "      <td id=\"T_3b6ef_row10_col2\" class=\"data row10 col2\" >0.135190</td>\n",
       "      <td id=\"T_3b6ef_row10_col3\" class=\"data row10 col3\" >0.657943</td>\n",
       "      <td id=\"T_3b6ef_row10_col4\" class=\"data row10 col4\" >0.034116</td>\n",
       "      <td id=\"T_3b6ef_row10_col5\" class=\"data row10 col5\" >0.117215</td>\n",
       "      <td id=\"T_3b6ef_row10_col6\" class=\"data row10 col6\" >0.001419</td>\n",
       "      <td id=\"T_3b6ef_row10_col7\" class=\"data row10 col7\" >0.209394</td>\n",
       "    </tr>\n",
       "    <tr>\n",
       "      <th id=\"T_3b6ef_level0_row11\" class=\"row_heading level0 row11\" >Car_Parking</th>\n",
       "      <td id=\"T_3b6ef_row11_col0\" class=\"data row11 col0\" >-0.075181</td>\n",
       "      <td id=\"T_3b6ef_row11_col1\" class=\"data row11 col1\" >0.613731</td>\n",
       "      <td id=\"T_3b6ef_row11_col2\" class=\"data row11 col2\" >0.156161</td>\n",
       "      <td id=\"T_3b6ef_row11_col3\" class=\"data row11 col3\" >0.064178</td>\n",
       "      <td id=\"T_3b6ef_row11_col4\" class=\"data row11 col4\" >0.171384</td>\n",
       "      <td id=\"T_3b6ef_row11_col5\" class=\"data row11 col5\" >0.358970</td>\n",
       "      <td id=\"T_3b6ef_row11_col6\" class=\"data row11 col6\" >-0.357828</td>\n",
       "      <td id=\"T_3b6ef_row11_col7\" class=\"data row11 col7\" >0.176952</td>\n",
       "    </tr>\n",
       "    <tr>\n",
       "      <th id=\"T_3b6ef_level0_row12\" class=\"row_heading level0 row12\" >Jogging_Track</th>\n",
       "      <td id=\"T_3b6ef_row12_col0\" class=\"data row12 col0\" >-0.037377</td>\n",
       "      <td id=\"T_3b6ef_row12_col1\" class=\"data row12 col1\" >0.521277</td>\n",
       "      <td id=\"T_3b6ef_row12_col2\" class=\"data row12 col2\" >0.204502</td>\n",
       "      <td id=\"T_3b6ef_row12_col3\" class=\"data row12 col3\" >0.395845</td>\n",
       "      <td id=\"T_3b6ef_row12_col4\" class=\"data row12 col4\" >0.019778</td>\n",
       "      <td id=\"T_3b6ef_row12_col5\" class=\"data row12 col5\" >0.112151</td>\n",
       "      <td id=\"T_3b6ef_row12_col6\" class=\"data row12 col6\" >-0.109800</td>\n",
       "      <td id=\"T_3b6ef_row12_col7\" class=\"data row12 col7\" >0.316680</td>\n",
       "    </tr>\n",
       "    <tr>\n",
       "      <th id=\"T_3b6ef_level0_row13\" class=\"row_heading level0 row13\" >Refrigerator</th>\n",
       "      <td id=\"T_3b6ef_row13_col0\" class=\"data row13 col0\" >0.892350</td>\n",
       "      <td id=\"T_3b6ef_row13_col1\" class=\"data row13 col1\" >0.063608</td>\n",
       "      <td id=\"T_3b6ef_row13_col2\" class=\"data row13 col2\" >0.005421</td>\n",
       "      <td id=\"T_3b6ef_row13_col3\" class=\"data row13 col3\" >-0.055813</td>\n",
       "      <td id=\"T_3b6ef_row13_col4\" class=\"data row13 col4\" >-0.046007</td>\n",
       "      <td id=\"T_3b6ef_row13_col5\" class=\"data row13 col5\" >0.090039</td>\n",
       "      <td id=\"T_3b6ef_row13_col6\" class=\"data row13 col6\" >0.041319</td>\n",
       "      <td id=\"T_3b6ef_row13_col7\" class=\"data row13 col7\" >-0.070513</td>\n",
       "    </tr>\n",
       "    <tr>\n",
       "      <th id=\"T_3b6ef_level0_row14\" class=\"row_heading level0 row14\" >Staff_Quarter</th>\n",
       "      <td id=\"T_3b6ef_row14_col0\" class=\"data row14 col0\" >0.028828</td>\n",
       "      <td id=\"T_3b6ef_row14_col1\" class=\"data row14 col1\" >0.223532</td>\n",
       "      <td id=\"T_3b6ef_row14_col2\" class=\"data row14 col2\" >0.417986</td>\n",
       "      <td id=\"T_3b6ef_row14_col3\" class=\"data row14 col3\" >0.029734</td>\n",
       "      <td id=\"T_3b6ef_row14_col4\" class=\"data row14 col4\" >0.036427</td>\n",
       "      <td id=\"T_3b6ef_row14_col5\" class=\"data row14 col5\" >0.016261</td>\n",
       "      <td id=\"T_3b6ef_row14_col6\" class=\"data row14 col6\" >0.038967</td>\n",
       "      <td id=\"T_3b6ef_row14_col7\" class=\"data row14 col7\" >0.683535</td>\n",
       "    </tr>\n",
       "    <tr>\n",
       "      <th id=\"T_3b6ef_level0_row15\" class=\"row_heading level0 row15\" >Hospital</th>\n",
       "      <td id=\"T_3b6ef_row15_col0\" class=\"data row15 col0\" >0.018095</td>\n",
       "      <td id=\"T_3b6ef_row15_col1\" class=\"data row15 col1\" >0.090630</td>\n",
       "      <td id=\"T_3b6ef_row15_col2\" class=\"data row15 col2\" >0.849505</td>\n",
       "      <td id=\"T_3b6ef_row15_col3\" class=\"data row15 col3\" >-0.030617</td>\n",
       "      <td id=\"T_3b6ef_row15_col4\" class=\"data row15 col4\" >0.007737</td>\n",
       "      <td id=\"T_3b6ef_row15_col5\" class=\"data row15 col5\" >0.066026</td>\n",
       "      <td id=\"T_3b6ef_row15_col6\" class=\"data row15 col6\" >0.043614</td>\n",
       "      <td id=\"T_3b6ef_row15_col7\" class=\"data row15 col7\" >0.165928</td>\n",
       "    </tr>\n",
       "    <tr>\n",
       "      <th id=\"T_3b6ef_level0_row16\" class=\"row_heading level0 row16\" >Landscaped_Gardens</th>\n",
       "      <td id=\"T_3b6ef_row16_col0\" class=\"data row16 col0\" >0.009465</td>\n",
       "      <td id=\"T_3b6ef_row16_col1\" class=\"data row16 col1\" >0.170082</td>\n",
       "      <td id=\"T_3b6ef_row16_col2\" class=\"data row16 col2\" >0.074728</td>\n",
       "      <td id=\"T_3b6ef_row16_col3\" class=\"data row16 col3\" >0.172118</td>\n",
       "      <td id=\"T_3b6ef_row16_col4\" class=\"data row16 col4\" >0.143172</td>\n",
       "      <td id=\"T_3b6ef_row16_col5\" class=\"data row16 col5\" >0.401485</td>\n",
       "      <td id=\"T_3b6ef_row16_col6\" class=\"data row16 col6\" >-0.060081</td>\n",
       "      <td id=\"T_3b6ef_row16_col7\" class=\"data row16 col7\" >0.047133</td>\n",
       "    </tr>\n",
       "    <tr>\n",
       "      <th id=\"T_3b6ef_level0_row17\" class=\"row_heading level0 row17\" >Cafeteria</th>\n",
       "      <td id=\"T_3b6ef_row17_col0\" class=\"data row17 col0\" >-0.038039</td>\n",
       "      <td id=\"T_3b6ef_row17_col1\" class=\"data row17 col1\" >0.204442</td>\n",
       "      <td id=\"T_3b6ef_row17_col2\" class=\"data row17 col2\" >0.104300</td>\n",
       "      <td id=\"T_3b6ef_row17_col3\" class=\"data row17 col3\" >0.649945</td>\n",
       "      <td id=\"T_3b6ef_row17_col4\" class=\"data row17 col4\" >0.112383</td>\n",
       "      <td id=\"T_3b6ef_row17_col5\" class=\"data row17 col5\" >0.263455</td>\n",
       "      <td id=\"T_3b6ef_row17_col6\" class=\"data row17 col6\" >0.035685</td>\n",
       "      <td id=\"T_3b6ef_row17_col7\" class=\"data row17 col7\" >-0.033183</td>\n",
       "    </tr>\n",
       "    <tr>\n",
       "      <th id=\"T_3b6ef_level0_row18\" class=\"row_heading level0 row18\" >AC</th>\n",
       "      <td id=\"T_3b6ef_row18_col0\" class=\"data row18 col0\" >0.549592</td>\n",
       "      <td id=\"T_3b6ef_row18_col1\" class=\"data row18 col1\" >-0.075386</td>\n",
       "      <td id=\"T_3b6ef_row18_col2\" class=\"data row18 col2\" >0.075322</td>\n",
       "      <td id=\"T_3b6ef_row18_col3\" class=\"data row18 col3\" >-0.046630</td>\n",
       "      <td id=\"T_3b6ef_row18_col4\" class=\"data row18 col4\" >0.084983</td>\n",
       "      <td id=\"T_3b6ef_row18_col5\" class=\"data row18 col5\" >0.021176</td>\n",
       "      <td id=\"T_3b6ef_row18_col6\" class=\"data row18 col6\" >0.152678</td>\n",
       "      <td id=\"T_3b6ef_row18_col7\" class=\"data row18 col7\" >0.020919</td>\n",
       "    </tr>\n",
       "    <tr>\n",
       "      <th id=\"T_3b6ef_level0_row19\" class=\"row_heading level0 row19\" >24_X_7_Security</th>\n",
       "      <td id=\"T_3b6ef_row19_col0\" class=\"data row19 col0\" >-0.062715</td>\n",
       "      <td id=\"T_3b6ef_row19_col1\" class=\"data row19 col1\" >0.551231</td>\n",
       "      <td id=\"T_3b6ef_row19_col2\" class=\"data row19 col2\" >0.134718</td>\n",
       "      <td id=\"T_3b6ef_row19_col3\" class=\"data row19 col3\" >0.205974</td>\n",
       "      <td id=\"T_3b6ef_row19_col4\" class=\"data row19 col4\" >0.237305</td>\n",
       "      <td id=\"T_3b6ef_row19_col5\" class=\"data row19 col5\" >0.371592</td>\n",
       "      <td id=\"T_3b6ef_row19_col6\" class=\"data row19 col6\" >-0.365471</td>\n",
       "      <td id=\"T_3b6ef_row19_col7\" class=\"data row19 col7\" >0.225916</td>\n",
       "    </tr>\n",
       "    <tr>\n",
       "      <th id=\"T_3b6ef_level0_row20\" class=\"row_heading level0 row20\" >Children's_play_area</th>\n",
       "      <td id=\"T_3b6ef_row20_col0\" class=\"data row20 col0\" >-0.030462</td>\n",
       "      <td id=\"T_3b6ef_row20_col1\" class=\"data row20 col1\" >0.720704</td>\n",
       "      <td id=\"T_3b6ef_row20_col2\" class=\"data row20 col2\" >0.066414</td>\n",
       "      <td id=\"T_3b6ef_row20_col3\" class=\"data row20 col3\" >0.134403</td>\n",
       "      <td id=\"T_3b6ef_row20_col4\" class=\"data row20 col4\" >0.244791</td>\n",
       "      <td id=\"T_3b6ef_row20_col5\" class=\"data row20 col5\" >-0.061106</td>\n",
       "      <td id=\"T_3b6ef_row20_col6\" class=\"data row20 col6\" >0.100766</td>\n",
       "      <td id=\"T_3b6ef_row20_col7\" class=\"data row20 col7\" >-0.017239</td>\n",
       "    </tr>\n",
       "    <tr>\n",
       "      <th id=\"T_3b6ef_level0_row21\" class=\"row_heading level0 row21\" >Club_House</th>\n",
       "      <td id=\"T_3b6ef_row21_col0\" class=\"data row21 col0\" >-0.015827</td>\n",
       "      <td id=\"T_3b6ef_row21_col1\" class=\"data row21 col1\" >0.724844</td>\n",
       "      <td id=\"T_3b6ef_row21_col2\" class=\"data row21 col2\" >0.113441</td>\n",
       "      <td id=\"T_3b6ef_row21_col3\" class=\"data row21 col3\" >0.192455</td>\n",
       "      <td id=\"T_3b6ef_row21_col4\" class=\"data row21 col4\" >0.258239</td>\n",
       "      <td id=\"T_3b6ef_row21_col5\" class=\"data row21 col5\" >0.021553</td>\n",
       "      <td id=\"T_3b6ef_row21_col6\" class=\"data row21 col6\" >0.213131</td>\n",
       "      <td id=\"T_3b6ef_row21_col7\" class=\"data row21 col7\" >0.085164</td>\n",
       "    </tr>\n",
       "    <tr>\n",
       "      <th id=\"T_3b6ef_level0_row22\" class=\"row_heading level0 row22\" >Sofa</th>\n",
       "      <td id=\"T_3b6ef_row22_col0\" class=\"data row22 col0\" >0.861948</td>\n",
       "      <td id=\"T_3b6ef_row22_col1\" class=\"data row22 col1\" >-0.069326</td>\n",
       "      <td id=\"T_3b6ef_row22_col2\" class=\"data row22 col2\" >-0.014168</td>\n",
       "      <td id=\"T_3b6ef_row22_col3\" class=\"data row22 col3\" >0.000988</td>\n",
       "      <td id=\"T_3b6ef_row22_col4\" class=\"data row22 col4\" >0.058717</td>\n",
       "      <td id=\"T_3b6ef_row22_col5\" class=\"data row22 col5\" >-0.026814</td>\n",
       "      <td id=\"T_3b6ef_row22_col6\" class=\"data row22 col6\" >-0.009190</td>\n",
       "      <td id=\"T_3b6ef_row22_col7\" class=\"data row22 col7\" >0.061213</td>\n",
       "    </tr>\n",
       "    <tr>\n",
       "      <th id=\"T_3b6ef_level0_row23\" class=\"row_heading level0 row23\" >Indoor_Games</th>\n",
       "      <td id=\"T_3b6ef_row23_col0\" class=\"data row23 col0\" >-0.096196</td>\n",
       "      <td id=\"T_3b6ef_row23_col1\" class=\"data row23 col1\" >0.518580</td>\n",
       "      <td id=\"T_3b6ef_row23_col2\" class=\"data row23 col2\" >0.145142</td>\n",
       "      <td id=\"T_3b6ef_row23_col3\" class=\"data row23 col3\" >0.469365</td>\n",
       "      <td id=\"T_3b6ef_row23_col4\" class=\"data row23 col4\" >0.000263</td>\n",
       "      <td id=\"T_3b6ef_row23_col5\" class=\"data row23 col5\" >0.105070</td>\n",
       "      <td id=\"T_3b6ef_row23_col6\" class=\"data row23 col6\" >-0.194605</td>\n",
       "      <td id=\"T_3b6ef_row23_col7\" class=\"data row23 col7\" >0.102652</td>\n",
       "    </tr>\n",
       "    <tr>\n",
       "      <th id=\"T_3b6ef_level0_row24\" class=\"row_heading level0 row24\" >Dining_Table</th>\n",
       "      <td id=\"T_3b6ef_row24_col0\" class=\"data row24 col0\" >0.844146</td>\n",
       "      <td id=\"T_3b6ef_row24_col1\" class=\"data row24 col1\" >-0.084306</td>\n",
       "      <td id=\"T_3b6ef_row24_col2\" class=\"data row24 col2\" >-0.018259</td>\n",
       "      <td id=\"T_3b6ef_row24_col3\" class=\"data row24 col3\" >0.002702</td>\n",
       "      <td id=\"T_3b6ef_row24_col4\" class=\"data row24 col4\" >0.077600</td>\n",
       "      <td id=\"T_3b6ef_row24_col5\" class=\"data row24 col5\" >-0.039800</td>\n",
       "      <td id=\"T_3b6ef_row24_col6\" class=\"data row24 col6\" >-0.020275</td>\n",
       "      <td id=\"T_3b6ef_row24_col7\" class=\"data row24 col7\" >0.051688</td>\n",
       "    </tr>\n",
       "    <tr>\n",
       "      <th id=\"T_3b6ef_level0_row25\" class=\"row_heading level0 row25\" >Golf_Course</th>\n",
       "      <td id=\"T_3b6ef_row25_col0\" class=\"data row25 col0\" >-0.035221</td>\n",
       "      <td id=\"T_3b6ef_row25_col1\" class=\"data row25 col1\" >0.158351</td>\n",
       "      <td id=\"T_3b6ef_row25_col2\" class=\"data row25 col2\" >0.149640</td>\n",
       "      <td id=\"T_3b6ef_row25_col3\" class=\"data row25 col3\" >0.305893</td>\n",
       "      <td id=\"T_3b6ef_row25_col4\" class=\"data row25 col4\" >0.018674</td>\n",
       "      <td id=\"T_3b6ef_row25_col5\" class=\"data row25 col5\" >-0.019596</td>\n",
       "      <td id=\"T_3b6ef_row25_col6\" class=\"data row25 col6\" >-0.074341</td>\n",
       "      <td id=\"T_3b6ef_row25_col7\" class=\"data row25 col7\" >-0.061525</td>\n",
       "    </tr>\n",
       "    <tr>\n",
       "      <th id=\"T_3b6ef_level0_row26\" class=\"row_heading level0 row26\" >Gymnasium</th>\n",
       "      <td id=\"T_3b6ef_row26_col0\" class=\"data row26 col0\" >-0.027893</td>\n",
       "      <td id=\"T_3b6ef_row26_col1\" class=\"data row26 col1\" >0.780642</td>\n",
       "      <td id=\"T_3b6ef_row26_col2\" class=\"data row26 col2\" >0.065924</td>\n",
       "      <td id=\"T_3b6ef_row26_col3\" class=\"data row26 col3\" >0.104311</td>\n",
       "      <td id=\"T_3b6ef_row26_col4\" class=\"data row26 col4\" >0.214584</td>\n",
       "      <td id=\"T_3b6ef_row26_col5\" class=\"data row26 col5\" >-0.013466</td>\n",
       "      <td id=\"T_3b6ef_row26_col6\" class=\"data row26 col6\" >0.073919</td>\n",
       "      <td id=\"T_3b6ef_row26_col7\" class=\"data row26 col7\" >-0.002628</td>\n",
       "    </tr>\n",
       "    <tr>\n",
       "      <th id=\"T_3b6ef_level0_row27\" class=\"row_heading level0 row27\" >Maintenance_Staff</th>\n",
       "      <td id=\"T_3b6ef_row27_col0\" class=\"data row27 col0\" >-0.035921</td>\n",
       "      <td id=\"T_3b6ef_row27_col1\" class=\"data row27 col1\" >0.179682</td>\n",
       "      <td id=\"T_3b6ef_row27_col2\" class=\"data row27 col2\" >0.102925</td>\n",
       "      <td id=\"T_3b6ef_row27_col3\" class=\"data row27 col3\" >0.419850</td>\n",
       "      <td id=\"T_3b6ef_row27_col4\" class=\"data row27 col4\" >0.162750</td>\n",
       "      <td id=\"T_3b6ef_row27_col5\" class=\"data row27 col5\" >0.430243</td>\n",
       "      <td id=\"T_3b6ef_row27_col6\" class=\"data row27 col6\" >0.033750</td>\n",
       "      <td id=\"T_3b6ef_row27_col7\" class=\"data row27 col7\" >0.247688</td>\n",
       "    </tr>\n",
       "    <tr>\n",
       "      <th id=\"T_3b6ef_level0_row28\" class=\"row_heading level0 row28\" >Wardrobe</th>\n",
       "      <td id=\"T_3b6ef_row28_col0\" class=\"data row28 col0\" >0.057608</td>\n",
       "      <td id=\"T_3b6ef_row28_col1\" class=\"data row28 col1\" >0.003281</td>\n",
       "      <td id=\"T_3b6ef_row28_col2\" class=\"data row28 col2\" >-0.064812</td>\n",
       "      <td id=\"T_3b6ef_row28_col3\" class=\"data row28 col3\" >0.191764</td>\n",
       "      <td id=\"T_3b6ef_row28_col4\" class=\"data row28 col4\" >-0.058687</td>\n",
       "      <td id=\"T_3b6ef_row28_col5\" class=\"data row28 col5\" >0.403084</td>\n",
       "      <td id=\"T_3b6ef_row28_col6\" class=\"data row28 col6\" >0.115287</td>\n",
       "      <td id=\"T_3b6ef_row28_col7\" class=\"data row28 col7\" >0.031798</td>\n",
       "    </tr>\n",
       "    <tr>\n",
       "      <th id=\"T_3b6ef_level0_row29\" class=\"row_heading level0 row29\" >Swimming_Pool</th>\n",
       "      <td id=\"T_3b6ef_row29_col0\" class=\"data row29 col0\" >-0.033164</td>\n",
       "      <td id=\"T_3b6ef_row29_col1\" class=\"data row29 col1\" >0.771213</td>\n",
       "      <td id=\"T_3b6ef_row29_col2\" class=\"data row29 col2\" >0.103353</td>\n",
       "      <td id=\"T_3b6ef_row29_col3\" class=\"data row29 col3\" >0.215676</td>\n",
       "      <td id=\"T_3b6ef_row29_col4\" class=\"data row29 col4\" >0.078496</td>\n",
       "      <td id=\"T_3b6ef_row29_col5\" class=\"data row29 col5\" >0.031973</td>\n",
       "      <td id=\"T_3b6ef_row29_col6\" class=\"data row29 col6\" >0.086814</td>\n",
       "      <td id=\"T_3b6ef_row29_col7\" class=\"data row29 col7\" >0.069998</td>\n",
       "    </tr>\n",
       "    <tr>\n",
       "      <th id=\"T_3b6ef_level0_row30\" class=\"row_heading level0 row30\" >Microwave</th>\n",
       "      <td id=\"T_3b6ef_row30_col0\" class=\"data row30 col0\" >0.849297</td>\n",
       "      <td id=\"T_3b6ef_row30_col1\" class=\"data row30 col1\" >0.072608</td>\n",
       "      <td id=\"T_3b6ef_row30_col2\" class=\"data row30 col2\" >0.013674</td>\n",
       "      <td id=\"T_3b6ef_row30_col3\" class=\"data row30 col3\" >-0.060922</td>\n",
       "      <td id=\"T_3b6ef_row30_col4\" class=\"data row30 col4\" >-0.036456</td>\n",
       "      <td id=\"T_3b6ef_row30_col5\" class=\"data row30 col5\" >0.118595</td>\n",
       "      <td id=\"T_3b6ef_row30_col6\" class=\"data row30 col6\" >0.072831</td>\n",
       "      <td id=\"T_3b6ef_row30_col7\" class=\"data row30 col7\" >-0.084465</td>\n",
       "    </tr>\n",
       "    <tr>\n",
       "      <th id=\"T_3b6ef_level0_row31\" class=\"row_heading level0 row31\" >Vaastu_Compliant</th>\n",
       "      <td id=\"T_3b6ef_row31_col0\" class=\"data row31 col0\" >-0.032265</td>\n",
       "      <td id=\"T_3b6ef_row31_col1\" class=\"data row31 col1\" >0.269147</td>\n",
       "      <td id=\"T_3b6ef_row31_col2\" class=\"data row31 col2\" >0.238331</td>\n",
       "      <td id=\"T_3b6ef_row31_col3\" class=\"data row31 col3\" >0.354487</td>\n",
       "      <td id=\"T_3b6ef_row31_col4\" class=\"data row31 col4\" >0.179077</td>\n",
       "      <td id=\"T_3b6ef_row31_col5\" class=\"data row31 col5\" >0.333397</td>\n",
       "      <td id=\"T_3b6ef_row31_col6\" class=\"data row31 col6\" >-0.031888</td>\n",
       "      <td id=\"T_3b6ef_row31_col7\" class=\"data row31 col7\" >0.498803</td>\n",
       "    </tr>\n",
       "    <tr>\n",
       "      <th id=\"T_3b6ef_level0_row32\" class=\"row_heading level0 row32\" >Gas_connection</th>\n",
       "      <td id=\"T_3b6ef_row32_col0\" class=\"data row32 col0\" >0.197928</td>\n",
       "      <td id=\"T_3b6ef_row32_col1\" class=\"data row32 col1\" >0.005804</td>\n",
       "      <td id=\"T_3b6ef_row32_col2\" class=\"data row32 col2\" >0.008632</td>\n",
       "      <td id=\"T_3b6ef_row32_col3\" class=\"data row32 col3\" >-0.118479</td>\n",
       "      <td id=\"T_3b6ef_row32_col4\" class=\"data row32 col4\" >0.198124</td>\n",
       "      <td id=\"T_3b6ef_row32_col5\" class=\"data row32 col5\" >0.138962</td>\n",
       "      <td id=\"T_3b6ef_row32_col6\" class=\"data row32 col6\" >0.511619</td>\n",
       "      <td id=\"T_3b6ef_row32_col7\" class=\"data row32 col7\" >0.019697</td>\n",
       "    </tr>\n",
       "    <tr>\n",
       "      <th id=\"T_3b6ef_level0_row33\" class=\"row_heading level0 row33\" >ATM</th>\n",
       "      <td id=\"T_3b6ef_row33_col0\" class=\"data row33 col0\" >0.015126</td>\n",
       "      <td id=\"T_3b6ef_row33_col1\" class=\"data row33 col1\" >0.128504</td>\n",
       "      <td id=\"T_3b6ef_row33_col2\" class=\"data row33 col2\" >0.765386</td>\n",
       "      <td id=\"T_3b6ef_row33_col3\" class=\"data row33 col3\" >0.171208</td>\n",
       "      <td id=\"T_3b6ef_row33_col4\" class=\"data row33 col4\" >0.053680</td>\n",
       "      <td id=\"T_3b6ef_row33_col5\" class=\"data row33 col5\" >0.081022</td>\n",
       "      <td id=\"T_3b6ef_row33_col6\" class=\"data row33 col6\" >-0.008386</td>\n",
       "      <td id=\"T_3b6ef_row33_col7\" class=\"data row33 col7\" >0.055023</td>\n",
       "    </tr>\n",
       "    <tr>\n",
       "      <th id=\"T_3b6ef_level0_row34\" class=\"row_heading level0 row34\" >Intercom</th>\n",
       "      <td id=\"T_3b6ef_row34_col0\" class=\"data row34 col0\" >0.057448</td>\n",
       "      <td id=\"T_3b6ef_row34_col1\" class=\"data row34 col1\" >0.440206</td>\n",
       "      <td id=\"T_3b6ef_row34_col2\" class=\"data row34 col2\" >0.071522</td>\n",
       "      <td id=\"T_3b6ef_row34_col3\" class=\"data row34 col3\" >0.119900</td>\n",
       "      <td id=\"T_3b6ef_row34_col4\" class=\"data row34 col4\" >0.592191</td>\n",
       "      <td id=\"T_3b6ef_row34_col5\" class=\"data row34 col5\" >0.034524</td>\n",
       "      <td id=\"T_3b6ef_row34_col6\" class=\"data row34 col6\" >0.234615</td>\n",
       "      <td id=\"T_3b6ef_row34_col7\" class=\"data row34 col7\" >0.050497</td>\n",
       "    </tr>\n",
       "  </tbody>\n",
       "</table>\n"
      ],
      "text/plain": [
       "<pandas.io.formats.style.Styler at 0x1c403f992e0>"
      ]
     },
     "execution_count": 78,
     "metadata": {},
     "output_type": "execute_result"
    }
   ],
   "source": [
    "factor_result"
   ]
  },
  {
   "cell_type": "markdown",
   "id": "8664372a",
   "metadata": {},
   "source": [
    "### Factor Scores"
   ]
  },
  {
   "cell_type": "code",
   "execution_count": 79,
   "id": "3881a3a3",
   "metadata": {
    "scrolled": true
   },
   "outputs": [
    {
     "data": {
      "text/html": [
       "<div>\n",
       "<style scoped>\n",
       "    .dataframe tbody tr th:only-of-type {\n",
       "        vertical-align: middle;\n",
       "    }\n",
       "\n",
       "    .dataframe tbody tr th {\n",
       "        vertical-align: top;\n",
       "    }\n",
       "\n",
       "    .dataframe thead th {\n",
       "        text-align: right;\n",
       "    }\n",
       "</style>\n",
       "<table border=\"1\" class=\"dataframe\">\n",
       "  <thead>\n",
       "    <tr style=\"text-align: right;\">\n",
       "      <th></th>\n",
       "      <th>Fully Furnished Essentials</th>\n",
       "      <th>Premium Lifestyle Amenities</th>\n",
       "      <th>Convenient Neighborhood Services</th>\n",
       "      <th>Recreational and Social Hub</th>\n",
       "      <th>Efficient Infrastructure Services</th>\n",
       "      <th>Modern Comfort and Convenience</th>\n",
       "      <th>Sports</th>\n",
       "      <th>Staff</th>\n",
       "    </tr>\n",
       "  </thead>\n",
       "  <tbody>\n",
       "    <tr>\n",
       "      <th>0</th>\n",
       "      <td>-0.339110</td>\n",
       "      <td>-1.598730</td>\n",
       "      <td>-0.118502</td>\n",
       "      <td>-0.309949</td>\n",
       "      <td>1.027567</td>\n",
       "      <td>-0.153160</td>\n",
       "      <td>0.296538</td>\n",
       "      <td>-0.126421</td>\n",
       "    </tr>\n",
       "    <tr>\n",
       "      <th>1</th>\n",
       "      <td>0.101872</td>\n",
       "      <td>-1.286364</td>\n",
       "      <td>-0.268209</td>\n",
       "      <td>-0.314484</td>\n",
       "      <td>-1.581264</td>\n",
       "      <td>1.264598</td>\n",
       "      <td>-0.283176</td>\n",
       "      <td>0.180845</td>\n",
       "    </tr>\n",
       "    <tr>\n",
       "      <th>2</th>\n",
       "      <td>-0.351610</td>\n",
       "      <td>-0.968535</td>\n",
       "      <td>3.906520</td>\n",
       "      <td>-0.564554</td>\n",
       "      <td>0.411690</td>\n",
       "      <td>0.680239</td>\n",
       "      <td>-1.883585</td>\n",
       "      <td>-0.847601</td>\n",
       "    </tr>\n",
       "    <tr>\n",
       "      <th>3</th>\n",
       "      <td>-0.265031</td>\n",
       "      <td>-0.228875</td>\n",
       "      <td>-0.138472</td>\n",
       "      <td>0.271288</td>\n",
       "      <td>-2.198463</td>\n",
       "      <td>-0.714652</td>\n",
       "      <td>-0.088757</td>\n",
       "      <td>-0.345995</td>\n",
       "    </tr>\n",
       "    <tr>\n",
       "      <th>4</th>\n",
       "      <td>-0.349487</td>\n",
       "      <td>0.347172</td>\n",
       "      <td>0.153181</td>\n",
       "      <td>0.504245</td>\n",
       "      <td>0.451667</td>\n",
       "      <td>-0.007828</td>\n",
       "      <td>1.322632</td>\n",
       "      <td>-0.261523</td>\n",
       "    </tr>\n",
       "  </tbody>\n",
       "</table>\n",
       "</div>"
      ],
      "text/plain": [
       "   Fully Furnished Essentials  Premium Lifestyle Amenities  \\\n",
       "0                   -0.339110                    -1.598730   \n",
       "1                    0.101872                    -1.286364   \n",
       "2                   -0.351610                    -0.968535   \n",
       "3                   -0.265031                    -0.228875   \n",
       "4                   -0.349487                     0.347172   \n",
       "\n",
       "   Convenient Neighborhood Services  Recreational and Social Hub  \\\n",
       "0                         -0.118502                    -0.309949   \n",
       "1                         -0.268209                    -0.314484   \n",
       "2                          3.906520                    -0.564554   \n",
       "3                         -0.138472                     0.271288   \n",
       "4                          0.153181                     0.504245   \n",
       "\n",
       "   Efficient Infrastructure Services  Modern Comfort and Convenience  \\\n",
       "0                           1.027567                       -0.153160   \n",
       "1                          -1.581264                        1.264598   \n",
       "2                           0.411690                        0.680239   \n",
       "3                          -2.198463                       -0.714652   \n",
       "4                           0.451667                       -0.007828   \n",
       "\n",
       "     Sports     Staff  \n",
       "0  0.296538 -0.126421  \n",
       "1 -0.283176  0.180845  \n",
       "2 -1.883585 -0.847601  \n",
       "3 -0.088757 -0.345995  \n",
       "4  1.322632 -0.261523  "
      ]
     },
     "execution_count": 79,
     "metadata": {},
     "output_type": "execute_result"
    }
   ],
   "source": [
    "fscore = fa_v.transform(df_fa_X)\n",
    "fscore_data = pd.DataFrame(fscore, columns=[\"Fully Furnished Essentials\",'Premium Lifestyle Amenities','Convenient Neighborhood Services','Recreational and Social Hub','Efficient Infrastructure Services','Modern Comfort and Convenience','Sports','Staff'])\n",
    "fscore_data.head()"
   ]
  },
  {
   "cell_type": "code",
   "execution_count": 80,
   "id": "dd9f8e1c",
   "metadata": {},
   "outputs": [
    {
     "data": {
      "text/plain": [
       "<AxesSubplot:>"
      ]
     },
     "execution_count": 80,
     "metadata": {},
     "output_type": "execute_result"
    },
    {
     "data": {
      "image/png": "[encoded data removed]",
      "text/plain": [
       "<Figure size 432x288 with 2 Axes>"
      ]
     },
     "metadata": {
      "needs_background": "light"
     },
     "output_type": "display_data"
    }
   ],
   "source": [
    "sns.heatmap(fscore_data.corr(), cmap='Reds')"
   ]
  },
  {
   "cell_type": "code",
   "execution_count": 81,
   "id": "6180b1db",
   "metadata": {},
   "outputs": [
    {
     "data": {
      "text/html": [
       "<div>\n",
       "<style scoped>\n",
       "    .dataframe tbody tr th:only-of-type {\n",
       "        vertical-align: middle;\n",
       "    }\n",
       "\n",
       "    .dataframe tbody tr th {\n",
       "        vertical-align: top;\n",
       "    }\n",
       "\n",
       "    .dataframe thead th {\n",
       "        text-align: right;\n",
       "    }\n",
       "</style>\n",
       "<table border=\"1\" class=\"dataframe\">\n",
       "  <thead>\n",
       "    <tr style=\"text-align: right;\">\n",
       "      <th></th>\n",
       "      <th>Feature</th>\n",
       "      <th>VIF</th>\n",
       "    </tr>\n",
       "  </thead>\n",
       "  <tbody>\n",
       "    <tr>\n",
       "      <th>0</th>\n",
       "      <td>Fully Furnished Essentials</td>\n",
       "      <td>1.002024</td>\n",
       "    </tr>\n",
       "    <tr>\n",
       "      <th>1</th>\n",
       "      <td>Premium Lifestyle Amenities</td>\n",
       "      <td>1.021837</td>\n",
       "    </tr>\n",
       "    <tr>\n",
       "      <th>2</th>\n",
       "      <td>Convenient Neighborhood Services</td>\n",
       "      <td>1.005447</td>\n",
       "    </tr>\n",
       "    <tr>\n",
       "      <th>3</th>\n",
       "      <td>Recreational and Social Hub</td>\n",
       "      <td>1.026977</td>\n",
       "    </tr>\n",
       "    <tr>\n",
       "      <th>4</th>\n",
       "      <td>Efficient Infrastructure Services</td>\n",
       "      <td>1.019734</td>\n",
       "    </tr>\n",
       "    <tr>\n",
       "      <th>5</th>\n",
       "      <td>Modern Comfort and Convenience</td>\n",
       "      <td>1.038713</td>\n",
       "    </tr>\n",
       "    <tr>\n",
       "      <th>6</th>\n",
       "      <td>Sports</td>\n",
       "      <td>1.020929</td>\n",
       "    </tr>\n",
       "    <tr>\n",
       "      <th>7</th>\n",
       "      <td>Staff</td>\n",
       "      <td>1.015333</td>\n",
       "    </tr>\n",
       "  </tbody>\n",
       "</table>\n",
       "</div>"
      ],
      "text/plain": [
       "                             Feature       VIF\n",
       "0         Fully Furnished Essentials  1.002024\n",
       "1        Premium Lifestyle Amenities  1.021837\n",
       "2   Convenient Neighborhood Services  1.005447\n",
       "3        Recreational and Social Hub  1.026977\n",
       "4  Efficient Infrastructure Services  1.019734\n",
       "5     Modern Comfort and Convenience  1.038713\n",
       "6                             Sports  1.020929\n",
       "7                              Staff  1.015333"
      ]
     },
     "execution_count": 81,
     "metadata": {},
     "output_type": "execute_result"
    }
   ],
   "source": [
    "vif_data = pd.DataFrame()\n",
    "vif_data[\"Feature\"] = fscore_data.columns\n",
    "  \n",
    "# calculating VIF for each feature\n",
    "vif_data[\"VIF\"] = [variance_inflation_factor(fscore_data.values, i)\n",
    "                          for i in range(len(fscore_data.columns))]\n",
    "  \n",
    "vif_data"
   ]
  },
  {
   "cell_type": "markdown",
   "id": "80f9fbfd",
   "metadata": {},
   "source": [
    "### Dropping Factorized variables"
   ]
  },
  {
   "cell_type": "code",
   "execution_count": 82,
   "id": "33a090e7",
   "metadata": {},
   "outputs": [],
   "source": [
    "df.drop(columns = df.columns[9:], inplace=True)"
   ]
  },
  {
   "cell_type": "code",
   "execution_count": 83,
   "id": "9888336d",
   "metadata": {},
   "outputs": [
    {
     "data": {
      "text/html": [
       "<div>\n",
       "<style scoped>\n",
       "    .dataframe tbody tr th:only-of-type {\n",
       "        vertical-align: middle;\n",
       "    }\n",
       "\n",
       "    .dataframe tbody tr th {\n",
       "        vertical-align: top;\n",
       "    }\n",
       "\n",
       "    .dataframe thead th {\n",
       "        text-align: right;\n",
       "    }\n",
       "</style>\n",
       "<table border=\"1\" class=\"dataframe\">\n",
       "  <thead>\n",
       "    <tr style=\"text-align: right;\">\n",
       "      <th></th>\n",
       "      <th>Type</th>\n",
       "      <th>Floorsize</th>\n",
       "      <th>Carpet_area</th>\n",
       "      <th>Price_per_sqft</th>\n",
       "      <th>Price</th>\n",
       "      <th>Status</th>\n",
       "      <th>No_Of_Bathrooms</th>\n",
       "      <th>Furnishing_status</th>\n",
       "      <th>Locality</th>\n",
       "    </tr>\n",
       "  </thead>\n",
       "  <tbody>\n",
       "    <tr>\n",
       "      <th>0</th>\n",
       "      <td>1.0</td>\n",
       "      <td>500.0</td>\n",
       "      <td>411.0</td>\n",
       "      <td>40000.0</td>\n",
       "      <td>20000000.0</td>\n",
       "      <td>1</td>\n",
       "      <td>2.0</td>\n",
       "      <td>0</td>\n",
       "      <td>12</td>\n",
       "    </tr>\n",
       "    <tr>\n",
       "      <th>1</th>\n",
       "      <td>1.0</td>\n",
       "      <td>515.0</td>\n",
       "      <td>480.0</td>\n",
       "      <td>4271.0</td>\n",
       "      <td>2200000.0</td>\n",
       "      <td>1</td>\n",
       "      <td>1.0</td>\n",
       "      <td>1</td>\n",
       "      <td>3</td>\n",
       "    </tr>\n",
       "    <tr>\n",
       "      <th>2</th>\n",
       "      <td>1.0</td>\n",
       "      <td>750.0</td>\n",
       "      <td>490.0</td>\n",
       "      <td>6266.0</td>\n",
       "      <td>4700000.0</td>\n",
       "      <td>0</td>\n",
       "      <td>2.0</td>\n",
       "      <td>0</td>\n",
       "      <td>3</td>\n",
       "    </tr>\n",
       "    <tr>\n",
       "      <th>3</th>\n",
       "      <td>1.0</td>\n",
       "      <td>640.0</td>\n",
       "      <td>448.0</td>\n",
       "      <td>5000.0</td>\n",
       "      <td>3200000.0</td>\n",
       "      <td>0</td>\n",
       "      <td>2.0</td>\n",
       "      <td>0</td>\n",
       "      <td>3</td>\n",
       "    </tr>\n",
       "    <tr>\n",
       "      <th>4</th>\n",
       "      <td>1.0</td>\n",
       "      <td>661.0</td>\n",
       "      <td>490.0</td>\n",
       "      <td>6959.0</td>\n",
       "      <td>4600000.0</td>\n",
       "      <td>0</td>\n",
       "      <td>2.0</td>\n",
       "      <td>0</td>\n",
       "      <td>3</td>\n",
       "    </tr>\n",
       "  </tbody>\n",
       "</table>\n",
       "</div>"
      ],
      "text/plain": [
       "   Type  Floorsize  Carpet_area  Price_per_sqft       Price  Status  \\\n",
       "0   1.0      500.0        411.0         40000.0  20000000.0       1   \n",
       "1   1.0      515.0        480.0          4271.0   2200000.0       1   \n",
       "2   1.0      750.0        490.0          6266.0   4700000.0       0   \n",
       "3   1.0      640.0        448.0          5000.0   3200000.0       0   \n",
       "4   1.0      661.0        490.0          6959.0   4600000.0       0   \n",
       "\n",
       "   No_Of_Bathrooms  Furnishing_status  Locality  \n",
       "0              2.0                  0        12  \n",
       "1              1.0                  1         3  \n",
       "2              2.0                  0         3  \n",
       "3              2.0                  0         3  \n",
       "4              2.0                  0         3  "
      ]
     },
     "execution_count": 83,
     "metadata": {},
     "output_type": "execute_result"
    }
   ],
   "source": [
    "df.head()"
   ]
  },
  {
   "cell_type": "markdown",
   "id": "4af76db5",
   "metadata": {},
   "source": [
    "### Splitting data into response and predictors"
   ]
  },
  {
   "cell_type": "code",
   "execution_count": 84,
   "id": "c813c4ef",
   "metadata": {},
   "outputs": [],
   "source": [
    "X, y = df.drop('Price', axis=1), df['Price']"
   ]
  },
  {
   "cell_type": "code",
   "execution_count": 85,
   "id": "185466eb",
   "metadata": {
    "scrolled": false
   },
   "outputs": [
    {
     "data": {
      "text/html": [
       "<div>\n",
       "<style scoped>\n",
       "    .dataframe tbody tr th:only-of-type {\n",
       "        vertical-align: middle;\n",
       "    }\n",
       "\n",
       "    .dataframe tbody tr th {\n",
       "        vertical-align: top;\n",
       "    }\n",
       "\n",
       "    .dataframe thead th {\n",
       "        text-align: right;\n",
       "    }\n",
       "</style>\n",
       "<table border=\"1\" class=\"dataframe\">\n",
       "  <thead>\n",
       "    <tr style=\"text-align: right;\">\n",
       "      <th></th>\n",
       "      <th>Type</th>\n",
       "      <th>Floorsize</th>\n",
       "      <th>Carpet_area</th>\n",
       "      <th>Price_per_sqft</th>\n",
       "      <th>Status</th>\n",
       "      <th>No_Of_Bathrooms</th>\n",
       "      <th>Furnishing_status</th>\n",
       "      <th>Locality</th>\n",
       "    </tr>\n",
       "  </thead>\n",
       "  <tbody>\n",
       "    <tr>\n",
       "      <th>0</th>\n",
       "      <td>1.0</td>\n",
       "      <td>500.0</td>\n",
       "      <td>411.0</td>\n",
       "      <td>40000.0</td>\n",
       "      <td>1</td>\n",
       "      <td>2.0</td>\n",
       "      <td>0</td>\n",
       "      <td>12</td>\n",
       "    </tr>\n",
       "    <tr>\n",
       "      <th>1</th>\n",
       "      <td>1.0</td>\n",
       "      <td>515.0</td>\n",
       "      <td>480.0</td>\n",
       "      <td>4271.0</td>\n",
       "      <td>1</td>\n",
       "      <td>1.0</td>\n",
       "      <td>1</td>\n",
       "      <td>3</td>\n",
       "    </tr>\n",
       "    <tr>\n",
       "      <th>2</th>\n",
       "      <td>1.0</td>\n",
       "      <td>750.0</td>\n",
       "      <td>490.0</td>\n",
       "      <td>6266.0</td>\n",
       "      <td>0</td>\n",
       "      <td>2.0</td>\n",
       "      <td>0</td>\n",
       "      <td>3</td>\n",
       "    </tr>\n",
       "    <tr>\n",
       "      <th>3</th>\n",
       "      <td>1.0</td>\n",
       "      <td>640.0</td>\n",
       "      <td>448.0</td>\n",
       "      <td>5000.0</td>\n",
       "      <td>0</td>\n",
       "      <td>2.0</td>\n",
       "      <td>0</td>\n",
       "      <td>3</td>\n",
       "    </tr>\n",
       "    <tr>\n",
       "      <th>4</th>\n",
       "      <td>1.0</td>\n",
       "      <td>661.0</td>\n",
       "      <td>490.0</td>\n",
       "      <td>6959.0</td>\n",
       "      <td>0</td>\n",
       "      <td>2.0</td>\n",
       "      <td>0</td>\n",
       "      <td>3</td>\n",
       "    </tr>\n",
       "  </tbody>\n",
       "</table>\n",
       "</div>"
      ],
      "text/plain": [
       "   Type  Floorsize  Carpet_area  Price_per_sqft  Status  No_Of_Bathrooms  \\\n",
       "0   1.0      500.0        411.0         40000.0       1              2.0   \n",
       "1   1.0      515.0        480.0          4271.0       1              1.0   \n",
       "2   1.0      750.0        490.0          6266.0       0              2.0   \n",
       "3   1.0      640.0        448.0          5000.0       0              2.0   \n",
       "4   1.0      661.0        490.0          6959.0       0              2.0   \n",
       "\n",
       "   Furnishing_status  Locality  \n",
       "0                  0        12  \n",
       "1                  1         3  \n",
       "2                  0         3  \n",
       "3                  0         3  \n",
       "4                  0         3  "
      ]
     },
     "execution_count": 85,
     "metadata": {},
     "output_type": "execute_result"
    }
   ],
   "source": [
    "X.head()"
   ]
  },
  {
   "cell_type": "code",
   "execution_count": 86,
   "id": "f575a09f",
   "metadata": {},
   "outputs": [
    {
     "data": {
      "text/plain": [
       "0    20000000.0\n",
       "1     2200000.0\n",
       "2     4700000.0\n",
       "3     3200000.0\n",
       "4     4600000.0\n",
       "Name: Price, dtype: float64"
      ]
     },
     "execution_count": 86,
     "metadata": {},
     "output_type": "execute_result"
    }
   ],
   "source": [
    "y.head()"
   ]
  },
  {
   "cell_type": "markdown",
   "id": "9e34b7ee",
   "metadata": {},
   "source": [
    "### Standardizing input variables"
   ]
  },
  {
   "cell_type": "code",
   "execution_count": 87,
   "id": "b0aca2c6",
   "metadata": {},
   "outputs": [],
   "source": [
    "sc = StandardScaler()\n",
    "X_std = sc.fit_transform(X)"
   ]
  },
  {
   "cell_type": "code",
   "execution_count": 88,
   "id": "47accf33",
   "metadata": {},
   "outputs": [],
   "source": [
    "X_std = pd.DataFrame(X_std, columns=X.columns)"
   ]
  },
  {
   "cell_type": "code",
   "execution_count": 89,
   "id": "8bd6e918",
   "metadata": {},
   "outputs": [
    {
     "data": {
      "text/html": [
       "<div>\n",
       "<style scoped>\n",
       "    .dataframe tbody tr th:only-of-type {\n",
       "        vertical-align: middle;\n",
       "    }\n",
       "\n",
       "    .dataframe tbody tr th {\n",
       "        vertical-align: top;\n",
       "    }\n",
       "\n",
       "    .dataframe thead th {\n",
       "        text-align: right;\n",
       "    }\n",
       "</style>\n",
       "<table border=\"1\" class=\"dataframe\">\n",
       "  <thead>\n",
       "    <tr style=\"text-align: right;\">\n",
       "      <th></th>\n",
       "      <th>Type</th>\n",
       "      <th>Floorsize</th>\n",
       "      <th>Carpet_area</th>\n",
       "      <th>Price_per_sqft</th>\n",
       "      <th>Status</th>\n",
       "      <th>No_Of_Bathrooms</th>\n",
       "      <th>Furnishing_status</th>\n",
       "      <th>Locality</th>\n",
       "    </tr>\n",
       "  </thead>\n",
       "  <tbody>\n",
       "    <tr>\n",
       "      <th>0</th>\n",
       "      <td>-1.227156</td>\n",
       "      <td>-0.763227</td>\n",
       "      <td>-0.687814</td>\n",
       "      <td>1.082842</td>\n",
       "      <td>0.925933</td>\n",
       "      <td>-0.360545</td>\n",
       "      <td>-0.654957</td>\n",
       "      <td>0.740086</td>\n",
       "    </tr>\n",
       "    <tr>\n",
       "      <th>1</th>\n",
       "      <td>-1.227156</td>\n",
       "      <td>-0.743662</td>\n",
       "      <td>-0.571967</td>\n",
       "      <td>-1.480726</td>\n",
       "      <td>0.925933</td>\n",
       "      <td>-1.469058</td>\n",
       "      <td>0.934398</td>\n",
       "      <td>-0.878070</td>\n",
       "    </tr>\n",
       "    <tr>\n",
       "      <th>2</th>\n",
       "      <td>-1.227156</td>\n",
       "      <td>-0.437146</td>\n",
       "      <td>-0.555178</td>\n",
       "      <td>-1.337584</td>\n",
       "      <td>-1.079991</td>\n",
       "      <td>-0.360545</td>\n",
       "      <td>-0.654957</td>\n",
       "      <td>-0.878070</td>\n",
       "    </tr>\n",
       "    <tr>\n",
       "      <th>3</th>\n",
       "      <td>-1.227156</td>\n",
       "      <td>-0.580622</td>\n",
       "      <td>-0.625694</td>\n",
       "      <td>-1.428420</td>\n",
       "      <td>-1.079991</td>\n",
       "      <td>-0.360545</td>\n",
       "      <td>-0.654957</td>\n",
       "      <td>-0.878070</td>\n",
       "    </tr>\n",
       "    <tr>\n",
       "      <th>4</th>\n",
       "      <td>-1.227156</td>\n",
       "      <td>-0.553231</td>\n",
       "      <td>-0.555178</td>\n",
       "      <td>-1.287861</td>\n",
       "      <td>-1.079991</td>\n",
       "      <td>-0.360545</td>\n",
       "      <td>-0.654957</td>\n",
       "      <td>-0.878070</td>\n",
       "    </tr>\n",
       "  </tbody>\n",
       "</table>\n",
       "</div>"
      ],
      "text/plain": [
       "       Type  Floorsize  Carpet_area  Price_per_sqft    Status  \\\n",
       "0 -1.227156  -0.763227    -0.687814        1.082842  0.925933   \n",
       "1 -1.227156  -0.743662    -0.571967       -1.480726  0.925933   \n",
       "2 -1.227156  -0.437146    -0.555178       -1.337584 -1.079991   \n",
       "3 -1.227156  -0.580622    -0.625694       -1.428420 -1.079991   \n",
       "4 -1.227156  -0.553231    -0.555178       -1.287861 -1.079991   \n",
       "\n",
       "   No_Of_Bathrooms  Furnishing_status  Locality  \n",
       "0        -0.360545          -0.654957  0.740086  \n",
       "1        -1.469058           0.934398 -0.878070  \n",
       "2        -0.360545          -0.654957 -0.878070  \n",
       "3        -0.360545          -0.654957 -0.878070  \n",
       "4        -0.360545          -0.654957 -0.878070  "
      ]
     },
     "execution_count": 89,
     "metadata": {},
     "output_type": "execute_result"
    }
   ],
   "source": [
    "X_std.head()"
   ]
  },
  {
   "cell_type": "markdown",
   "id": "e8390701",
   "metadata": {},
   "source": [
    "### Factor on Std variable"
   ]
  },
  {
   "cell_type": "code",
   "execution_count": 90,
   "id": "ef5ed2c5",
   "metadata": {},
   "outputs": [
    {
     "data": {
      "text/html": [
       "<div>\n",
       "<style scoped>\n",
       "    .dataframe tbody tr th:only-of-type {\n",
       "        vertical-align: middle;\n",
       "    }\n",
       "\n",
       "    .dataframe tbody tr th {\n",
       "        vertical-align: top;\n",
       "    }\n",
       "\n",
       "    .dataframe thead th {\n",
       "        text-align: right;\n",
       "    }\n",
       "</style>\n",
       "<table border=\"1\" class=\"dataframe\">\n",
       "  <thead>\n",
       "    <tr style=\"text-align: right;\">\n",
       "      <th></th>\n",
       "      <th>Feature</th>\n",
       "      <th>VIF</th>\n",
       "    </tr>\n",
       "  </thead>\n",
       "  <tbody>\n",
       "    <tr>\n",
       "      <th>0</th>\n",
       "      <td>Type</td>\n",
       "      <td>4.350060</td>\n",
       "    </tr>\n",
       "    <tr>\n",
       "      <th>1</th>\n",
       "      <td>Floorsize</td>\n",
       "      <td>21.283215</td>\n",
       "    </tr>\n",
       "    <tr>\n",
       "      <th>2</th>\n",
       "      <td>Carpet_area</td>\n",
       "      <td>21.958531</td>\n",
       "    </tr>\n",
       "    <tr>\n",
       "      <th>3</th>\n",
       "      <td>Price_per_sqft</td>\n",
       "      <td>1.419054</td>\n",
       "    </tr>\n",
       "    <tr>\n",
       "      <th>4</th>\n",
       "      <td>Status</td>\n",
       "      <td>1.267779</td>\n",
       "    </tr>\n",
       "    <tr>\n",
       "      <th>5</th>\n",
       "      <td>No_Of_Bathrooms</td>\n",
       "      <td>3.994286</td>\n",
       "    </tr>\n",
       "    <tr>\n",
       "      <th>6</th>\n",
       "      <td>Furnishing_status</td>\n",
       "      <td>1.209170</td>\n",
       "    </tr>\n",
       "    <tr>\n",
       "      <th>7</th>\n",
       "      <td>Locality</td>\n",
       "      <td>1.020619</td>\n",
       "    </tr>\n",
       "  </tbody>\n",
       "</table>\n",
       "</div>"
      ],
      "text/plain": [
       "             Feature        VIF\n",
       "0               Type   4.350060\n",
       "1          Floorsize  21.283215\n",
       "2        Carpet_area  21.958531\n",
       "3     Price_per_sqft   1.419054\n",
       "4             Status   1.267779\n",
       "5    No_Of_Bathrooms   3.994286\n",
       "6  Furnishing_status   1.209170\n",
       "7           Locality   1.020619"
      ]
     },
     "execution_count": 90,
     "metadata": {},
     "output_type": "execute_result"
    }
   ],
   "source": [
    "vif_data = pd.DataFrame()\n",
    "vif_data[\"Feature\"] = X_std.columns\n",
    "  \n",
    "# calculating VIF for each feature\n",
    "vif_data[\"VIF\"] = [variance_inflation_factor(X_std.values, i)\n",
    "                          for i in range(len(X_std.columns))]\n",
    "  \n",
    "vif_data"
   ]
  },
  {
   "cell_type": "code",
   "execution_count": 91,
   "id": "18c7716f",
   "metadata": {},
   "outputs": [
    {
     "name": "stdout",
     "output_type": "stream",
     "text": [
      "Chi_sq: 51618.57972889536, p-value: 0.0\n"
     ]
    }
   ],
   "source": [
    "chi_sq, p_value = calculate_bartlett_sphericity(X_std)\n",
    "chi_sq\n",
    "print(\"Chi_sq: {}, p-value: {}\".format(chi_sq, p_value))"
   ]
  },
  {
   "cell_type": "code",
   "execution_count": 92,
   "id": "ac3b1765",
   "metadata": {},
   "outputs": [],
   "source": [
    "kmo_all,kmo_model=calculate_kmo(X_std)"
   ]
  },
  {
   "cell_type": "code",
   "execution_count": 93,
   "id": "429e799b",
   "metadata": {},
   "outputs": [
    {
     "data": {
      "text/plain": [
       "0.7446861464746365"
      ]
     },
     "execution_count": 93,
     "metadata": {},
     "output_type": "execute_result"
    }
   ],
   "source": [
    "kmo_model"
   ]
  },
  {
   "cell_type": "code",
   "execution_count": 94,
   "id": "026a55f5",
   "metadata": {},
   "outputs": [
    {
     "data": {
      "text/plain": [
       "array([3.67830347, 1.48103122, 0.94580318, 0.78590942, 0.58373093,\n",
       "       0.35271118, 0.14867354, 0.02383706])"
      ]
     },
     "execution_count": 94,
     "metadata": {},
     "output_type": "execute_result"
    }
   ],
   "source": [
    "from factor_analyzer import FactorAnalyzer\n",
    "\n",
    "fa = FactorAnalyzer()\n",
    "fa.fit(X_std)\n",
    "\n",
    "# Check Eigenvalues\n",
    "ev, v = fa.get_eigenvalues()\n",
    "ev"
   ]
  },
  {
   "cell_type": "code",
   "execution_count": 95,
   "id": "44615980",
   "metadata": {},
   "outputs": [
    {
     "data": {
      "image/png": "[encoded data removed]",
      "text/plain": [
       "<Figure size 720x576 with 1 Axes>"
      ]
     },
     "metadata": {
      "needs_background": "light"
     },
     "output_type": "display_data"
    }
   ],
   "source": [
    "plt.figure(figsize=(10,8))\n",
    "plt.scatter(range(1,X_std.shape[1]+1),ev)\n",
    "plt.plot(range(1,X_std.shape[1]+1),ev)\n",
    "plt.title('Scree Plot')\n",
    "plt.xlabel('Factors')\n",
    "plt.ylabel('Eigenvalue')\n",
    "plt.grid()\n",
    "plt.axhline(y=1,c='k')\n",
    "plt.show()"
   ]
  },
  {
   "cell_type": "code",
   "execution_count": 96,
   "id": "e67eea47",
   "metadata": {},
   "outputs": [
    {
     "data": {
      "text/html": [
       "<div>\n",
       "<style scoped>\n",
       "    .dataframe tbody tr th:only-of-type {\n",
       "        vertical-align: middle;\n",
       "    }\n",
       "\n",
       "    .dataframe tbody tr th {\n",
       "        vertical-align: top;\n",
       "    }\n",
       "\n",
       "    .dataframe thead th {\n",
       "        text-align: right;\n",
       "    }\n",
       "</style>\n",
       "<table border=\"1\" class=\"dataframe\">\n",
       "  <thead>\n",
       "    <tr style=\"text-align: right;\">\n",
       "      <th></th>\n",
       "      <th>0</th>\n",
       "      <th>1</th>\n",
       "    </tr>\n",
       "  </thead>\n",
       "  <tbody>\n",
       "    <tr>\n",
       "      <th>0</th>\n",
       "      <td>0.889935</td>\n",
       "      <td>-0.072579</td>\n",
       "    </tr>\n",
       "    <tr>\n",
       "      <th>1</th>\n",
       "      <td>0.909941</td>\n",
       "      <td>0.150255</td>\n",
       "    </tr>\n",
       "    <tr>\n",
       "      <th>2</th>\n",
       "      <td>0.933303</td>\n",
       "      <td>0.125031</td>\n",
       "    </tr>\n",
       "    <tr>\n",
       "      <th>3</th>\n",
       "      <td>0.433285</td>\n",
       "      <td>-0.170295</td>\n",
       "    </tr>\n",
       "    <tr>\n",
       "      <th>4</th>\n",
       "      <td>0.104556</td>\n",
       "      <td>0.708889</td>\n",
       "    </tr>\n",
       "  </tbody>\n",
       "</table>\n",
       "</div>"
      ],
      "text/plain": [
       "          0         1\n",
       "0  0.889935 -0.072579\n",
       "1  0.909941  0.150255\n",
       "2  0.933303  0.125031\n",
       "3  0.433285 -0.170295\n",
       "4  0.104556  0.708889"
      ]
     },
     "execution_count": 96,
     "metadata": {},
     "output_type": "execute_result"
    }
   ],
   "source": [
    "fa_v = FactorAnalyzer(2, rotation=\"equamax\")\n",
    "fa_v.fit(X_std)\n",
    "loadsvarimax = fa_v.loadings_\n",
    "loadsvarimax_data = pd.DataFrame(loadsvarimax)\n",
    "loadsvarimax_data.head()"
   ]
  },
  {
   "cell_type": "code",
   "execution_count": 97,
   "id": "d5be8b5a",
   "metadata": {},
   "outputs": [],
   "source": [
    "loadsvarimax_data.index = X_std.columns"
   ]
  },
  {
   "cell_type": "code",
   "execution_count": 98,
   "id": "f4632e99",
   "metadata": {},
   "outputs": [],
   "source": [
    "factor_result = loadsvarimax_data.style.highlight_max(color = 'lightblue', axis = 1)\n",
    "factor_result.to_excel('factor.xlsx', engine='openpyxl', index=True)"
   ]
  },
  {
   "cell_type": "code",
   "execution_count": 99,
   "id": "b4529f9c",
   "metadata": {},
   "outputs": [
    {
     "data": {
      "text/html": [
       "<style type=\"text/css\">\n",
       "#T_d5147_row0_col0, #T_d5147_row1_col0, #T_d5147_row2_col0, #T_d5147_row3_col0, #T_d5147_row4_col1, #T_d5147_row5_col0, #T_d5147_row6_col1, #T_d5147_row7_col0 {\n",
       "  background-color: lightblue;\n",
       "}\n",
       "</style>\n",
       "<table id=\"T_d5147\">\n",
       "  <thead>\n",
       "    <tr>\n",
       "      <th class=\"blank level0\" >&nbsp;</th>\n",
       "      <th id=\"T_d5147_level0_col0\" class=\"col_heading level0 col0\" >0</th>\n",
       "      <th id=\"T_d5147_level0_col1\" class=\"col_heading level0 col1\" >1</th>\n",
       "    </tr>\n",
       "  </thead>\n",
       "  <tbody>\n",
       "    <tr>\n",
       "      <th id=\"T_d5147_level0_row0\" class=\"row_heading level0 row0\" >Type</th>\n",
       "      <td id=\"T_d5147_row0_col0\" class=\"data row0 col0\" >0.889935</td>\n",
       "      <td id=\"T_d5147_row0_col1\" class=\"data row0 col1\" >-0.072579</td>\n",
       "    </tr>\n",
       "    <tr>\n",
       "      <th id=\"T_d5147_level0_row1\" class=\"row_heading level0 row1\" >Floorsize</th>\n",
       "      <td id=\"T_d5147_row1_col0\" class=\"data row1 col0\" >0.909941</td>\n",
       "      <td id=\"T_d5147_row1_col1\" class=\"data row1 col1\" >0.150255</td>\n",
       "    </tr>\n",
       "    <tr>\n",
       "      <th id=\"T_d5147_level0_row2\" class=\"row_heading level0 row2\" >Carpet_area</th>\n",
       "      <td id=\"T_d5147_row2_col0\" class=\"data row2 col0\" >0.933303</td>\n",
       "      <td id=\"T_d5147_row2_col1\" class=\"data row2 col1\" >0.125031</td>\n",
       "    </tr>\n",
       "    <tr>\n",
       "      <th id=\"T_d5147_level0_row3\" class=\"row_heading level0 row3\" >Price_per_sqft</th>\n",
       "      <td id=\"T_d5147_row3_col0\" class=\"data row3 col0\" >0.433285</td>\n",
       "      <td id=\"T_d5147_row3_col1\" class=\"data row3 col1\" >-0.170295</td>\n",
       "    </tr>\n",
       "    <tr>\n",
       "      <th id=\"T_d5147_level0_row4\" class=\"row_heading level0 row4\" >Status</th>\n",
       "      <td id=\"T_d5147_row4_col0\" class=\"data row4 col0\" >0.104556</td>\n",
       "      <td id=\"T_d5147_row4_col1\" class=\"data row4 col1\" >0.708889</td>\n",
       "    </tr>\n",
       "    <tr>\n",
       "      <th id=\"T_d5147_level0_row5\" class=\"row_heading level0 row5\" >No_Of_Bathrooms</th>\n",
       "      <td id=\"T_d5147_row5_col0\" class=\"data row5 col0\" >0.868549</td>\n",
       "      <td id=\"T_d5147_row5_col1\" class=\"data row5 col1\" >-0.150582</td>\n",
       "    </tr>\n",
       "    <tr>\n",
       "      <th id=\"T_d5147_level0_row6\" class=\"row_heading level0 row6\" >Furnishing_status</th>\n",
       "      <td id=\"T_d5147_row6_col0\" class=\"data row6 col0\" >0.119148</td>\n",
       "      <td id=\"T_d5147_row6_col1\" class=\"data row6 col1\" >0.513072</td>\n",
       "    </tr>\n",
       "    <tr>\n",
       "      <th id=\"T_d5147_level0_row7\" class=\"row_heading level0 row7\" >Locality</th>\n",
       "      <td id=\"T_d5147_row7_col0\" class=\"data row7 col0\" >-0.012550</td>\n",
       "      <td id=\"T_d5147_row7_col1\" class=\"data row7 col1\" >-0.173330</td>\n",
       "    </tr>\n",
       "  </tbody>\n",
       "</table>\n"
      ],
      "text/plain": [
       "<pandas.io.formats.style.Styler at 0x1c403fa63a0>"
      ]
     },
     "execution_count": 99,
     "metadata": {},
     "output_type": "execute_result"
    }
   ],
   "source": [
    "factor_result"
   ]
  },
  {
   "cell_type": "code",
   "execution_count": 100,
   "id": "a4310184",
   "metadata": {},
   "outputs": [
    {
     "data": {
      "text/html": [
       "<div>\n",
       "<style scoped>\n",
       "    .dataframe tbody tr th:only-of-type {\n",
       "        vertical-align: middle;\n",
       "    }\n",
       "\n",
       "    .dataframe tbody tr th {\n",
       "        vertical-align: top;\n",
       "    }\n",
       "\n",
       "    .dataframe thead th {\n",
       "        text-align: right;\n",
       "    }\n",
       "</style>\n",
       "<table border=\"1\" class=\"dataframe\">\n",
       "  <thead>\n",
       "    <tr style=\"text-align: right;\">\n",
       "      <th></th>\n",
       "      <th>House dynamics</th>\n",
       "      <th>House Status</th>\n",
       "    </tr>\n",
       "  </thead>\n",
       "  <tbody>\n",
       "    <tr>\n",
       "      <th>0</th>\n",
       "      <td>-0.775051</td>\n",
       "      <td>0.244479</td>\n",
       "    </tr>\n",
       "    <tr>\n",
       "      <th>1</th>\n",
       "      <td>-0.982165</td>\n",
       "      <td>1.197008</td>\n",
       "    </tr>\n",
       "    <tr>\n",
       "      <th>2</th>\n",
       "      <td>-0.724337</td>\n",
       "      <td>-0.510160</td>\n",
       "    </tr>\n",
       "    <tr>\n",
       "      <th>3</th>\n",
       "      <td>-0.760820</td>\n",
       "      <td>-0.550258</td>\n",
       "    </tr>\n",
       "    <tr>\n",
       "      <th>4</th>\n",
       "      <td>-0.718320</td>\n",
       "      <td>-0.548206</td>\n",
       "    </tr>\n",
       "  </tbody>\n",
       "</table>\n",
       "</div>"
      ],
      "text/plain": [
       "   House dynamics  House Status\n",
       "0       -0.775051      0.244479\n",
       "1       -0.982165      1.197008\n",
       "2       -0.724337     -0.510160\n",
       "3       -0.760820     -0.550258\n",
       "4       -0.718320     -0.548206"
      ]
     },
     "execution_count": 100,
     "metadata": {},
     "output_type": "execute_result"
    }
   ],
   "source": [
    "fscore = fa_v.transform(X_std)\n",
    "fscore_data1 = pd.DataFrame(fscore, columns=[\"House dynamics\", \"House Status\"])\n",
    "fscore_data1.head()"
   ]
  },
  {
   "cell_type": "code",
   "execution_count": 114,
   "id": "00ae9aac",
   "metadata": {},
   "outputs": [
    {
     "data": {
      "text/html": [
       "<div>\n",
       "<style scoped>\n",
       "    .dataframe tbody tr th:only-of-type {\n",
       "        vertical-align: middle;\n",
       "    }\n",
       "\n",
       "    .dataframe tbody tr th {\n",
       "        vertical-align: top;\n",
       "    }\n",
       "\n",
       "    .dataframe thead th {\n",
       "        text-align: right;\n",
       "    }\n",
       "</style>\n",
       "<table border=\"1\" class=\"dataframe\">\n",
       "  <thead>\n",
       "    <tr style=\"text-align: right;\">\n",
       "      <th></th>\n",
       "      <th>House dynamics</th>\n",
       "      <th>House Status</th>\n",
       "      <th>Fully Furnished Essentials</th>\n",
       "      <th>Premium Lifestyle Amenities</th>\n",
       "      <th>Convenient Neighborhood Services</th>\n",
       "      <th>Recreational and Social Hub</th>\n",
       "      <th>Efficient Infrastructure Services</th>\n",
       "      <th>Modern Comfort and Convenience</th>\n",
       "      <th>Sports</th>\n",
       "      <th>Staff</th>\n",
       "    </tr>\n",
       "  </thead>\n",
       "  <tbody>\n",
       "    <tr>\n",
       "      <th>0</th>\n",
       "      <td>-0.775051</td>\n",
       "      <td>0.244479</td>\n",
       "      <td>-0.339110</td>\n",
       "      <td>-1.598730</td>\n",
       "      <td>-0.118502</td>\n",
       "      <td>-0.309949</td>\n",
       "      <td>1.027567</td>\n",
       "      <td>-0.153160</td>\n",
       "      <td>0.296538</td>\n",
       "      <td>-0.126421</td>\n",
       "    </tr>\n",
       "    <tr>\n",
       "      <th>1</th>\n",
       "      <td>-0.982165</td>\n",
       "      <td>1.197008</td>\n",
       "      <td>0.101872</td>\n",
       "      <td>-1.286364</td>\n",
       "      <td>-0.268209</td>\n",
       "      <td>-0.314484</td>\n",
       "      <td>-1.581264</td>\n",
       "      <td>1.264598</td>\n",
       "      <td>-0.283176</td>\n",
       "      <td>0.180845</td>\n",
       "    </tr>\n",
       "    <tr>\n",
       "      <th>2</th>\n",
       "      <td>-0.724337</td>\n",
       "      <td>-0.510160</td>\n",
       "      <td>-0.351610</td>\n",
       "      <td>-0.968535</td>\n",
       "      <td>3.906520</td>\n",
       "      <td>-0.564554</td>\n",
       "      <td>0.411690</td>\n",
       "      <td>0.680239</td>\n",
       "      <td>-1.883585</td>\n",
       "      <td>-0.847601</td>\n",
       "    </tr>\n",
       "    <tr>\n",
       "      <th>3</th>\n",
       "      <td>-0.760820</td>\n",
       "      <td>-0.550258</td>\n",
       "      <td>-0.265031</td>\n",
       "      <td>-0.228875</td>\n",
       "      <td>-0.138472</td>\n",
       "      <td>0.271288</td>\n",
       "      <td>-2.198463</td>\n",
       "      <td>-0.714652</td>\n",
       "      <td>-0.088757</td>\n",
       "      <td>-0.345995</td>\n",
       "    </tr>\n",
       "    <tr>\n",
       "      <th>4</th>\n",
       "      <td>-0.718320</td>\n",
       "      <td>-0.548206</td>\n",
       "      <td>-0.349487</td>\n",
       "      <td>0.347172</td>\n",
       "      <td>0.153181</td>\n",
       "      <td>0.504245</td>\n",
       "      <td>0.451667</td>\n",
       "      <td>-0.007828</td>\n",
       "      <td>1.322632</td>\n",
       "      <td>-0.261523</td>\n",
       "    </tr>\n",
       "    <tr>\n",
       "      <th>...</th>\n",
       "      <td>...</td>\n",
       "      <td>...</td>\n",
       "      <td>...</td>\n",
       "      <td>...</td>\n",
       "      <td>...</td>\n",
       "      <td>...</td>\n",
       "      <td>...</td>\n",
       "      <td>...</td>\n",
       "      <td>...</td>\n",
       "      <td>...</td>\n",
       "    </tr>\n",
       "    <tr>\n",
       "      <th>8862</th>\n",
       "      <td>13.702248</td>\n",
       "      <td>2.795682</td>\n",
       "      <td>3.535425</td>\n",
       "      <td>0.613200</td>\n",
       "      <td>-0.609903</td>\n",
       "      <td>0.168843</td>\n",
       "      <td>-0.631466</td>\n",
       "      <td>1.994288</td>\n",
       "      <td>0.002208</td>\n",
       "      <td>-0.535416</td>\n",
       "    </tr>\n",
       "    <tr>\n",
       "      <th>8863</th>\n",
       "      <td>6.410565</td>\n",
       "      <td>0.445798</td>\n",
       "      <td>3.993229</td>\n",
       "      <td>-0.727641</td>\n",
       "      <td>-0.243227</td>\n",
       "      <td>-0.268344</td>\n",
       "      <td>0.408523</td>\n",
       "      <td>-0.216509</td>\n",
       "      <td>-0.116987</td>\n",
       "      <td>-0.445043</td>\n",
       "    </tr>\n",
       "    <tr>\n",
       "      <th>8864</th>\n",
       "      <td>9.362808</td>\n",
       "      <td>1.313614</td>\n",
       "      <td>3.986942</td>\n",
       "      <td>0.981527</td>\n",
       "      <td>-0.660367</td>\n",
       "      <td>1.315534</td>\n",
       "      <td>0.005487</td>\n",
       "      <td>1.181605</td>\n",
       "      <td>-0.090290</td>\n",
       "      <td>-0.345696</td>\n",
       "    </tr>\n",
       "    <tr>\n",
       "      <th>8865</th>\n",
       "      <td>8.501811</td>\n",
       "      <td>0.557086</td>\n",
       "      <td>3.998331</td>\n",
       "      <td>-1.280458</td>\n",
       "      <td>-0.215959</td>\n",
       "      <td>-0.098141</td>\n",
       "      <td>0.535263</td>\n",
       "      <td>-0.019671</td>\n",
       "      <td>-0.154929</td>\n",
       "      <td>-0.252435</td>\n",
       "    </tr>\n",
       "    <tr>\n",
       "      <th>8866</th>\n",
       "      <td>17.797601</td>\n",
       "      <td>3.691533</td>\n",
       "      <td>-0.381549</td>\n",
       "      <td>0.498348</td>\n",
       "      <td>-0.859073</td>\n",
       "      <td>1.715982</td>\n",
       "      <td>0.186125</td>\n",
       "      <td>2.359774</td>\n",
       "      <td>0.966128</td>\n",
       "      <td>0.152523</td>\n",
       "    </tr>\n",
       "  </tbody>\n",
       "</table>\n",
       "<p>8867 rows × 10 columns</p>\n",
       "</div>"
      ],
      "text/plain": [
       "      House dynamics  House Status  Fully Furnished Essentials  \\\n",
       "0          -0.775051      0.244479                   -0.339110   \n",
       "1          -0.982165      1.197008                    0.101872   \n",
       "2          -0.724337     -0.510160                   -0.351610   \n",
       "3          -0.760820     -0.550258                   -0.265031   \n",
       "4          -0.718320     -0.548206                   -0.349487   \n",
       "...              ...           ...                         ...   \n",
       "8862       13.702248      2.795682                    3.535425   \n",
       "8863        6.410565      0.445798                    3.993229   \n",
       "8864        9.362808      1.313614                    3.986942   \n",
       "8865        8.501811      0.557086                    3.998331   \n",
       "8866       17.797601      3.691533                   -0.381549   \n",
       "\n",
       "      Premium Lifestyle Amenities  Convenient Neighborhood Services  \\\n",
       "0                       -1.598730                         -0.118502   \n",
       "1                       -1.286364                         -0.268209   \n",
       "2                       -0.968535                          3.906520   \n",
       "3                       -0.228875                         -0.138472   \n",
       "4                        0.347172                          0.153181   \n",
       "...                           ...                               ...   \n",
       "8862                     0.613200                         -0.609903   \n",
       "8863                    -0.727641                         -0.243227   \n",
       "8864                     0.981527                         -0.660367   \n",
       "8865                    -1.280458                         -0.215959   \n",
       "8866                     0.498348                         -0.859073   \n",
       "\n",
       "      Recreational and Social Hub  Efficient Infrastructure Services  \\\n",
       "0                       -0.309949                           1.027567   \n",
       "1                       -0.314484                          -1.581264   \n",
       "2                       -0.564554                           0.411690   \n",
       "3                        0.271288                          -2.198463   \n",
       "4                        0.504245                           0.451667   \n",
       "...                           ...                                ...   \n",
       "8862                     0.168843                          -0.631466   \n",
       "8863                    -0.268344                           0.408523   \n",
       "8864                     1.315534                           0.005487   \n",
       "8865                    -0.098141                           0.535263   \n",
       "8866                     1.715982                           0.186125   \n",
       "\n",
       "      Modern Comfort and Convenience    Sports     Staff  \n",
       "0                          -0.153160  0.296538 -0.126421  \n",
       "1                           1.264598 -0.283176  0.180845  \n",
       "2                           0.680239 -1.883585 -0.847601  \n",
       "3                          -0.714652 -0.088757 -0.345995  \n",
       "4                          -0.007828  1.322632 -0.261523  \n",
       "...                              ...       ...       ...  \n",
       "8862                        1.994288  0.002208 -0.535416  \n",
       "8863                       -0.216509 -0.116987 -0.445043  \n",
       "8864                        1.181605 -0.090290 -0.345696  \n",
       "8865                       -0.019671 -0.154929 -0.252435  \n",
       "8866                        2.359774  0.966128  0.152523  \n",
       "\n",
       "[8867 rows x 10 columns]"
      ]
     },
     "execution_count": 114,
     "metadata": {},
     "output_type": "execute_result"
    }
   ],
   "source": [
    "df_merged = pd.concat([fscore_data1,fscore_data], axis=1)\n",
    "df_merged"
   ]
  },
  {
   "cell_type": "code",
   "execution_count": 102,
   "id": "387b7e16",
   "metadata": {},
   "outputs": [
    {
     "data": {
      "text/plain": [
       "0.9305327627392994"
      ]
     },
     "execution_count": 102,
     "metadata": {},
     "output_type": "execute_result"
    }
   ],
   "source": [
    "df_merged['Premium Lifestyle Amenities'].std()"
   ]
  },
  {
   "cell_type": "code",
   "execution_count": 103,
   "id": "04e5e765",
   "metadata": {},
   "outputs": [],
   "source": [
    "X_fact = df_merged.copy()"
   ]
  },
  {
   "cell_type": "markdown",
   "id": "249fee48",
   "metadata": {},
   "source": [
    "### Train test split"
   ]
  },
  {
   "cell_type": "code",
   "execution_count": 104,
   "id": "f87c8fe6",
   "metadata": {},
   "outputs": [],
   "source": [
    "X_train, X_test, y_train, y_test = train_test_split(X_fact, y, random_state=0, test_size=.2)"
   ]
  },
  {
   "cell_type": "markdown",
   "id": "487bf3a5",
   "metadata": {},
   "source": [
    "### Linear Regression"
   ]
  },
  {
   "cell_type": "markdown",
   "id": "8c347240",
   "metadata": {},
   "source": [
    "#### LR2"
   ]
  },
  {
   "cell_type": "code",
   "execution_count": 105,
   "id": "fc232a15",
   "metadata": {},
   "outputs": [
    {
     "data": {
      "text/plain": [
       "LinearRegression()"
      ]
     },
     "execution_count": 105,
     "metadata": {},
     "output_type": "execute_result"
    }
   ],
   "source": [
    "lr1 = LinearRegression()\n",
    "lr1.fit(X_train, y_train)"
   ]
  },
  {
   "cell_type": "code",
   "execution_count": 106,
   "id": "7f20859e",
   "metadata": {
    "scrolled": true
   },
   "outputs": [
    {
     "data": {
      "text/html": [
       "<div>\n",
       "<style scoped>\n",
       "    .dataframe tbody tr th:only-of-type {\n",
       "        vertical-align: middle;\n",
       "    }\n",
       "\n",
       "    .dataframe tbody tr th {\n",
       "        vertical-align: top;\n",
       "    }\n",
       "\n",
       "    .dataframe thead th {\n",
       "        text-align: right;\n",
       "    }\n",
       "</style>\n",
       "<table border=\"1\" class=\"dataframe\">\n",
       "  <thead>\n",
       "    <tr style=\"text-align: right;\">\n",
       "      <th></th>\n",
       "      <th>Actual</th>\n",
       "      <th>Predicted</th>\n",
       "    </tr>\n",
       "  </thead>\n",
       "  <tbody>\n",
       "    <tr>\n",
       "      <th>8132</th>\n",
       "      <td>25000000.0</td>\n",
       "      <td>5.488036e+07</td>\n",
       "    </tr>\n",
       "    <tr>\n",
       "      <th>6137</th>\n",
       "      <td>33500000.0</td>\n",
       "      <td>4.648017e+07</td>\n",
       "    </tr>\n",
       "    <tr>\n",
       "      <th>3327</th>\n",
       "      <td>17500000.0</td>\n",
       "      <td>1.012435e+07</td>\n",
       "    </tr>\n",
       "    <tr>\n",
       "      <th>7969</th>\n",
       "      <td>39900000.0</td>\n",
       "      <td>4.850450e+07</td>\n",
       "    </tr>\n",
       "    <tr>\n",
       "      <th>6645</th>\n",
       "      <td>38300000.0</td>\n",
       "      <td>4.556497e+07</td>\n",
       "    </tr>\n",
       "  </tbody>\n",
       "</table>\n",
       "</div>"
      ],
      "text/plain": [
       "          Actual     Predicted\n",
       "8132  25000000.0  5.488036e+07\n",
       "6137  33500000.0  4.648017e+07\n",
       "3327  17500000.0  1.012435e+07\n",
       "7969  39900000.0  4.850450e+07\n",
       "6645  38300000.0  4.556497e+07"
      ]
     },
     "execution_count": 106,
     "metadata": {},
     "output_type": "execute_result"
    }
   ],
   "source": [
    "pred_lr = lr1.predict(X_test)\n",
    "diff_lr1 = pd.DataFrame({'Actual':y_test, 'Predicted': pred_lr})\n",
    "diff_lr1.head()"
   ]
  },
  {
   "cell_type": "code",
   "execution_count": 107,
   "id": "555ed3e4",
   "metadata": {
    "scrolled": true
   },
   "outputs": [
    {
     "name": "stdout",
     "output_type": "stream",
     "text": [
      "Intercept: 30370673.76462752\n",
      "\n",
      "Coefficients: [31208630.40817058  2225584.63915437  1273008.63667077 -2018586.42979743\n",
      " -1105723.14900473  1048404.87632648  -319474.70531274  -530781.6018558\n",
      " -2981557.60426166 -2059134.04741942]\n"
     ]
    }
   ],
   "source": [
    "print(\"Intercept: {}\\n\".format(lr1.intercept_))\n",
    "print(\"Coefficients: {}\".format(lr1.coef_))"
   ]
  },
  {
   "cell_type": "code",
   "execution_count": 108,
   "id": "e57c733c",
   "metadata": {},
   "outputs": [
    {
     "name": "stdout",
     "output_type": "stream",
     "text": [
      "Training Score: 0.7143600125053733\n",
      "Testing Score: 0.6680783997097264\n"
     ]
    }
   ],
   "source": [
    "print(\"Training Score: {}\".format(lr1.score(X_train, y_train)))\n",
    "print(\"Testing Score: {}\".format(lr1.score(X_test, y_test)))"
   ]
  },
  {
   "cell_type": "code",
   "execution_count": 109,
   "id": "2f4d208c",
   "metadata": {
    "scrolled": true
   },
   "outputs": [
    {
     "data": {
      "text/plain": [
       "30370673.76462752"
      ]
     },
     "execution_count": 109,
     "metadata": {},
     "output_type": "execute_result"
    }
   ],
   "source": [
    "lr1.intercept_"
   ]
  },
  {
   "cell_type": "code",
   "execution_count": 110,
   "id": "7585a21a",
   "metadata": {
    "scrolled": true
   },
   "outputs": [
    {
     "data": {
      "text/plain": [
       "array([31208630.40817058,  2225584.63915437,  1273008.63667077,\n",
       "       -2018586.42979743, -1105723.14900473,  1048404.87632648,\n",
       "        -319474.70531274,  -530781.6018558 , -2981557.60426166,\n",
       "       -2059134.04741942])"
      ]
     },
     "execution_count": 110,
     "metadata": {},
     "output_type": "execute_result"
    }
   ],
   "source": [
    "lr1.coef_"
   ]
  },
  {
   "cell_type": "code",
   "execution_count": 111,
   "id": "5efa59f5",
   "metadata": {},
   "outputs": [
    {
     "data": {
      "text/html": [
       "<div>\n",
       "<style scoped>\n",
       "    .dataframe tbody tr th:only-of-type {\n",
       "        vertical-align: middle;\n",
       "    }\n",
       "\n",
       "    .dataframe tbody tr th {\n",
       "        vertical-align: top;\n",
       "    }\n",
       "\n",
       "    .dataframe thead th {\n",
       "        text-align: right;\n",
       "    }\n",
       "</style>\n",
       "<table border=\"1\" class=\"dataframe\">\n",
       "  <thead>\n",
       "    <tr style=\"text-align: right;\">\n",
       "      <th></th>\n",
       "      <th>House dynamics</th>\n",
       "      <th>House Status</th>\n",
       "      <th>Fully Furnished Essentials</th>\n",
       "      <th>Premium Lifestyle Amenities</th>\n",
       "      <th>Convenient Neighborhood Services</th>\n",
       "      <th>Recreational and Social Hub</th>\n",
       "      <th>Efficient Infrastructure Services</th>\n",
       "      <th>Modern Comfort and Convenience</th>\n",
       "      <th>Sports</th>\n",
       "      <th>Staff</th>\n",
       "    </tr>\n",
       "  </thead>\n",
       "  <tbody>\n",
       "    <tr>\n",
       "      <th>0</th>\n",
       "      <td>-0.775051</td>\n",
       "      <td>0.244479</td>\n",
       "      <td>-0.339110</td>\n",
       "      <td>-1.598730</td>\n",
       "      <td>-0.118502</td>\n",
       "      <td>-0.309949</td>\n",
       "      <td>1.027567</td>\n",
       "      <td>-0.153160</td>\n",
       "      <td>0.296538</td>\n",
       "      <td>-0.126421</td>\n",
       "    </tr>\n",
       "    <tr>\n",
       "      <th>1</th>\n",
       "      <td>-0.982165</td>\n",
       "      <td>1.197008</td>\n",
       "      <td>0.101872</td>\n",
       "      <td>-1.286364</td>\n",
       "      <td>-0.268209</td>\n",
       "      <td>-0.314484</td>\n",
       "      <td>-1.581264</td>\n",
       "      <td>1.264598</td>\n",
       "      <td>-0.283176</td>\n",
       "      <td>0.180845</td>\n",
       "    </tr>\n",
       "    <tr>\n",
       "      <th>2</th>\n",
       "      <td>-0.724337</td>\n",
       "      <td>-0.510160</td>\n",
       "      <td>-0.351610</td>\n",
       "      <td>-0.968535</td>\n",
       "      <td>3.906520</td>\n",
       "      <td>-0.564554</td>\n",
       "      <td>0.411690</td>\n",
       "      <td>0.680239</td>\n",
       "      <td>-1.883585</td>\n",
       "      <td>-0.847601</td>\n",
       "    </tr>\n",
       "    <tr>\n",
       "      <th>3</th>\n",
       "      <td>-0.760820</td>\n",
       "      <td>-0.550258</td>\n",
       "      <td>-0.265031</td>\n",
       "      <td>-0.228875</td>\n",
       "      <td>-0.138472</td>\n",
       "      <td>0.271288</td>\n",
       "      <td>-2.198463</td>\n",
       "      <td>-0.714652</td>\n",
       "      <td>-0.088757</td>\n",
       "      <td>-0.345995</td>\n",
       "    </tr>\n",
       "    <tr>\n",
       "      <th>4</th>\n",
       "      <td>-0.718320</td>\n",
       "      <td>-0.548206</td>\n",
       "      <td>-0.349487</td>\n",
       "      <td>0.347172</td>\n",
       "      <td>0.153181</td>\n",
       "      <td>0.504245</td>\n",
       "      <td>0.451667</td>\n",
       "      <td>-0.007828</td>\n",
       "      <td>1.322632</td>\n",
       "      <td>-0.261523</td>\n",
       "    </tr>\n",
       "    <tr>\n",
       "      <th>...</th>\n",
       "      <td>...</td>\n",
       "      <td>...</td>\n",
       "      <td>...</td>\n",
       "      <td>...</td>\n",
       "      <td>...</td>\n",
       "      <td>...</td>\n",
       "      <td>...</td>\n",
       "      <td>...</td>\n",
       "      <td>...</td>\n",
       "      <td>...</td>\n",
       "    </tr>\n",
       "    <tr>\n",
       "      <th>8862</th>\n",
       "      <td>13.702248</td>\n",
       "      <td>2.795682</td>\n",
       "      <td>3.535425</td>\n",
       "      <td>0.613200</td>\n",
       "      <td>-0.609903</td>\n",
       "      <td>0.168843</td>\n",
       "      <td>-0.631466</td>\n",
       "      <td>1.994288</td>\n",
       "      <td>0.002208</td>\n",
       "      <td>-0.535416</td>\n",
       "    </tr>\n",
       "    <tr>\n",
       "      <th>8863</th>\n",
       "      <td>6.410565</td>\n",
       "      <td>0.445798</td>\n",
       "      <td>3.993229</td>\n",
       "      <td>-0.727641</td>\n",
       "      <td>-0.243227</td>\n",
       "      <td>-0.268344</td>\n",
       "      <td>0.408523</td>\n",
       "      <td>-0.216509</td>\n",
       "      <td>-0.116987</td>\n",
       "      <td>-0.445043</td>\n",
       "    </tr>\n",
       "    <tr>\n",
       "      <th>8864</th>\n",
       "      <td>9.362808</td>\n",
       "      <td>1.313614</td>\n",
       "      <td>3.986942</td>\n",
       "      <td>0.981527</td>\n",
       "      <td>-0.660367</td>\n",
       "      <td>1.315534</td>\n",
       "      <td>0.005487</td>\n",
       "      <td>1.181605</td>\n",
       "      <td>-0.090290</td>\n",
       "      <td>-0.345696</td>\n",
       "    </tr>\n",
       "    <tr>\n",
       "      <th>8865</th>\n",
       "      <td>8.501811</td>\n",
       "      <td>0.557086</td>\n",
       "      <td>3.998331</td>\n",
       "      <td>-1.280458</td>\n",
       "      <td>-0.215959</td>\n",
       "      <td>-0.098141</td>\n",
       "      <td>0.535263</td>\n",
       "      <td>-0.019671</td>\n",
       "      <td>-0.154929</td>\n",
       "      <td>-0.252435</td>\n",
       "    </tr>\n",
       "    <tr>\n",
       "      <th>8866</th>\n",
       "      <td>17.797601</td>\n",
       "      <td>3.691533</td>\n",
       "      <td>-0.381549</td>\n",
       "      <td>0.498348</td>\n",
       "      <td>-0.859073</td>\n",
       "      <td>1.715982</td>\n",
       "      <td>0.186125</td>\n",
       "      <td>2.359774</td>\n",
       "      <td>0.966128</td>\n",
       "      <td>0.152523</td>\n",
       "    </tr>\n",
       "  </tbody>\n",
       "</table>\n",
       "<p>8867 rows × 10 columns</p>\n",
       "</div>"
      ],
      "text/plain": [
       "      House dynamics  House Status  Fully Furnished Essentials  \\\n",
       "0          -0.775051      0.244479                   -0.339110   \n",
       "1          -0.982165      1.197008                    0.101872   \n",
       "2          -0.724337     -0.510160                   -0.351610   \n",
       "3          -0.760820     -0.550258                   -0.265031   \n",
       "4          -0.718320     -0.548206                   -0.349487   \n",
       "...              ...           ...                         ...   \n",
       "8862       13.702248      2.795682                    3.535425   \n",
       "8863        6.410565      0.445798                    3.993229   \n",
       "8864        9.362808      1.313614                    3.986942   \n",
       "8865        8.501811      0.557086                    3.998331   \n",
       "8866       17.797601      3.691533                   -0.381549   \n",
       "\n",
       "      Premium Lifestyle Amenities  Convenient Neighborhood Services  \\\n",
       "0                       -1.598730                         -0.118502   \n",
       "1                       -1.286364                         -0.268209   \n",
       "2                       -0.968535                          3.906520   \n",
       "3                       -0.228875                         -0.138472   \n",
       "4                        0.347172                          0.153181   \n",
       "...                           ...                               ...   \n",
       "8862                     0.613200                         -0.609903   \n",
       "8863                    -0.727641                         -0.243227   \n",
       "8864                     0.981527                         -0.660367   \n",
       "8865                    -1.280458                         -0.215959   \n",
       "8866                     0.498348                         -0.859073   \n",
       "\n",
       "      Recreational and Social Hub  Efficient Infrastructure Services  \\\n",
       "0                       -0.309949                           1.027567   \n",
       "1                       -0.314484                          -1.581264   \n",
       "2                       -0.564554                           0.411690   \n",
       "3                        0.271288                          -2.198463   \n",
       "4                        0.504245                           0.451667   \n",
       "...                           ...                                ...   \n",
       "8862                     0.168843                          -0.631466   \n",
       "8863                    -0.268344                           0.408523   \n",
       "8864                     1.315534                           0.005487   \n",
       "8865                    -0.098141                           0.535263   \n",
       "8866                     1.715982                           0.186125   \n",
       "\n",
       "      Modern Comfort and Convenience    Sports     Staff  \n",
       "0                          -0.153160  0.296538 -0.126421  \n",
       "1                           1.264598 -0.283176  0.180845  \n",
       "2                           0.680239 -1.883585 -0.847601  \n",
       "3                          -0.714652 -0.088757 -0.345995  \n",
       "4                          -0.007828  1.322632 -0.261523  \n",
       "...                              ...       ...       ...  \n",
       "8862                        1.994288  0.002208 -0.535416  \n",
       "8863                       -0.216509 -0.116987 -0.445043  \n",
       "8864                        1.181605 -0.090290 -0.345696  \n",
       "8865                       -0.019671 -0.154929 -0.252435  \n",
       "8866                        2.359774  0.966128  0.152523  \n",
       "\n",
       "[8867 rows x 10 columns]"
      ]
     },
     "execution_count": 111,
     "metadata": {},
     "output_type": "execute_result"
    }
   ],
   "source": [
    "X_fact"
   ]
  },
  {
   "cell_type": "code",
   "execution_count": 112,
   "id": "6b7d67f2",
   "metadata": {},
   "outputs": [
    {
     "name": "stdout",
     "output_type": "stream",
     "text": [
      " House dynamics: 0.8525277871855907\n",
      " House Status: 0.04966101680861978\n",
      " Fully Furnished Essentials: 0.03473743001352761\n",
      " Premium Lifestyle Amenities: -0.05248571927838486\n",
      " Convenient Neighborhood Services: -0.029218753457542684\n",
      " Recreational and Social Hub: 0.02481966822687762\n",
      " Efficient Infrastructure Services: -0.0076922053876087365\n",
      " Modern Comfort and Convenience: -0.011599336065142843\n",
      " Sports: -0.07077731732999532\n",
      " Staff: -0.04758754718746644\n"
     ]
    }
   ],
   "source": [
    "sd_x = X_fact.std()\n",
    "sd_y = y.std()\n",
    "beta_coefficients = []\n",
    "\n",
    "# Iterate through independent variables and calculate beta coefficients\n",
    "for i, col in enumerate(X_fact.columns):\n",
    "    beta = lr1.coef_[i] * (sd_x[col] / sd_y)\n",
    "    beta_coefficients.append([col, beta])\n",
    "\n",
    "# Print beta coefficients\n",
    "for var, beta in beta_coefficients:\n",
    "    print(f' {var}: {beta}')"
   ]
  },
  {
   "cell_type": "code",
   "execution_count": null,
   "id": "f4f59c98",
   "metadata": {},
   "outputs": [],
   "source": []
  },
  {
   "cell_type": "code",
   "execution_count": 115,
   "id": "fbcb442e",
   "metadata": {},
   "outputs": [],
   "source": [
    "# pd.DataFrame({'coef':lr1.coef_}, index=lr1.feature_names_in_).to_excel('secondary_coef.xlsx')"
   ]
  },
  {
   "cell_type": "markdown",
   "id": "009d3993",
   "metadata": {},
   "source": [
    "### Checking Assumptions of Linear regression"
   ]
  },
  {
   "cell_type": "markdown",
   "id": "1ed15ea5",
   "metadata": {},
   "source": [
    "#### Normality of residuals"
   ]
  },
  {
   "cell_type": "code",
   "execution_count": 116,
   "id": "884ffc86",
   "metadata": {},
   "outputs": [],
   "source": [
    "residuals_lr = y_test - pred_lr"
   ]
  },
  {
   "cell_type": "code",
   "execution_count": 117,
   "id": "1035da1a",
   "metadata": {},
   "outputs": [
    {
     "data": {
      "text/plain": [
       "8780   -7.782290e+07\n",
       "8753   -7.415890e+07\n",
       "7369   -6.924976e+07\n",
       "6601   -6.898940e+07\n",
       "6605   -6.813651e+07\n",
       "            ...     \n",
       "8690    1.139290e+08\n",
       "7193    1.163465e+08\n",
       "8667    1.323798e+08\n",
       "8682    1.392929e+08\n",
       "8853    1.675193e+08\n",
       "Name: Price, Length: 1771, dtype: float64"
      ]
     },
     "execution_count": 117,
     "metadata": {},
     "output_type": "execute_result"
    }
   ],
   "source": [
    "sorted_vals = residuals_lr.sort_values()\n",
    "residual1 = sorted_vals.iloc[3:]\n",
    "residual1"
   ]
  },
  {
   "cell_type": "code",
   "execution_count": 118,
   "id": "184e2810",
   "metadata": {},
   "outputs": [
    {
     "data": {
      "image/png": "[encoded data removed]",
      "text/plain": [
       "<Figure size 432x288 with 1 Axes>"
      ]
     },
     "execution_count": 118,
     "metadata": {},
     "output_type": "execute_result"
    },
    {
     "data": {
      "image/png": "[encoded data removed]",
      "text/plain": [
       "<Figure size 432x288 with 1 Axes>"
      ]
     },
     "metadata": {
      "needs_background": "light"
     },
     "output_type": "display_data"
    }
   ],
   "source": [
    "qqplot(residual1, line = 's')"
   ]
  },
  {
   "cell_type": "code",
   "execution_count": 119,
   "id": "28361a7f",
   "metadata": {},
   "outputs": [
    {
     "data": {
      "text/plain": [
       "<AxesSubplot:xlabel='Price', ylabel='Density'>"
      ]
     },
     "execution_count": 119,
     "metadata": {},
     "output_type": "execute_result"
    },
    {
     "data": {
      "image/png": "[encoded data removed]",
      "text/plain": [
       "<Figure size 432x288 with 1 Axes>"
      ]
     },
     "metadata": {
      "needs_background": "light"
     },
     "output_type": "display_data"
    }
   ],
   "source": [
    "sns.distplot(residual1)"
   ]
  },
  {
   "cell_type": "code",
   "execution_count": 120,
   "id": "aca0a270",
   "metadata": {},
   "outputs": [
    {
     "data": {
      "text/plain": [
       "-376473.6402253115"
      ]
     },
     "execution_count": 120,
     "metadata": {},
     "output_type": "execute_result"
    }
   ],
   "source": [
    "residual1.mean()"
   ]
  },
  {
   "cell_type": "code",
   "execution_count": 121,
   "id": "d3a36bd8",
   "metadata": {},
   "outputs": [
    {
     "name": "stdout",
     "output_type": "stream",
     "text": [
      "Shapiro-Wilk test for normality of WorkingHour:\n",
      "Statistics = 0.7339839935302734, p-value = 0.0\n",
      "The distribution is not normal\n"
     ]
    }
   ],
   "source": [
    "stat, p = shapiro(residuals_lr)\n",
    "print('Shapiro-Wilk test for normality of WorkingHour:')\n",
    "print(f'Statistics = {stat}, p-value = {p}')\n",
    "if p > 0.05:\n",
    "    print('The distribution is normal')\n",
    "else:\n",
    "    print('The distribution is not normal')"
   ]
  },
  {
   "cell_type": "markdown",
   "id": "92c7a73f",
   "metadata": {},
   "source": [
    "### Homoscedasticity"
   ]
  },
  {
   "cell_type": "code",
   "execution_count": 122,
   "id": "02326359",
   "metadata": {},
   "outputs": [
    {
     "data": {
      "text/plain": [
       "<AxesSubplot:xlabel='Price', ylabel='Price'>"
      ]
     },
     "execution_count": 122,
     "metadata": {},
     "output_type": "execute_result"
    },
    {
     "data": {
      "image/png": "[encoded data removed]",
      "text/plain": [
       "<Figure size 432x288 with 1 Axes>"
      ]
     },
     "metadata": {
      "needs_background": "light"
     },
     "output_type": "display_data"
    }
   ],
   "source": [
    "sns.scatterplot(residuals_lr, y_test)"
   ]
  },
  {
   "cell_type": "code",
   "execution_count": 123,
   "id": "c322c97d",
   "metadata": {},
   "outputs": [
    {
     "data": {
      "text/plain": [
       "8132   -2.988036e+07\n",
       "6137   -1.298017e+07\n",
       "3327    7.375652e+06\n",
       "7969   -8.604503e+06\n",
       "6645   -7.264967e+06\n",
       "            ...     \n",
       "5449   -6.715940e+06\n",
       "8585    2.903243e+07\n",
       "3444   -2.225446e+07\n",
       "1081    1.493821e+07\n",
       "7968   -2.370822e+07\n",
       "Name: Price, Length: 1774, dtype: float64"
      ]
     },
     "execution_count": 123,
     "metadata": {},
     "output_type": "execute_result"
    }
   ],
   "source": [
    "residuals_lr"
   ]
  },
  {
   "cell_type": "markdown",
   "id": "0493b031",
   "metadata": {},
   "source": [
    "### Ridge Regression"
   ]
  },
  {
   "cell_type": "code",
   "execution_count": 124,
   "id": "6634480d",
   "metadata": {},
   "outputs": [
    {
     "name": "stdout",
     "output_type": "stream",
     "text": [
      "House Price\n",
      "Ridge regression intercept: 30370090.322072715\n",
      "Ridge regression coefficients: [31108872.67417666  2205021.92492408  1288612.47941205 -2009308.62948872\n",
      " -1104224.08689012  1054779.36819916  -317902.05382234  -524688.55960304\n",
      " -2961646.48856487 -2041590.22534019]\n",
      "Training score 0.714\n",
      "Testing score 0.669\n"
     ]
    }
   ],
   "source": [
    "from sklearn.linear_model import Ridge\n",
    "\n",
    "ridreg = Ridge(alpha=20.0).fit(X_train, y_train)\n",
    "print('House Price')\n",
    "print('Ridge regression intercept:', ridreg.intercept_)\n",
    "print('Ridge regression coefficients:', ridreg.coef_)\n",
    "print('Training score {:.3f}'.format(ridreg.score(X_train, y_train)))\n",
    "print('Testing score {:.3f}'.format(ridreg.score(X_test, y_test)))"
   ]
  },
  {
   "cell_type": "code",
   "execution_count": 125,
   "id": "0e8efa4c",
   "metadata": {},
   "outputs": [
    {
     "name": "stdout",
     "output_type": "stream",
     "text": [
      "Alpha : 0.00\n",
      "number of non-zero features: 10 r_sq_train: 0.7144, r_sq_test: 0.6681\n",
      "\n",
      "Alpha : 1.00\n",
      "number of non-zero features: 10 r_sq_train: 0.7144, r_sq_test: 0.6681\n",
      "\n",
      "Alpha : 10.00\n",
      "number of non-zero features: 10 r_sq_train: 0.7144, r_sq_test: 0.6684\n",
      "\n",
      "Alpha : 20.00\n",
      "number of non-zero features: 10 r_sq_train: 0.7144, r_sq_test: 0.6687\n",
      "\n",
      "Alpha : 50.00\n",
      "number of non-zero features: 10 r_sq_train: 0.7143, r_sq_test: 0.6696\n",
      "\n",
      "Alpha : 100.00\n",
      "number of non-zero features: 10 r_sq_train: 0.7142, r_sq_test: 0.6711\n",
      "\n",
      "Alpha : 1000.00\n",
      "number of non-zero features: 10 r_sq_train: 0.7014, r_sq_test: 0.6801\n",
      "\n",
      "Alpha : 2000.00\n",
      "number of non-zero features: 10 r_sq_train: 0.6747, r_sq_test: 0.6684\n",
      "\n"
     ]
    }
   ],
   "source": [
    "# Effect alpha regularization\n",
    "\n",
    "alpha = [0, 1, 10, 20, 50, 100, 1000, 2000]\n",
    "for i in alpha:\n",
    "    linridge = Ridge(alpha=i).fit(X_train, y_train)\n",
    "    r2_train = linridge.score(X_train, y_train)\n",
    "    r2_test = linridge.score(X_test, y_test)\n",
    "    num_coeff_big = np.sum(abs(linridge.coef_)>1.0)\n",
    "    \n",
    "    print('Alpha : {:.2f}\\nnumber of non-zero features: {} r_sq_train: {:.4f}, r_sq_test: {:.4f}\\n'.format(i,num_coeff_big,r2_train,r2_test))"
   ]
  },
  {
   "cell_type": "code",
   "execution_count": 126,
   "id": "ce0fccde",
   "metadata": {},
   "outputs": [],
   "source": [
    "ridge = Ridge(alpha=1000).fit(X_train, y_train)"
   ]
  },
  {
   "cell_type": "code",
   "execution_count": 127,
   "id": "bbda4b42",
   "metadata": {},
   "outputs": [
    {
     "data": {
      "text/plain": [
       "array([52617036.87965927, 44968962.06226154, 12654652.65577155, ...,\n",
       "       25188836.01037189,  3091907.06275677, 65930273.77266733])"
      ]
     },
     "execution_count": 127,
     "metadata": {},
     "output_type": "execute_result"
    }
   ],
   "source": [
    "pred_ridge = ridge.predict(X_test)\n",
    "pred_ridge"
   ]
  },
  {
   "cell_type": "markdown",
   "id": "05c9a926",
   "metadata": {},
   "source": [
    "### Lasso Regression"
   ]
  },
  {
   "cell_type": "code",
   "execution_count": 128,
   "id": "8a04e40e",
   "metadata": {},
   "outputs": [
    {
     "name": "stdout",
     "output_type": "stream",
     "text": [
      "House Price\n",
      "Ridge regression intercept: 30370673.63573787\n",
      "Ridge regression coefficients: [31208609.93005067  2225527.87307431  1273003.05287976 -2018576.06350091\n",
      " -1105696.407198    1048366.31247087  -319449.88391797  -530741.90546812\n",
      " -2981513.58052567 -2059095.26635088]\n",
      "Training score 0.714\n",
      "Testing score 0.668\n"
     ]
    }
   ],
   "source": [
    "from sklearn.linear_model import Lasso\n",
    "\n",
    "ridreg = Lasso(alpha=20.0).fit(X_train, y_train)\n",
    "print('House Price')\n",
    "print('Ridge regression intercept:', ridreg.intercept_)\n",
    "print('Ridge regression coefficients:', ridreg.coef_)\n",
    "print('Training score {:.3f}'.format(ridreg.score(X_train, y_train)))\n",
    "print('Testing score {:.3f}'.format(ridreg.score(X_test, y_test)))"
   ]
  },
  {
   "cell_type": "code",
   "execution_count": 129,
   "id": "43f179ae",
   "metadata": {},
   "outputs": [
    {
     "name": "stdout",
     "output_type": "stream",
     "text": [
      "Alpha: 0.50\n",
      "Train_score: 0.7144  Test_score: 0.6681\n",
      "\n",
      "Alpha: 1.00\n",
      "Train_score: 0.7144  Test_score: 0.6681\n",
      "\n",
      "Alpha: 2.00\n",
      "Train_score: 0.7144  Test_score: 0.6681\n",
      "\n",
      "Alpha: 3.00\n",
      "Train_score: 0.7144  Test_score: 0.6681\n",
      "\n",
      "Alpha: 5.00\n",
      "Train_score: 0.7144  Test_score: 0.6681\n",
      "\n",
      "Alpha: 10.00\n",
      "Train_score: 0.7144  Test_score: 0.6681\n",
      "\n",
      "Alpha: 20.00\n",
      "Train_score: 0.7144  Test_score: 0.6681\n",
      "\n",
      "Alpha: 50.00\n",
      "Train_score: 0.7144  Test_score: 0.6681\n",
      "\n",
      "Alpha: 100.00\n",
      "Train_score: 0.7144  Test_score: 0.6681\n",
      "\n",
      "Alpha: 1000.00\n",
      "Train_score: 0.7144  Test_score: 0.6681\n",
      "\n"
     ]
    }
   ],
   "source": [
    "alpha = [0.5, 1, 2, 3, 5, 10, 20, 50, 100, 1000]\n",
    "for i in alpha:\n",
    "    linlasso = Lasso(i,max_iter=10000).fit(X_train, y_train)\n",
    "    r2_train = linlasso.score(X_train, y_train)\n",
    "    r2_test = linlasso.score(X_test, y_test)\n",
    "    print('Alpha: {:.2f}\\nTrain_score: {:.4f}  Test_score: {:.4f}\\n'.format(i, r2_train, r2_test))"
   ]
  },
  {
   "cell_type": "code",
   "execution_count": 130,
   "id": "d8a6a0dc",
   "metadata": {},
   "outputs": [],
   "source": [
    "lasso = Lasso(alpha=1000).fit(X_train, y_train)"
   ]
  },
  {
   "cell_type": "code",
   "execution_count": 131,
   "id": "40874e13",
   "metadata": {},
   "outputs": [
    {
     "data": {
      "text/plain": [
       "array([54880768.89341357, 46480537.54831073, 10128525.89095608, ...,\n",
       "       25151837.17665181, -1181245.76651195, 70201272.43188529])"
      ]
     },
     "execution_count": 131,
     "metadata": {},
     "output_type": "execute_result"
    }
   ],
   "source": [
    "pred_lasso = lasso.predict(X_test)\n",
    "pred_lasso"
   ]
  },
  {
   "cell_type": "markdown",
   "id": "e86a6b5b",
   "metadata": {},
   "source": [
    "### Decision Trees"
   ]
  },
  {
   "cell_type": "markdown",
   "id": "e0f00508",
   "metadata": {},
   "source": [
    "##### Overfitted model"
   ]
  },
  {
   "cell_type": "code",
   "execution_count": 132,
   "id": "95c7c972",
   "metadata": {},
   "outputs": [
    {
     "data": {
      "text/plain": [
       "DecisionTreeRegressor(random_state=0)"
      ]
     },
     "execution_count": 132,
     "metadata": {},
     "output_type": "execute_result"
    }
   ],
   "source": [
    "DT = DecisionTreeRegressor(random_state=0)\n",
    "DT.fit(X_train, y_train)"
   ]
  },
  {
   "cell_type": "code",
   "execution_count": 133,
   "id": "dfc49bc4",
   "metadata": {},
   "outputs": [
    {
     "data": {
      "text/plain": [
       "array([25000000., 26900000., 19500000., ..., 16000000., 17408000.,\n",
       "       97500000.])"
      ]
     },
     "execution_count": 133,
     "metadata": {},
     "output_type": "execute_result"
    }
   ],
   "source": [
    "pred = DT.predict(X_test)\n",
    "pred"
   ]
  },
  {
   "cell_type": "code",
   "execution_count": 134,
   "id": "d78c40d4",
   "metadata": {},
   "outputs": [
    {
     "data": {
      "text/plain": [
       "0.9999999999997345"
      ]
     },
     "execution_count": 134,
     "metadata": {},
     "output_type": "execute_result"
    }
   ],
   "source": [
    "DT.score(X_train, y_train)"
   ]
  },
  {
   "cell_type": "code",
   "execution_count": 135,
   "id": "53b3659f",
   "metadata": {},
   "outputs": [
    {
     "data": {
      "text/plain": [
       "0.671932549973361"
      ]
     },
     "execution_count": 135,
     "metadata": {},
     "output_type": "execute_result"
    }
   ],
   "source": [
    "r2_score(y_test, pred)"
   ]
  },
  {
   "cell_type": "markdown",
   "id": "ab9f4bed",
   "metadata": {},
   "source": [
    "#### Pruning decision tree"
   ]
  },
  {
   "cell_type": "code",
   "execution_count": 136,
   "id": "16d95aa1",
   "metadata": {},
   "outputs": [
    {
     "name": "stdout",
     "output_type": "stream",
     "text": [
      "Max-depth: 1\n",
      "Trainnig_Score: 0.4345\n",
      "Testing_Score: 0.6719\n",
      "=====================================\n",
      "Max-depth: 2\n",
      "Trainnig_Score: 0.6471\n",
      "Testing_Score: 0.6719\n",
      "=====================================\n",
      "Max-depth: 3\n",
      "Trainnig_Score: 0.7412\n",
      "Testing_Score: 0.6719\n",
      "=====================================\n",
      "Max-depth: 4\n",
      "Trainnig_Score: 0.7844\n",
      "Testing_Score: 0.6719\n",
      "=====================================\n",
      "Max-depth: 5\n",
      "Trainnig_Score: 0.8126\n",
      "Testing_Score: 0.6719\n",
      "=====================================\n",
      "Max-depth: 6\n",
      "Trainnig_Score: 0.8378\n",
      "Testing_Score: 0.6719\n",
      "=====================================\n",
      "Max-depth: 7\n",
      "Trainnig_Score: 0.8574\n",
      "Testing_Score: 0.6719\n",
      "=====================================\n",
      "Max-depth: 8\n",
      "Trainnig_Score: 0.8826\n",
      "Testing_Score: 0.6719\n",
      "=====================================\n",
      "Max-depth: 9\n",
      "Trainnig_Score: 0.9022\n",
      "Testing_Score: 0.6719\n",
      "=====================================\n"
     ]
    }
   ],
   "source": [
    "# Checking model performance on different\n",
    "\n",
    "for i in range(1,10,1):\n",
    "    DT = DecisionTreeRegressor(max_depth=i, random_state=0)\n",
    "    DT.fit(X_train, y_train)\n",
    "    print(\"Max-depth: {}\\nTrainnig_Score: {:.4f}\\nTesting_Score: {:.4f}\".format(i,DT.score(X_train, y_train),r2_score(y_test, pred)))\n",
    "    print(\"=====================================\")"
   ]
  },
  {
   "cell_type": "code",
   "execution_count": 137,
   "id": "2847d3aa",
   "metadata": {},
   "outputs": [
    {
     "data": {
      "text/plain": [
       "DecisionTreeRegressor(max_depth=6, random_state=0)"
      ]
     },
     "execution_count": 137,
     "metadata": {},
     "output_type": "execute_result"
    }
   ],
   "source": [
    "DT_depth6 = DecisionTreeRegressor(random_state=0, max_depth=6)\n",
    "DT_depth6.fit(X_train, y_train)"
   ]
  },
  {
   "cell_type": "code",
   "execution_count": 138,
   "id": "e6fd8803",
   "metadata": {},
   "outputs": [
    {
     "data": {
      "text/plain": [
       "array([36000000.        , 32135884.17592593, 13350076.5389948 , ...,\n",
       "       17736773.27537923,  8722449.41268598, 61776347.90584416])"
      ]
     },
     "execution_count": 138,
     "metadata": {},
     "output_type": "execute_result"
    }
   ],
   "source": [
    "pred_dt = DT_depth6.predict(X_test)\n",
    "pred_dt"
   ]
  },
  {
   "cell_type": "code",
   "execution_count": 139,
   "id": "06255348",
   "metadata": {},
   "outputs": [
    {
     "data": {
      "image/png": "[encoded data removed]",
      "text/plain": [
       "<Figure size 720x576 with 1 Axes>"
      ]
     },
     "metadata": {
      "needs_background": "light"
     },
     "output_type": "display_data"
    }
   ],
   "source": [
    "plt.figure(figsize=(10,8))\n",
    "plt.bar(range(len(DT.feature_importances_)), DT.feature_importances_)\n",
    "plt.xticks(range(len(DT.feature_importances_)), DT.feature_names_in_, rotation=90)\n",
    "plt.title(\"Feature Importances\")\n",
    "plt.show()"
   ]
  },
  {
   "cell_type": "code",
   "execution_count": null,
   "id": "0e5a0c4c",
   "metadata": {},
   "outputs": [],
   "source": [
    "from sklearn.tree import export_graphviz\n",
    "import pydotplus\n",
    "\n",
    "# Export resulting tree to DOT source code string\n",
    "dot_data = export_graphviz(DT,\n",
    "                           feature_names=DT.feature_names_in_,\n",
    "                           out_file=None,\n",
    "                           filled=True,\n",
    "                           rounded=True)\n",
    "\n",
    "# Export to pdf\n",
    "pydot_graph = pydotplus.graph_from_dot_data(dot_data)\n",
    "pydot_graph.write_pdf('DT_max_depth5.pdf')"
   ]
  },
  {
   "cell_type": "markdown",
   "id": "32a5a75e",
   "metadata": {},
   "source": [
    "### Random forest"
   ]
  },
  {
   "cell_type": "code",
   "execution_count": null,
   "id": "8184d2b3",
   "metadata": {},
   "outputs": [],
   "source": [
    "from sklearn.ensemble import RandomForestRegressor"
   ]
  },
  {
   "cell_type": "code",
   "execution_count": null,
   "id": "3dc6b56f",
   "metadata": {},
   "outputs": [],
   "source": [
    "rf = RandomForestRegressor()\n",
    "rf.fit(X_train, y_train)"
   ]
  },
  {
   "cell_type": "code",
   "execution_count": null,
   "id": "a9671847",
   "metadata": {},
   "outputs": [],
   "source": [
    "pred_rf = rf.predict(X_test)\n",
    "pred_rf"
   ]
  },
  {
   "cell_type": "code",
   "execution_count": null,
   "id": "52d47930",
   "metadata": {},
   "outputs": [],
   "source": [
    "rf.score(X_train, y_train)"
   ]
  },
  {
   "cell_type": "code",
   "execution_count": null,
   "id": "b14992a1",
   "metadata": {},
   "outputs": [],
   "source": [
    "rf.score(X_test, y_test)"
   ]
  },
  {
   "cell_type": "markdown",
   "id": "9f32bc65",
   "metadata": {},
   "source": [
    "### Summary of all models"
   ]
  },
  {
   "cell_type": "code",
   "execution_count": null,
   "id": "fd02a8e1",
   "metadata": {},
   "outputs": [],
   "source": [
    "from sklearn.metrics import r2_score, mean_absolute_error, mean_absolute_percentage_error, mean_squared_error"
   ]
  },
  {
   "cell_type": "code",
   "execution_count": null,
   "id": "eb98ae86",
   "metadata": {},
   "outputs": [],
   "source": [
    "models = ['Linear regression', 'Ridge Regression', 'Lasso Regression', 'DecisionTree Regressor', 'Random Forest']\n",
    "l = [pred_lr,pred_ridge,pred_lasso,pred_dt,pred_rf]\n",
    "l1=[]\n",
    "for model in l:\n",
    "    l1.append({'R2 score':r2_score(y_test, model), 'MAE':mean_absolute_error(y_test, model),\n",
    "                            'MAPE':mean_absolute_percentage_error(y_test, model), \n",
    "                            'MSE':mean_squared_error(y_test, model),\n",
    "                            'RMSE':np.sqrt(mean_squared_error(y_test, model))\n",
    "                    })\n",
    "summary_models = pd.DataFrame(l1, index=models)\n",
    "summary_models"
   ]
  },
  {
   "cell_type": "code",
   "execution_count": null,
   "id": "9179a983",
   "metadata": {},
   "outputs": [],
   "source": [
    "summary_models.to_excel('Metrics/all_metric_secondary.xlsx')"
   ]
  },
  {
   "cell_type": "code",
   "execution_count": null,
   "id": "27c53555",
   "metadata": {},
   "outputs": [],
   "source": []
  },
  {
   "cell_type": "code",
   "execution_count": null,
   "id": "27bc3929",
   "metadata": {},
   "outputs": [],
   "source": []
  },
  {
   "cell_type": "code",
   "execution_count": null,
   "id": "ad997ad7",
   "metadata": {},
   "outputs": [],
   "source": []
  },
  {
   "cell_type": "code",
   "execution_count": null,
   "id": "32eded0d",
   "metadata": {},
   "outputs": [],
   "source": []
  },
  {
   "cell_type": "code",
   "execution_count": null,
   "id": "2b65e69c",
   "metadata": {},
   "outputs": [],
   "source": []
  },
  {
   "cell_type": "code",
   "execution_count": null,
   "id": "50aa9acd",
   "metadata": {},
   "outputs": [],
   "source": []
  },
  {
   "cell_type": "code",
   "execution_count": null,
   "id": "4c5a7c10",
   "metadata": {},
   "outputs": [],
   "source": []
  },
  {
   "cell_type": "code",
   "execution_count": null,
   "id": "e26eed8f",
   "metadata": {},
   "outputs": [],
   "source": []
  },
  {
   "cell_type": "code",
   "execution_count": null,
   "id": "047fa9b9",
   "metadata": {},
   "outputs": [],
   "source": []
  },
  {
   "cell_type": "code",
   "execution_count": null,
   "id": "b688bc0e",
   "metadata": {},
   "outputs": [],
   "source": []
  },
  {
   "cell_type": "code",
   "execution_count": null,
   "id": "8ee17c5a",
   "metadata": {},
   "outputs": [],
   "source": []
  },
  {
   "cell_type": "code",
   "execution_count": null,
   "id": "b45965e3",
   "metadata": {},
   "outputs": [],
   "source": []
  },
  {
   "cell_type": "code",
   "execution_count": null,
   "id": "06752888",
   "metadata": {},
   "outputs": [],
   "source": []
  },
  {
   "cell_type": "code",
   "execution_count": null,
   "id": "4f51b88e",
   "metadata": {},
   "outputs": [],
   "source": []
  },
  {
   "cell_type": "code",
   "execution_count": null,
   "id": "0d7d4f1d",
   "metadata": {},
   "outputs": [],
   "source": []
  },
  {
   "cell_type": "code",
   "execution_count": null,
   "id": "04aba480",
   "metadata": {},
   "outputs": [],
   "source": []
  },
  {
   "cell_type": "code",
   "execution_count": null,
   "id": "9d70b18b",
   "metadata": {},
   "outputs": [],
   "source": []
  }
 ],
 "metadata": {
  "kernelspec": {
   "display_name": "Python 3 (ipykernel)",
   "language": "python",
   "name": "python3"
  },
  "language_info": {
   "codemirror_mode": {
    "name": "ipython",
    "version": 3
   },
   "file_extension": ".py",
   "mimetype": "text/x-python",
   "name": "python",
   "nbconvert_exporter": "python",
   "pygments_lexer": "ipython3",
   "version": "3.9.12"
  }
 },
 "nbformat": 4,
 "nbformat_minor": 5
}
